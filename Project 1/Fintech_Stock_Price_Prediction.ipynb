{
  "nbformat": 4,
  "nbformat_minor": 0,
  "metadata": {
    "colab": {
      "name": "Fintech Stock Price Prediction.ipynb",
      "provenance": [],
      "collapsed_sections": []
    },
    "kernelspec": {
      "name": "python3",
      "display_name": "Python 3"
    }
  },
  "cells": [
    {
      "cell_type": "code",
      "metadata": {
        "id": "i9KVhHqPoHCt",
        "outputId": "be7c0a2d-9290-4238-a9a0-a8f5bb9314be",
        "colab": {
          "base_uri": "https://localhost:8080/",
          "height": 71
        }
      },
      "source": [
        "from pandas_datareader import data\n",
        "import matplotlib.pyplot as plt\n",
        "import pandas as pd\n",
        "import datetime as dt\n",
        "import urllib.request, json\n",
        "import os\n",
        "import numpy as np\n",
        "import tensorflow as tf \n",
        "from sklearn.preprocessing import MinMaxScaler\n",
        "import pandas_datareader.data as web\n",
        "from datetime import datetime, timedelta\n",
        "import pandas as pd\n",
        "import matplotlib.pyplot as plt\n",
        "\n",
        "from statsmodels.graphics.tsaplots import plot_acf, plot_pacf\n",
        "import numpy as np\n",
        "from pandas import read_csv\n",
        "from statsmodels.tsa.stattools import adfuller"
      ],
      "execution_count": null,
      "outputs": [
        {
          "output_type": "stream",
          "text": [
            "/usr/local/lib/python3.6/dist-packages/statsmodels/tools/_testing.py:19: FutureWarning: pandas.util.testing is deprecated. Use the functions in the public API at pandas.testing instead.\n",
            "  import pandas.util.testing as tm\n"
          ],
          "name": "stderr"
        }
      ]
    },
    {
      "cell_type": "code",
      "metadata": {
        "id": "QfJ9pp41oLwp",
        "outputId": "417a9dcd-6f18-488c-cd7e-1249a9cb73ed",
        "colab": {
          "resources": {
            "http://localhost:8080/nbextensions/google.colab/files.js": {
              "data": "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",
              "ok": true,
              "headers": [
                [
                  "content-type",
                  "application/javascript"
                ]
              ],
              "status": 200,
              "status_text": ""
            }
          },
          "base_uri": "https://localhost:8080/",
          "height": 72
        }
      },
      "source": [
        "from google.colab import files\n",
        "uploaded = files.upload()"
      ],
      "execution_count": null,
      "outputs": [
        {
          "output_type": "display_data",
          "data": {
            "text/html": [
              "\n",
              "     <input type=\"file\" id=\"files-70589463-bc9f-4674-8a8a-ae432c40191e\" name=\"files[]\" multiple disabled\n",
              "        style=\"border:none\" />\n",
              "     <output id=\"result-70589463-bc9f-4674-8a8a-ae432c40191e\">\n",
              "      Upload widget is only available when the cell has been executed in the\n",
              "      current browser session. Please rerun this cell to enable.\n",
              "      </output>\n",
              "      <script src=\"/nbextensions/google.colab/files.js\"></script> "
            ],
            "text/plain": [
              "<IPython.core.display.HTML object>"
            ]
          },
          "metadata": {
            "tags": []
          }
        },
        {
          "output_type": "stream",
          "text": [
            "Saving Sample_Submission.csv to Sample_Submission.csv\n"
          ],
          "name": "stdout"
        }
      ]
    },
    {
      "cell_type": "code",
      "metadata": {
        "id": "XyUolX9mDdO-"
      },
      "source": [
        "dfans = pd.read_csv(\"Sample_Submission.csv\")"
      ],
      "execution_count": null,
      "outputs": []
    },
    {
      "cell_type": "code",
      "metadata": {
        "id": "LizLmG16DimR",
        "outputId": "7f6be99b-620e-46ae-c62b-b171eee271bb",
        "colab": {
          "base_uri": "https://localhost:8080/",
          "height": 34
        }
      },
      "source": [
        "len(dfans)"
      ],
      "execution_count": null,
      "outputs": [
        {
          "output_type": "execute_result",
          "data": {
            "text/plain": [
              "355"
            ]
          },
          "metadata": {
            "tags": []
          },
          "execution_count": 6
        }
      ]
    },
    {
      "cell_type": "code",
      "metadata": {
        "id": "ugSyv4VBbsXb",
        "outputId": "6bded505-28e9-46d9-e968-e0ba90fdc47d",
        "colab": {
          "base_uri": "https://localhost:8080/",
          "height": 419
        }
      },
      "source": [
        "dfans #DD/MM/YYYY"
      ],
      "execution_count": null,
      "outputs": [
        {
          "output_type": "execute_result",
          "data": {
            "text/html": [
              "<div>\n",
              "<style scoped>\n",
              "    .dataframe tbody tr th:only-of-type {\n",
              "        vertical-align: middle;\n",
              "    }\n",
              "\n",
              "    .dataframe tbody tr th {\n",
              "        vertical-align: top;\n",
              "    }\n",
              "\n",
              "    .dataframe thead th {\n",
              "        text-align: right;\n",
              "    }\n",
              "</style>\n",
              "<table border=\"1\" class=\"dataframe\">\n",
              "  <thead>\n",
              "    <tr style=\"text-align: right;\">\n",
              "      <th></th>\n",
              "      <th>Date</th>\n",
              "      <th>Close</th>\n",
              "    </tr>\n",
              "  </thead>\n",
              "  <tbody>\n",
              "    <tr>\n",
              "      <th>0</th>\n",
              "      <td>2/01/2019</td>\n",
              "      <td>100</td>\n",
              "    </tr>\n",
              "    <tr>\n",
              "      <th>1</th>\n",
              "      <td>3/01/2019</td>\n",
              "      <td>100</td>\n",
              "    </tr>\n",
              "    <tr>\n",
              "      <th>2</th>\n",
              "      <td>4/01/2019</td>\n",
              "      <td>100</td>\n",
              "    </tr>\n",
              "    <tr>\n",
              "      <th>3</th>\n",
              "      <td>7/01/2019</td>\n",
              "      <td>100</td>\n",
              "    </tr>\n",
              "    <tr>\n",
              "      <th>4</th>\n",
              "      <td>8/01/2019</td>\n",
              "      <td>100</td>\n",
              "    </tr>\n",
              "    <tr>\n",
              "      <th>...</th>\n",
              "      <td>...</td>\n",
              "      <td>...</td>\n",
              "    </tr>\n",
              "    <tr>\n",
              "      <th>350</th>\n",
              "      <td>22/05/2020</td>\n",
              "      <td>100</td>\n",
              "    </tr>\n",
              "    <tr>\n",
              "      <th>351</th>\n",
              "      <td>26/05/2020</td>\n",
              "      <td>100</td>\n",
              "    </tr>\n",
              "    <tr>\n",
              "      <th>352</th>\n",
              "      <td>27/05/2020</td>\n",
              "      <td>100</td>\n",
              "    </tr>\n",
              "    <tr>\n",
              "      <th>353</th>\n",
              "      <td>28/05/2020</td>\n",
              "      <td>100</td>\n",
              "    </tr>\n",
              "    <tr>\n",
              "      <th>354</th>\n",
              "      <td>29/05/2020</td>\n",
              "      <td>100</td>\n",
              "    </tr>\n",
              "  </tbody>\n",
              "</table>\n",
              "<p>355 rows × 2 columns</p>\n",
              "</div>"
            ],
            "text/plain": [
              "           Date  Close\n",
              "0     2/01/2019    100\n",
              "1     3/01/2019    100\n",
              "2     4/01/2019    100\n",
              "3     7/01/2019    100\n",
              "4     8/01/2019    100\n",
              "..          ...    ...\n",
              "350  22/05/2020    100\n",
              "351  26/05/2020    100\n",
              "352  27/05/2020    100\n",
              "353  28/05/2020    100\n",
              "354  29/05/2020    100\n",
              "\n",
              "[355 rows x 2 columns]"
            ]
          },
          "metadata": {
            "tags": []
          },
          "execution_count": 7
        }
      ]
    },
    {
      "cell_type": "code",
      "metadata": {
        "id": "__F5q6aJ28iz",
        "outputId": "d1dc96ad-1467-4818-b203-9393c58c4434",
        "colab": {
          "resources": {
            "http://localhost:8080/nbextensions/google.colab/files.js": {
              "data": "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",
              "ok": true,
              "headers": [
                [
                  "content-type",
                  "application/javascript"
                ]
              ],
              "status": 200,
              "status_text": ""
            }
          },
          "base_uri": "https://localhost:8080/",
          "height": 72
        }
      },
      "source": [
        "from google.colab import files\n",
        "uploaded = files.upload()"
      ],
      "execution_count": null,
      "outputs": [
        {
          "output_type": "display_data",
          "data": {
            "text/html": [
              "\n",
              "     <input type=\"file\" id=\"files-d1947f22-b020-4277-af34-6e8832a6e39d\" name=\"files[]\" multiple disabled\n",
              "        style=\"border:none\" />\n",
              "     <output id=\"result-d1947f22-b020-4277-af34-6e8832a6e39d\">\n",
              "      Upload widget is only available when the cell has been executed in the\n",
              "      current browser session. Please rerun this cell to enable.\n",
              "      </output>\n",
              "      <script src=\"/nbextensions/google.colab/files.js\"></script> "
            ],
            "text/plain": [
              "<IPython.core.display.HTML object>"
            ]
          },
          "metadata": {
            "tags": []
          }
        },
        {
          "output_type": "stream",
          "text": [
            "Saving Stock Price Data.csv to Stock Price Data.csv\n"
          ],
          "name": "stdout"
        }
      ]
    },
    {
      "cell_type": "markdown",
      "metadata": {
        "id": "UbodqqizC0jk"
      },
      "source": [
        "Exploratory data analysis "
      ]
    },
    {
      "cell_type": "code",
      "metadata": {
        "id": "gPx2xWvxoQ_u"
      },
      "source": [
        "df = pd.read_csv(\"Stock Price Data.csv\")"
      ],
      "execution_count": null,
      "outputs": []
    },
    {
      "cell_type": "code",
      "metadata": {
        "id": "22TJ1aMuEdMg",
        "outputId": "c75565dd-33a1-46df-d5a0-b96c361277bf",
        "colab": {
          "base_uri": "https://localhost:8080/",
          "height": 204
        }
      },
      "source": [
        "df.head()"
      ],
      "execution_count": null,
      "outputs": [
        {
          "output_type": "execute_result",
          "data": {
            "text/html": [
              "<div>\n",
              "<style scoped>\n",
              "    .dataframe tbody tr th:only-of-type {\n",
              "        vertical-align: middle;\n",
              "    }\n",
              "\n",
              "    .dataframe tbody tr th {\n",
              "        vertical-align: top;\n",
              "    }\n",
              "\n",
              "    .dataframe thead th {\n",
              "        text-align: right;\n",
              "    }\n",
              "</style>\n",
              "<table border=\"1\" class=\"dataframe\">\n",
              "  <thead>\n",
              "    <tr style=\"text-align: right;\">\n",
              "      <th></th>\n",
              "      <th>Date</th>\n",
              "      <th>Open</th>\n",
              "      <th>High</th>\n",
              "      <th>Low</th>\n",
              "      <th>Close</th>\n",
              "      <th>Adj Close</th>\n",
              "      <th>Volume</th>\n",
              "    </tr>\n",
              "  </thead>\n",
              "  <tbody>\n",
              "    <tr>\n",
              "      <th>0</th>\n",
              "      <td>31/12/2009</td>\n",
              "      <td>37.068000</td>\n",
              "      <td>37.131000</td>\n",
              "      <td>36.948751</td>\n",
              "      <td>36.998249</td>\n",
              "      <td>36.998249</td>\n",
              "      <td>4892780.4</td>\n",
              "    </tr>\n",
              "    <tr>\n",
              "      <th>1</th>\n",
              "      <td>4/01/2010</td>\n",
              "      <td>37.187250</td>\n",
              "      <td>37.394250</td>\n",
              "      <td>37.092751</td>\n",
              "      <td>37.234500</td>\n",
              "      <td>37.234500</td>\n",
              "      <td>7115420.4</td>\n",
              "    </tr>\n",
              "    <tr>\n",
              "      <th>2</th>\n",
              "      <td>5/01/2010</td>\n",
              "      <td>37.151249</td>\n",
              "      <td>37.275000</td>\n",
              "      <td>36.780001</td>\n",
              "      <td>37.162500</td>\n",
              "      <td>37.162500</td>\n",
              "      <td>7148180.4</td>\n",
              "    </tr>\n",
              "    <tr>\n",
              "      <th>3</th>\n",
              "      <td>6/01/2010</td>\n",
              "      <td>37.218750</td>\n",
              "      <td>37.275000</td>\n",
              "      <td>37.045501</td>\n",
              "      <td>37.133251</td>\n",
              "      <td>37.133251</td>\n",
              "      <td>4610180.4</td>\n",
              "    </tr>\n",
              "    <tr>\n",
              "      <th>4</th>\n",
              "      <td>7/01/2010</td>\n",
              "      <td>37.166999</td>\n",
              "      <td>37.263749</td>\n",
              "      <td>36.946500</td>\n",
              "      <td>37.059000</td>\n",
              "      <td>37.059000</td>\n",
              "      <td>4356020.4</td>\n",
              "    </tr>\n",
              "  </tbody>\n",
              "</table>\n",
              "</div>"
            ],
            "text/plain": [
              "         Date       Open       High        Low      Close  Adj Close     Volume\n",
              "0  31/12/2009  37.068000  37.131000  36.948751  36.998249  36.998249  4892780.4\n",
              "1   4/01/2010  37.187250  37.394250  37.092751  37.234500  37.234500  7115420.4\n",
              "2   5/01/2010  37.151249  37.275000  36.780001  37.162500  37.162500  7148180.4\n",
              "3   6/01/2010  37.218750  37.275000  37.045501  37.133251  37.133251  4610180.4\n",
              "4   7/01/2010  37.166999  37.263749  36.946500  37.059000  37.059000  4356020.4"
            ]
          },
          "metadata": {
            "tags": []
          },
          "execution_count": 6
        }
      ]
    },
    {
      "cell_type": "code",
      "metadata": {
        "id": "FVrwhl-dEffo",
        "outputId": "7a5b1cfa-0778-4da4-bbc8-b3960b944798",
        "colab": {
          "base_uri": "https://localhost:8080/",
          "height": 204
        }
      },
      "source": [
        "df.tail()"
      ],
      "execution_count": null,
      "outputs": [
        {
          "output_type": "execute_result",
          "data": {
            "text/html": [
              "<div>\n",
              "<style scoped>\n",
              "    .dataframe tbody tr th:only-of-type {\n",
              "        vertical-align: middle;\n",
              "    }\n",
              "\n",
              "    .dataframe tbody tr th {\n",
              "        vertical-align: top;\n",
              "    }\n",
              "\n",
              "    .dataframe thead th {\n",
              "        text-align: right;\n",
              "    }\n",
              "</style>\n",
              "<table border=\"1\" class=\"dataframe\">\n",
              "  <thead>\n",
              "    <tr style=\"text-align: right;\">\n",
              "      <th></th>\n",
              "      <th>Date</th>\n",
              "      <th>Open</th>\n",
              "      <th>High</th>\n",
              "      <th>Low</th>\n",
              "      <th>Close</th>\n",
              "      <th>Adj Close</th>\n",
              "      <th>Volume</th>\n",
              "    </tr>\n",
              "  </thead>\n",
              "  <tbody>\n",
              "    <tr>\n",
              "      <th>2260</th>\n",
              "      <td>24/12/2018</td>\n",
              "      <td>129.426000</td>\n",
              "      <td>132.755997</td>\n",
              "      <td>128.544003</td>\n",
              "      <td>129.597002</td>\n",
              "      <td>129.597002</td>\n",
              "      <td>4249370.4</td>\n",
              "    </tr>\n",
              "    <tr>\n",
              "      <th>2261</th>\n",
              "      <td>26/12/2018</td>\n",
              "      <td>130.667997</td>\n",
              "      <td>138.209994</td>\n",
              "      <td>130.308002</td>\n",
              "      <td>138.155997</td>\n",
              "      <td>138.155997</td>\n",
              "      <td>7299830.4</td>\n",
              "    </tr>\n",
              "    <tr>\n",
              "      <th>2262</th>\n",
              "      <td>27/12/2018</td>\n",
              "      <td>136.320003</td>\n",
              "      <td>142.079997</td>\n",
              "      <td>135.455997</td>\n",
              "      <td>142.079997</td>\n",
              "      <td>142.079997</td>\n",
              "      <td>7170950.4</td>\n",
              "    </tr>\n",
              "    <tr>\n",
              "      <th>2263</th>\n",
              "      <td>28/12/2018</td>\n",
              "      <td>142.800000</td>\n",
              "      <td>143.592004</td>\n",
              "      <td>139.749000</td>\n",
              "      <td>141.611993</td>\n",
              "      <td>141.611993</td>\n",
              "      <td>6548600.4</td>\n",
              "    </tr>\n",
              "    <tr>\n",
              "      <th>2264</th>\n",
              "      <td>31/12/2018</td>\n",
              "      <td>142.800000</td>\n",
              "      <td>144.573001</td>\n",
              "      <td>141.441005</td>\n",
              "      <td>143.673001</td>\n",
              "      <td>143.673001</td>\n",
              "      <td>4920950.4</td>\n",
              "    </tr>\n",
              "  </tbody>\n",
              "</table>\n",
              "</div>"
            ],
            "text/plain": [
              "            Date        Open        High  ...       Close   Adj Close     Volume\n",
              "2260  24/12/2018  129.426000  132.755997  ...  129.597002  129.597002  4249370.4\n",
              "2261  26/12/2018  130.667997  138.209994  ...  138.155997  138.155997  7299830.4\n",
              "2262  27/12/2018  136.320003  142.079997  ...  142.079997  142.079997  7170950.4\n",
              "2263  28/12/2018  142.800000  143.592004  ...  141.611993  141.611993  6548600.4\n",
              "2264  31/12/2018  142.800000  144.573001  ...  143.673001  143.673001  4920950.4\n",
              "\n",
              "[5 rows x 7 columns]"
            ]
          },
          "metadata": {
            "tags": []
          },
          "execution_count": 7
        }
      ]
    },
    {
      "cell_type": "code",
      "metadata": {
        "id": "DBNWaXDqoYo3"
      },
      "source": [
        "df2 = df.copy(deep = True)\n",
        "df2[\"Date\"] = pd.to_datetime(df2[\"Date\"], infer_datetime_format=True)"
      ],
      "execution_count": null,
      "outputs": []
    },
    {
      "cell_type": "code",
      "metadata": {
        "id": "cnt30u5Uoajv",
        "outputId": "12bb1bc1-73d9-4373-dd51-0bb1820d0f4d",
        "colab": {
          "base_uri": "https://localhost:8080/",
          "height": 204
        }
      },
      "source": [
        "df2.head()"
      ],
      "execution_count": null,
      "outputs": [
        {
          "output_type": "execute_result",
          "data": {
            "text/html": [
              "<div>\n",
              "<style scoped>\n",
              "    .dataframe tbody tr th:only-of-type {\n",
              "        vertical-align: middle;\n",
              "    }\n",
              "\n",
              "    .dataframe tbody tr th {\n",
              "        vertical-align: top;\n",
              "    }\n",
              "\n",
              "    .dataframe thead th {\n",
              "        text-align: right;\n",
              "    }\n",
              "</style>\n",
              "<table border=\"1\" class=\"dataframe\">\n",
              "  <thead>\n",
              "    <tr style=\"text-align: right;\">\n",
              "      <th></th>\n",
              "      <th>Date</th>\n",
              "      <th>Open</th>\n",
              "      <th>High</th>\n",
              "      <th>Low</th>\n",
              "      <th>Close</th>\n",
              "      <th>Adj Close</th>\n",
              "      <th>Volume</th>\n",
              "    </tr>\n",
              "  </thead>\n",
              "  <tbody>\n",
              "    <tr>\n",
              "      <th>0</th>\n",
              "      <td>2009-12-31</td>\n",
              "      <td>37.068000</td>\n",
              "      <td>37.131000</td>\n",
              "      <td>36.948751</td>\n",
              "      <td>36.998249</td>\n",
              "      <td>36.998249</td>\n",
              "      <td>4892780.4</td>\n",
              "    </tr>\n",
              "    <tr>\n",
              "      <th>1</th>\n",
              "      <td>2010-01-04</td>\n",
              "      <td>37.187250</td>\n",
              "      <td>37.394250</td>\n",
              "      <td>37.092751</td>\n",
              "      <td>37.234500</td>\n",
              "      <td>37.234500</td>\n",
              "      <td>7115420.4</td>\n",
              "    </tr>\n",
              "    <tr>\n",
              "      <th>2</th>\n",
              "      <td>2010-01-05</td>\n",
              "      <td>37.151249</td>\n",
              "      <td>37.275000</td>\n",
              "      <td>36.780001</td>\n",
              "      <td>37.162500</td>\n",
              "      <td>37.162500</td>\n",
              "      <td>7148180.4</td>\n",
              "    </tr>\n",
              "    <tr>\n",
              "      <th>3</th>\n",
              "      <td>2010-01-06</td>\n",
              "      <td>37.218750</td>\n",
              "      <td>37.275000</td>\n",
              "      <td>37.045501</td>\n",
              "      <td>37.133251</td>\n",
              "      <td>37.133251</td>\n",
              "      <td>4610180.4</td>\n",
              "    </tr>\n",
              "    <tr>\n",
              "      <th>4</th>\n",
              "      <td>2010-01-07</td>\n",
              "      <td>37.166999</td>\n",
              "      <td>37.263749</td>\n",
              "      <td>36.946500</td>\n",
              "      <td>37.059000</td>\n",
              "      <td>37.059000</td>\n",
              "      <td>4356020.4</td>\n",
              "    </tr>\n",
              "  </tbody>\n",
              "</table>\n",
              "</div>"
            ],
            "text/plain": [
              "        Date       Open       High        Low      Close  Adj Close     Volume\n",
              "0 2009-12-31  37.068000  37.131000  36.948751  36.998249  36.998249  4892780.4\n",
              "1 2010-01-04  37.187250  37.394250  37.092751  37.234500  37.234500  7115420.4\n",
              "2 2010-01-05  37.151249  37.275000  36.780001  37.162500  37.162500  7148180.4\n",
              "3 2010-01-06  37.218750  37.275000  37.045501  37.133251  37.133251  4610180.4\n",
              "4 2010-01-07  37.166999  37.263749  36.946500  37.059000  37.059000  4356020.4"
            ]
          },
          "metadata": {
            "tags": []
          },
          "execution_count": 14
        }
      ]
    },
    {
      "cell_type": "code",
      "metadata": {
        "id": "HE9G0YE4E_Xf"
      },
      "source": [
        "df2.set_index(df2[\"Date\"], inplace=True)"
      ],
      "execution_count": null,
      "outputs": []
    },
    {
      "cell_type": "code",
      "metadata": {
        "id": "TMhgahIcFF84",
        "outputId": "968f2f04-4776-4c43-febe-b3d5f76645c9",
        "colab": {
          "base_uri": "https://localhost:8080/",
          "height": 519
        }
      },
      "source": [
        "plt.figure(figsize=(16,8))\n",
        "plt.plot(df2[\"Close\"])\n",
        "plt.ylabel('Closing stock prices', fontsize=16)\n",
        "plt.xlabel('Date', fontsize=16)"
      ],
      "execution_count": null,
      "outputs": [
        {
          "output_type": "execute_result",
          "data": {
            "text/plain": [
              "Text(0.5, 0, 'Date')"
            ]
          },
          "metadata": {
            "tags": []
          },
          "execution_count": 16
        },
        {
          "output_type": "display_data",
          "data": {
            "image/png": "[encoded data removed]",
            "text/plain": [
              "<Figure size 1152x576 with 1 Axes>"
            ]
          },
          "metadata": {
            "tags": [],
            "needs_background": "light"
          }
        }
      ]
    },
    {
      "cell_type": "markdown",
      "metadata": {
        "id": "LTEMzeNSC8E4"
      },
      "source": [
        "From visual observation data is not stationary since closing price shows an upward trend (not constant mean), and shows a non constant standard deviation"
      ]
    },
    {
      "cell_type": "code",
      "metadata": {
        "id": "hxVP0RFcFGEk",
        "outputId": "ca4c35c1-98a9-4b47-e8da-a8ad4ddbb490",
        "colab": {
          "base_uri": "https://localhost:8080/",
          "height": 119
        }
      },
      "source": [
        "#testing for stationarity\n",
        "from statsmodels.tsa.stattools import adfuller\n",
        "X = df2[\"Close\"]\n",
        "result = adfuller(X)\n",
        "print('ADF Statistic: %f' % result[0])\n",
        "print('p-value: %f' % result[1])\n",
        "print('Critical Values:')\n",
        "for key, value in result[4].items():\n",
        "    print('\\t%s: %.3f' % (key, value))"
      ],
      "execution_count": null,
      "outputs": [
        {
          "output_type": "stream",
          "text": [
            "ADF Statistic: 0.279036\n",
            "p-value: 0.976362\n",
            "Critical Values:\n",
            "\t1%: -3.433\n",
            "\t5%: -2.863\n",
            "\t10%: -2.567\n"
          ],
          "name": "stdout"
        }
      ]
    },
    {
      "cell_type": "markdown",
      "metadata": {
        "id": "6M3L76Q3DEng"
      },
      "source": [
        "Since 0.279036 > -3.433, we do not reject null hypothesis and conclude time series is indeed non-stationary"
      ]
    },
    {
      "cell_type": "markdown",
      "metadata": {
        "id": "pNhP_ZFeDJem"
      },
      "source": [
        "Understanding volatility of next 7 days "
      ]
    },
    {
      "cell_type": "code",
      "metadata": {
        "id": "Smeujm8Pd67E",
        "outputId": "e9e1a749-b8bb-4ae3-b65e-fe950e2db63a",
        "colab": {
          "base_uri": "https://localhost:8080/",
          "height": 309
        }
      },
      "source": [
        "pip install arch"
      ],
      "execution_count": null,
      "outputs": [
        {
          "output_type": "stream",
          "text": [
            "Collecting arch\n",
            "\u001b[?25l  Downloading https://files.pythonhosted.org/packages/7f/5c/ef80e96f2cdc6c2d293b7e4688888a4428963c966fbb0c749c9078e68bb6/arch-4.15-cp36-cp36m-manylinux1_x86_64.whl (790kB)\n",
            "\r\u001b[K     |▍                               | 10kB 17.7MB/s eta 0:00:01\r\u001b[K     |▉                               | 20kB 4.3MB/s eta 0:00:01\r\u001b[K     |█▎                              | 30kB 5.0MB/s eta 0:00:01\r\u001b[K     |█▋                              | 40kB 5.7MB/s eta 0:00:01\r\u001b[K     |██                              | 51kB 4.7MB/s eta 0:00:01\r\u001b[K     |██▌                             | 61kB 4.9MB/s eta 0:00:01\r\u001b[K     |███                             | 71kB 5.4MB/s eta 0:00:01\r\u001b[K     |███▎                            | 81kB 5.9MB/s eta 0:00:01\r\u001b[K     |███▊                            | 92kB 6.3MB/s eta 0:00:01\r\u001b[K     |████▏                           | 102kB 6.1MB/s eta 0:00:01\r\u001b[K     |████▋                           | 112kB 6.1MB/s eta 0:00:01\r\u001b[K     |█████                           | 122kB 6.1MB/s eta 0:00:01\r\u001b[K     |█████▍                          | 133kB 6.1MB/s eta 0:00:01\r\u001b[K     |█████▉                          | 143kB 6.1MB/s eta 0:00:01\r\u001b[K     |██████▏                         | 153kB 6.1MB/s eta 0:00:01\r\u001b[K     |██████▋                         | 163kB 6.1MB/s eta 0:00:01\r\u001b[K     |███████                         | 174kB 6.1MB/s eta 0:00:01\r\u001b[K     |███████▌                        | 184kB 6.1MB/s eta 0:00:01\r\u001b[K     |███████▉                        | 194kB 6.1MB/s eta 0:00:01\r\u001b[K     |████████▎                       | 204kB 6.1MB/s eta 0:00:01\r\u001b[K     |████████▊                       | 215kB 6.1MB/s eta 0:00:01\r\u001b[K     |█████████▏                      | 225kB 6.1MB/s eta 0:00:01\r\u001b[K     |█████████▌                      | 235kB 6.1MB/s eta 0:00:01\r\u001b[K     |██████████                      | 245kB 6.1MB/s eta 0:00:01\r\u001b[K     |██████████▍                     | 256kB 6.1MB/s eta 0:00:01\r\u001b[K     |██████████▉                     | 266kB 6.1MB/s eta 0:00:01\r\u001b[K     |███████████▏                    | 276kB 6.1MB/s eta 0:00:01\r\u001b[K     |███████████▋                    | 286kB 6.1MB/s eta 0:00:01\r\u001b[K     |████████████                    | 296kB 6.1MB/s eta 0:00:01\r\u001b[K     |████████████▍                   | 307kB 6.1MB/s eta 0:00:01\r\u001b[K     |████████████▉                   | 317kB 6.1MB/s eta 0:00:01\r\u001b[K     |█████████████▎                  | 327kB 6.1MB/s eta 0:00:01\r\u001b[K     |█████████████▊                  | 337kB 6.1MB/s eta 0:00:01\r\u001b[K     |██████████████                  | 348kB 6.1MB/s eta 0:00:01\r\u001b[K     |██████████████▌                 | 358kB 6.1MB/s eta 0:00:01\r\u001b[K     |███████████████                 | 368kB 6.1MB/s eta 0:00:01\r\u001b[K     |███████████████▍                | 378kB 6.1MB/s eta 0:00:01\r\u001b[K     |███████████████▊                | 389kB 6.1MB/s eta 0:00:01\r\u001b[K     |████████████████▏               | 399kB 6.1MB/s eta 0:00:01\r\u001b[K     |████████████████▋               | 409kB 6.1MB/s eta 0:00:01\r\u001b[K     |█████████████████               | 419kB 6.1MB/s eta 0:00:01\r\u001b[K     |█████████████████▍              | 430kB 6.1MB/s eta 0:00:01\r\u001b[K     |█████████████████▉              | 440kB 6.1MB/s eta 0:00:01\r\u001b[K     |██████████████████▎             | 450kB 6.1MB/s eta 0:00:01\r\u001b[K     |██████████████████▋             | 460kB 6.1MB/s eta 0:00:01\r\u001b[K     |███████████████████             | 471kB 6.1MB/s eta 0:00:01\r\u001b[K     |███████████████████▌            | 481kB 6.1MB/s eta 0:00:01\r\u001b[K     |████████████████████            | 491kB 6.1MB/s eta 0:00:01\r\u001b[K     |████████████████████▎           | 501kB 6.1MB/s eta 0:00:01\r\u001b[K     |████████████████████▊           | 512kB 6.1MB/s eta 0:00:01\r\u001b[K     |█████████████████████▏          | 522kB 6.1MB/s eta 0:00:01\r\u001b[K     |█████████████████████▋          | 532kB 6.1MB/s eta 0:00:01\r\u001b[K     |██████████████████████          | 542kB 6.1MB/s eta 0:00:01\r\u001b[K     |██████████████████████▍         | 552kB 6.1MB/s eta 0:00:01\r\u001b[K     |██████████████████████▉         | 563kB 6.1MB/s eta 0:00:01\r\u001b[K     |███████████████████████▎        | 573kB 6.1MB/s eta 0:00:01\r\u001b[K     |███████████████████████▋        | 583kB 6.1MB/s eta 0:00:01\r\u001b[K     |████████████████████████        | 593kB 6.1MB/s eta 0:00:01\r\u001b[K     |████████████████████████▌       | 604kB 6.1MB/s eta 0:00:01\r\u001b[K     |████████████████████████▉       | 614kB 6.1MB/s eta 0:00:01\r\u001b[K     |█████████████████████████▎      | 624kB 6.1MB/s eta 0:00:01\r\u001b[K     |█████████████████████████▊      | 634kB 6.1MB/s eta 0:00:01\r\u001b[K     |██████████████████████████▏     | 645kB 6.1MB/s eta 0:00:01\r\u001b[K     |██████████████████████████▌     | 655kB 6.1MB/s eta 0:00:01\r\u001b[K     |███████████████████████████     | 665kB 6.1MB/s eta 0:00:01\r\u001b[K     |███████████████████████████▍    | 675kB 6.1MB/s eta 0:00:01\r\u001b[K     |███████████████████████████▉    | 686kB 6.1MB/s eta 0:00:01\r\u001b[K     |████████████████████████████▏   | 696kB 6.1MB/s eta 0:00:01\r\u001b[K     |████████████████████████████▋   | 706kB 6.1MB/s eta 0:00:01\r\u001b[K     |█████████████████████████████   | 716kB 6.1MB/s eta 0:00:01\r\u001b[K     |█████████████████████████████▍  | 727kB 6.1MB/s eta 0:00:01\r\u001b[K     |█████████████████████████████▉  | 737kB 6.1MB/s eta 0:00:01\r\u001b[K     |██████████████████████████████▎ | 747kB 6.1MB/s eta 0:00:01\r\u001b[K     |██████████████████████████████▊ | 757kB 6.1MB/s eta 0:00:01\r\u001b[K     |███████████████████████████████ | 768kB 6.1MB/s eta 0:00:01\r\u001b[K     |███████████████████████████████▌| 778kB 6.1MB/s eta 0:00:01\r\u001b[K     |████████████████████████████████| 788kB 6.1MB/s eta 0:00:01\r\u001b[K     |████████████████████████████████| 798kB 6.1MB/s \n",
            "\u001b[?25hCollecting property-cached>=1.6.3\n",
            "  Downloading https://files.pythonhosted.org/packages/5c/6c/94d8e520b20a2502e508e1c558f338061cf409cbee78fd6a3a5c6ae812bd/property_cached-1.6.4-py2.py3-none-any.whl\n",
            "Requirement already satisfied: numpy>=1.14 in /usr/local/lib/python3.6/dist-packages (from arch) (1.18.5)\n",
            "Requirement already satisfied: statsmodels>=0.9 in /usr/local/lib/python3.6/dist-packages (from arch) (0.10.2)\n",
            "Requirement already satisfied: scipy>=1.0.1 in /usr/local/lib/python3.6/dist-packages (from arch) (1.4.1)\n",
            "Requirement already satisfied: pandas>=0.23 in /usr/local/lib/python3.6/dist-packages (from arch) (1.1.2)\n",
            "Requirement already satisfied: cython>=0.29.14 in /usr/local/lib/python3.6/dist-packages (from arch) (0.29.21)\n",
            "Requirement already satisfied: patsy>=0.4.0 in /usr/local/lib/python3.6/dist-packages (from statsmodels>=0.9->arch) (0.5.1)\n",
            "Requirement already satisfied: pytz>=2017.2 in /usr/local/lib/python3.6/dist-packages (from pandas>=0.23->arch) (2018.9)\n",
            "Requirement already satisfied: python-dateutil>=2.7.3 in /usr/local/lib/python3.6/dist-packages (from pandas>=0.23->arch) (2.8.1)\n",
            "Requirement already satisfied: six in /usr/local/lib/python3.6/dist-packages (from patsy>=0.4.0->statsmodels>=0.9->arch) (1.15.0)\n",
            "Installing collected packages: property-cached, arch\n",
            "Successfully installed arch-4.15 property-cached-1.6.4\n"
          ],
          "name": "stdout"
        }
      ]
    },
    {
      "cell_type": "code",
      "metadata": {
        "id": "c_xdK8kOdwnc"
      },
      "source": [
        "from arch import arch_model\n",
        "from statsmodels.graphics.tsaplots import plot_acf, plot_pacf"
      ],
      "execution_count": null,
      "outputs": []
    },
    {
      "cell_type": "code",
      "metadata": {
        "id": "XDjrXUFncVnH"
      },
      "source": [
        "df_garch = df2.copy(deep = True)"
      ],
      "execution_count": null,
      "outputs": []
    },
    {
      "cell_type": "code",
      "metadata": {
        "id": "lDDfsmopcv_7",
        "outputId": "588475ed-d20c-495e-e11c-6aa46d691536",
        "colab": {
          "base_uri": "https://localhost:8080/",
          "height": 235
        }
      },
      "source": [
        "df_garch.head()"
      ],
      "execution_count": null,
      "outputs": [
        {
          "output_type": "execute_result",
          "data": {
            "text/html": [
              "<div>\n",
              "<style scoped>\n",
              "    .dataframe tbody tr th:only-of-type {\n",
              "        vertical-align: middle;\n",
              "    }\n",
              "\n",
              "    .dataframe tbody tr th {\n",
              "        vertical-align: top;\n",
              "    }\n",
              "\n",
              "    .dataframe thead th {\n",
              "        text-align: right;\n",
              "    }\n",
              "</style>\n",
              "<table border=\"1\" class=\"dataframe\">\n",
              "  <thead>\n",
              "    <tr style=\"text-align: right;\">\n",
              "      <th></th>\n",
              "      <th>Date</th>\n",
              "      <th>Open</th>\n",
              "      <th>High</th>\n",
              "      <th>Low</th>\n",
              "      <th>Close</th>\n",
              "      <th>Adj Close</th>\n",
              "      <th>Volume</th>\n",
              "    </tr>\n",
              "    <tr>\n",
              "      <th>Date</th>\n",
              "      <th></th>\n",
              "      <th></th>\n",
              "      <th></th>\n",
              "      <th></th>\n",
              "      <th></th>\n",
              "      <th></th>\n",
              "      <th></th>\n",
              "    </tr>\n",
              "  </thead>\n",
              "  <tbody>\n",
              "    <tr>\n",
              "      <th>2009-12-31</th>\n",
              "      <td>2009-12-31</td>\n",
              "      <td>37.068000</td>\n",
              "      <td>37.131000</td>\n",
              "      <td>36.948751</td>\n",
              "      <td>36.998249</td>\n",
              "      <td>36.998249</td>\n",
              "      <td>4892780.4</td>\n",
              "    </tr>\n",
              "    <tr>\n",
              "      <th>2010-01-04</th>\n",
              "      <td>2010-01-04</td>\n",
              "      <td>37.187250</td>\n",
              "      <td>37.394250</td>\n",
              "      <td>37.092751</td>\n",
              "      <td>37.234500</td>\n",
              "      <td>37.234500</td>\n",
              "      <td>7115420.4</td>\n",
              "    </tr>\n",
              "    <tr>\n",
              "      <th>2010-01-05</th>\n",
              "      <td>2010-01-05</td>\n",
              "      <td>37.151249</td>\n",
              "      <td>37.275000</td>\n",
              "      <td>36.780001</td>\n",
              "      <td>37.162500</td>\n",
              "      <td>37.162500</td>\n",
              "      <td>7148180.4</td>\n",
              "    </tr>\n",
              "    <tr>\n",
              "      <th>2010-01-06</th>\n",
              "      <td>2010-01-06</td>\n",
              "      <td>37.218750</td>\n",
              "      <td>37.275000</td>\n",
              "      <td>37.045501</td>\n",
              "      <td>37.133251</td>\n",
              "      <td>37.133251</td>\n",
              "      <td>4610180.4</td>\n",
              "    </tr>\n",
              "    <tr>\n",
              "      <th>2010-01-07</th>\n",
              "      <td>2010-01-07</td>\n",
              "      <td>37.166999</td>\n",
              "      <td>37.263749</td>\n",
              "      <td>36.946500</td>\n",
              "      <td>37.059000</td>\n",
              "      <td>37.059000</td>\n",
              "      <td>4356020.4</td>\n",
              "    </tr>\n",
              "  </tbody>\n",
              "</table>\n",
              "</div>"
            ],
            "text/plain": [
              "                 Date       Open       High  ...      Close  Adj Close     Volume\n",
              "Date                                         ...                                 \n",
              "2009-12-31 2009-12-31  37.068000  37.131000  ...  36.998249  36.998249  4892780.4\n",
              "2010-01-04 2010-01-04  37.187250  37.394250  ...  37.234500  37.234500  7115420.4\n",
              "2010-01-05 2010-01-05  37.151249  37.275000  ...  37.162500  37.162500  7148180.4\n",
              "2010-01-06 2010-01-06  37.218750  37.275000  ...  37.133251  37.133251  4610180.4\n",
              "2010-01-07 2010-01-07  37.166999  37.263749  ...  37.059000  37.059000  4356020.4\n",
              "\n",
              "[5 rows x 7 columns]"
            ]
          },
          "metadata": {
            "tags": []
          },
          "execution_count": 22
        }
      ]
    },
    {
      "cell_type": "code",
      "metadata": {
        "id": "wNnm6ngXcyaE"
      },
      "source": [
        "returns = (df_garch[\"Close\"].pct_change().dropna())*100"
      ],
      "execution_count": null,
      "outputs": []
    },
    {
      "cell_type": "code",
      "metadata": {
        "id": "cQ13304Ac1cd",
        "outputId": "f3e88a67-45dd-4c20-815d-a8a81070c8aa",
        "colab": {
          "base_uri": "https://localhost:8080/",
          "height": 301
        }
      },
      "source": [
        "#plotting percentage change in returns \n",
        "plt.figure(figsize=(10,4))\n",
        "plt.plot(returns)\n",
        "plt.ylabel('Pct Return', fontsize=16)\n",
        "plt.xlabel('Date', fontsize=16)"
      ],
      "execution_count": null,
      "outputs": [
        {
          "output_type": "execute_result",
          "data": {
            "text/plain": [
              "Text(0.5, 0, 'Date')"
            ]
          },
          "metadata": {
            "tags": []
          },
          "execution_count": 24
        },
        {
          "output_type": "display_data",
          "data": {
            "image/png": "[encoded data removed]",
            "text/plain": [
              "<Figure size 720x288 with 1 Axes>"
            ]
          },
          "metadata": {
            "tags": [],
            "needs_background": "light"
          }
        }
      ]
    },
    {
      "cell_type": "code",
      "metadata": {
        "id": "8C6Xv8T-c3Ee",
        "outputId": "14ae15ec-831f-4238-ad51-c998edb37e1e",
        "colab": {
          "base_uri": "https://localhost:8080/",
          "height": 281
        }
      },
      "source": [
        "#PACF\n",
        "plot_pacf(returns**2)\n",
        "plt.show()"
      ],
      "execution_count": null,
      "outputs": [
        {
          "output_type": "display_data",
          "data": {
            "image/png": "[encoded data removed]",
            "text/plain": [
              "<Figure size 432x288 with 1 Axes>"
            ]
          },
          "metadata": {
            "tags": [],
            "needs_background": "light"
          }
        }
      ]
    },
    {
      "cell_type": "code",
      "metadata": {
        "id": "T-pLTIM5c5Ib",
        "outputId": "abb4d7c9-045f-4c81-a8d5-ce46278cce2a",
        "colab": {
          "base_uri": "https://localhost:8080/",
          "height": 281
        }
      },
      "source": [
        "#ACF\n",
        "plot_acf(returns**2)\n",
        "plt.show()"
      ],
      "execution_count": null,
      "outputs": [
        {
          "output_type": "display_data",
          "data": {
            "image/png": "[encoded data removed]",
            "text/plain": [
              "<Figure size 432x288 with 1 Axes>"
            ]
          },
          "metadata": {
            "tags": [],
            "needs_background": "light"
          }
        }
      ]
    },
    {
      "cell_type": "code",
      "metadata": {
        "id": "-aI1O5wjc7u7",
        "outputId": "8d556007-03e1-4306-d3e8-8a632f472cca",
        "colab": {
          "base_uri": "https://localhost:8080/",
          "height": 674
        }
      },
      "source": [
        "model = arch_model(returns, p=1, q=1)\n",
        "model_fit = model.fit()\n",
        "model_fit.summary()"
      ],
      "execution_count": null,
      "outputs": [
        {
          "output_type": "stream",
          "text": [
            "Iteration:      1,   Func. Count:      6,   Neg. LLF: 4002.841977390306\n",
            "Iteration:      2,   Func. Count:     16,   Neg. LLF: 4002.2388558044886\n",
            "Iteration:      3,   Func. Count:     25,   Neg. LLF: 4002.0963794097993\n",
            "Iteration:      4,   Func. Count:     33,   Neg. LLF: 4001.224108445105\n",
            "Iteration:      5,   Func. Count:     40,   Neg. LLF: 4000.9381849580777\n",
            "Iteration:      6,   Func. Count:     47,   Neg. LLF: 4000.8468638426993\n",
            "Iteration:      7,   Func. Count:     53,   Neg. LLF: 4000.770758398769\n",
            "Iteration:      8,   Func. Count:     59,   Neg. LLF: 4000.753593122558\n",
            "Iteration:      9,   Func. Count:     65,   Neg. LLF: 4000.7533027790464\n",
            "Iteration:     10,   Func. Count:     71,   Neg. LLF: 4000.7533006838557\n",
            "Optimization terminated successfully.    (Exit mode 0)\n",
            "            Current function value: 4000.7533006834387\n",
            "            Iterations: 10\n",
            "            Function evaluations: 71\n",
            "            Gradient evaluations: 10\n"
          ],
          "name": "stdout"
        },
        {
          "output_type": "execute_result",
          "data": {
            "text/html": [
              "<table class=\"simpletable\">\n",
              "<caption>Constant Mean - GARCH Model Results</caption>\n",
              "<tr>\n",
              "  <th>Dep. Variable:</th>        <td>Close</td>       <th>  R-squared:         </th>  <td>  -0.001</td> \n",
              "</tr>\n",
              "<tr>\n",
              "  <th>Mean Model:</th>       <td>Constant Mean</td>   <th>  Adj. R-squared:    </th>  <td>  -0.001</td> \n",
              "</tr>\n",
              "<tr>\n",
              "  <th>Vol Model:</th>            <td>GARCH</td>       <th>  Log-Likelihood:    </th> <td>  -4000.75</td>\n",
              "</tr>\n",
              "<tr>\n",
              "  <th>Distribution:</th>        <td>Normal</td>       <th>  AIC:               </th> <td>   8009.51</td>\n",
              "</tr>\n",
              "<tr>\n",
              "  <th>Method:</th>        <td>Maximum Likelihood</td> <th>  BIC:               </th> <td>   8032.41</td>\n",
              "</tr>\n",
              "<tr>\n",
              "  <th></th>                        <td></td>          <th>  No. Observations:  </th>    <td>2264</td>   \n",
              "</tr>\n",
              "<tr>\n",
              "  <th>Date:</th>           <td>Mon, Oct 05 2020</td>  <th>  Df Residuals:      </th>    <td>2260</td>   \n",
              "</tr>\n",
              "<tr>\n",
              "  <th>Time:</th>               <td>13:57:10</td>      <th>  Df Model:          </th>      <td>4</td>    \n",
              "</tr>\n",
              "</table>\n",
              "<table class=\"simpletable\">\n",
              "<caption>Mean Model</caption>\n",
              "<tr>\n",
              "   <td></td>     <th>coef</th>     <th>std err</th>      <th>t</th>       <th>P>|t|</th>    <th>95.0% Conf. Int.</th>  \n",
              "</tr>\n",
              "<tr>\n",
              "  <th>mu</th> <td>    0.1106</td> <td>2.894e-02</td> <td>    3.823</td> <td>1.318e-04</td> <td>[5.392e-02,  0.167]</td>\n",
              "</tr>\n",
              "</table>\n",
              "<table class=\"simpletable\">\n",
              "<caption>Volatility Model</caption>\n",
              "<tr>\n",
              "      <td></td>        <th>coef</th>     <th>std err</th>      <th>t</th>       <th>P>|t|</th>     <th>95.0% Conf. Int.</th>  \n",
              "</tr>\n",
              "<tr>\n",
              "  <th>omega</th>    <td>    0.1853</td> <td>    0.155</td> <td>    1.197</td> <td>    0.231</td>   <td>[ -0.118,  0.489]</td> \n",
              "</tr>\n",
              "<tr>\n",
              "  <th>alpha[1]</th> <td>    0.1106</td> <td>7.983e-02</td> <td>    1.386</td> <td>    0.166</td> <td>[-4.583e-02,  0.267]</td>\n",
              "</tr>\n",
              "<tr>\n",
              "  <th>beta[1]</th>  <td>    0.8118</td> <td>    0.133</td> <td>    6.112</td> <td>9.856e-10</td>   <td>[  0.551,  1.072]</td> \n",
              "</tr>\n",
              "</table><br/><br/>Covariance estimator: robust"
            ],
            "text/plain": [
              "<class 'statsmodels.iolib.summary.Summary'>\n",
              "\"\"\"\n",
              "                     Constant Mean - GARCH Model Results                      \n",
              "==============================================================================\n",
              "Dep. Variable:                  Close   R-squared:                      -0.001\n",
              "Mean Model:             Constant Mean   Adj. R-squared:                 -0.001\n",
              "Vol Model:                      GARCH   Log-Likelihood:               -4000.75\n",
              "Distribution:                  Normal   AIC:                           8009.51\n",
              "Method:            Maximum Likelihood   BIC:                           8032.41\n",
              "                                        No. Observations:                 2264\n",
              "Date:                Mon, Oct 05 2020   Df Residuals:                     2260\n",
              "Time:                        13:57:10   Df Model:                            4\n",
              "                                Mean Model                                \n",
              "==========================================================================\n",
              "                 coef    std err          t      P>|t|    95.0% Conf. Int.\n",
              "--------------------------------------------------------------------------\n",
              "mu             0.1106  2.894e-02      3.823  1.318e-04 [5.392e-02,  0.167]\n",
              "                              Volatility Model                             \n",
              "===========================================================================\n",
              "                 coef    std err          t      P>|t|     95.0% Conf. Int.\n",
              "---------------------------------------------------------------------------\n",
              "omega          0.1853      0.155      1.197      0.231    [ -0.118,  0.489]\n",
              "alpha[1]       0.1106  7.983e-02      1.386      0.166 [-4.583e-02,  0.267]\n",
              "beta[1]        0.8118      0.133      6.112  9.856e-10    [  0.551,  1.072]\n",
              "===========================================================================\n",
              "\n",
              "Covariance estimator: robust\n",
              "\"\"\""
            ]
          },
          "metadata": {
            "tags": []
          },
          "execution_count": 27
        }
      ]
    },
    {
      "cell_type": "code",
      "metadata": {
        "id": "fpivCY_gc-J0",
        "outputId": "7c39875b-8c0e-4ac5-d69d-0f9530fe51b8",
        "colab": {
          "base_uri": "https://localhost:8080/",
          "height": 704
        }
      },
      "source": [
        "model2 = arch_model(returns, p=1, q=0)\n",
        "model_fit = model2.fit()\n",
        "model_fit.summary()"
      ],
      "execution_count": null,
      "outputs": [
        {
          "output_type": "stream",
          "text": [
            "Iteration:      1,   Func. Count:      5,   Neg. LLF: 4193.627117391796\n",
            "Iteration:      2,   Func. Count:     14,   Neg. LLF: 4173.812539320144\n",
            "Iteration:      3,   Func. Count:     22,   Neg. LLF: 4116.896072546228\n",
            "Iteration:      4,   Func. Count:     27,   Neg. LLF: 4096.812226950746\n",
            "Iteration:      5,   Func. Count:     33,   Neg. LLF: 4074.776110375671\n",
            "Iteration:      6,   Func. Count:     39,   Neg. LLF: 4073.555536191385\n",
            "Iteration:      7,   Func. Count:     44,   Neg. LLF: 4068.012557317493\n",
            "Iteration:      8,   Func. Count:     49,   Neg. LLF: 4065.978002021539\n",
            "Iteration:      9,   Func. Count:     54,   Neg. LLF: 4065.1930375688553\n",
            "Iteration:     10,   Func. Count:     59,   Neg. LLF: 4064.524902987643\n",
            "Iteration:     11,   Func. Count:     64,   Neg. LLF: 4064.489806778097\n",
            "Iteration:     12,   Func. Count:     69,   Neg. LLF: 4064.4889224816097\n",
            "Iteration:     13,   Func. Count:     74,   Neg. LLF: 4064.4889189499663\n",
            "Optimization terminated successfully.    (Exit mode 0)\n",
            "            Current function value: 4064.48891894999\n",
            "            Iterations: 13\n",
            "            Function evaluations: 74\n",
            "            Gradient evaluations: 13\n"
          ],
          "name": "stdout"
        },
        {
          "output_type": "execute_result",
          "data": {
            "text/html": [
              "<table class=\"simpletable\">\n",
              "<caption>Constant Mean - ARCH Model Results</caption>\n",
              "<tr>\n",
              "  <th>Dep. Variable:</th>        <td>Close</td>       <th>  R-squared:         </th>  <td>  -0.000</td> \n",
              "</tr>\n",
              "<tr>\n",
              "  <th>Mean Model:</th>       <td>Constant Mean</td>   <th>  Adj. R-squared:    </th>  <td>  -0.000</td> \n",
              "</tr>\n",
              "<tr>\n",
              "  <th>Vol Model:</th>            <td>ARCH</td>        <th>  Log-Likelihood:    </th> <td>  -4064.49</td>\n",
              "</tr>\n",
              "<tr>\n",
              "  <th>Distribution:</th>        <td>Normal</td>       <th>  AIC:               </th> <td>   8134.98</td>\n",
              "</tr>\n",
              "<tr>\n",
              "  <th>Method:</th>        <td>Maximum Likelihood</td> <th>  BIC:               </th> <td>   8152.15</td>\n",
              "</tr>\n",
              "<tr>\n",
              "  <th></th>                        <td></td>          <th>  No. Observations:  </th>    <td>2264</td>   \n",
              "</tr>\n",
              "<tr>\n",
              "  <th>Date:</th>           <td>Sat, Sep 26 2020</td>  <th>  Df Residuals:      </th>    <td>2261</td>   \n",
              "</tr>\n",
              "<tr>\n",
              "  <th>Time:</th>               <td>03:32:27</td>      <th>  Df Model:          </th>      <td>3</td>    \n",
              "</tr>\n",
              "</table>\n",
              "<table class=\"simpletable\">\n",
              "<caption>Mean Model</caption>\n",
              "<tr>\n",
              "   <td></td>     <th>coef</th>     <th>std err</th>      <th>t</th>       <th>P>|t|</th>    <th>95.0% Conf. Int.</th>  \n",
              "</tr>\n",
              "<tr>\n",
              "  <th>mu</th> <td>    0.0890</td> <td>3.102e-02</td> <td>    2.868</td> <td>4.129e-03</td> <td>[2.817e-02,  0.150]</td>\n",
              "</tr>\n",
              "</table>\n",
              "<table class=\"simpletable\">\n",
              "<caption>Volatility Model</caption>\n",
              "<tr>\n",
              "      <td></td>        <th>coef</th>     <th>std err</th>      <th>t</th>       <th>P>|t|</th>    <th>95.0% Conf. Int.</th>  \n",
              "</tr>\n",
              "<tr>\n",
              "  <th>omega</th>    <td>    1.8092</td> <td>    0.137</td> <td>   13.162</td> <td>1.450e-39</td>  <td>[  1.540,  2.079]</td> \n",
              "</tr>\n",
              "<tr>\n",
              "  <th>alpha[1]</th> <td>    0.1986</td> <td>7.721e-02</td> <td>    2.572</td> <td>1.011e-02</td> <td>[4.726e-02,  0.350]</td>\n",
              "</tr>\n",
              "</table><br/><br/>Covariance estimator: robust"
            ],
            "text/plain": [
              "<class 'statsmodels.iolib.summary.Summary'>\n",
              "\"\"\"\n",
              "                      Constant Mean - ARCH Model Results                      \n",
              "==============================================================================\n",
              "Dep. Variable:                  Close   R-squared:                      -0.000\n",
              "Mean Model:             Constant Mean   Adj. R-squared:                 -0.000\n",
              "Vol Model:                       ARCH   Log-Likelihood:               -4064.49\n",
              "Distribution:                  Normal   AIC:                           8134.98\n",
              "Method:            Maximum Likelihood   BIC:                           8152.15\n",
              "                                        No. Observations:                 2264\n",
              "Date:                Sat, Sep 26 2020   Df Residuals:                     2261\n",
              "Time:                        03:32:27   Df Model:                            3\n",
              "                                Mean Model                                \n",
              "==========================================================================\n",
              "                 coef    std err          t      P>|t|    95.0% Conf. Int.\n",
              "--------------------------------------------------------------------------\n",
              "mu             0.0890  3.102e-02      2.868  4.129e-03 [2.817e-02,  0.150]\n",
              "                             Volatility Model                             \n",
              "==========================================================================\n",
              "                 coef    std err          t      P>|t|    95.0% Conf. Int.\n",
              "--------------------------------------------------------------------------\n",
              "omega          1.8092      0.137     13.162  1.450e-39   [  1.540,  2.079]\n",
              "alpha[1]       0.1986  7.721e-02      2.572  1.011e-02 [4.726e-02,  0.350]\n",
              "==========================================================================\n",
              "\n",
              "Covariance estimator: robust\n",
              "\"\"\""
            ]
          },
          "metadata": {
            "tags": []
          },
          "execution_count": 32
        }
      ]
    },
    {
      "cell_type": "markdown",
      "metadata": {
        "id": "x8rn1626DVe2"
      },
      "source": [
        "Since the second model (p=1, q=0) gives us alpha[1] with p-value < 0.05 we choose this model"
      ]
    },
    {
      "cell_type": "code",
      "metadata": {
        "id": "JDP8Kp5vdDkU"
      },
      "source": [
        "rolling_predictions = []\n",
        "test_size = 365*5\n",
        "\n",
        "for i in range(test_size):\n",
        "    train = returns[:-(test_size-i)]\n",
        "    model = arch_model(train, p=1, q=0)\n",
        "    model_fit = model.fit(disp='off')\n",
        "    pred = model_fit.forecast(horizon=1)\n",
        "    rolling_predictions.append(np.sqrt(pred.variance.values[-1,:][0]))"
      ],
      "execution_count": null,
      "outputs": []
    },
    {
      "cell_type": "code",
      "metadata": {
        "id": "Q59KpRc5dE7i"
      },
      "source": [
        "rolling_predictions = pd.Series(rolling_predictions, index=returns.index[-365*5:])"
      ],
      "execution_count": null,
      "outputs": []
    },
    {
      "cell_type": "code",
      "metadata": {
        "id": "CAmIwJ1VdFeS",
        "outputId": "7175ce2c-5698-4fe3-821e-8924fb322b23",
        "colab": {
          "base_uri": "https://localhost:8080/",
          "height": 303
        }
      },
      "source": [
        "plt.figure(figsize=(10,4))\n",
        "true, = plt.plot(returns[-36*55:])\n",
        "preds, = plt.plot(rolling_predictions)\n",
        "plt.title('Volatility Prediction - Rolling Forecast', fontsize=20)\n",
        "plt.legend(['True Returns', 'Predicted Volatility'], fontsize=16)"
      ],
      "execution_count": null,
      "outputs": [
        {
          "output_type": "execute_result",
          "data": {
            "text/plain": [
              "<matplotlib.legend.Legend at 0x7f8c22ebd240>"
            ]
          },
          "metadata": {
            "tags": []
          },
          "execution_count": 30
        },
        {
          "output_type": "display_data",
          "data": {
            "image/png": "[encoded data removed]",
            "text/plain": [
              "<Figure size 720x288 with 1 Axes>"
            ]
          },
          "metadata": {
            "tags": [],
            "needs_background": "light"
          }
        }
      ]
    },
    {
      "cell_type": "code",
      "metadata": {
        "id": "dDO_I9L2dFvP"
      },
      "source": [
        "train = returns\n",
        "model = arch_model(train, p=1, q=0)\n",
        "model_fit = model.fit(disp='off')\n",
        "pred = model_fit.forecast(horizon=7)\n",
        "future_dates = [returns.index[-1] + timedelta(days=i) for i in range(1,8)]\n",
        "pred = pd.Series(np.sqrt(pred.variance.values[-1,:]), index=future_dates)"
      ],
      "execution_count": null,
      "outputs": []
    },
    {
      "cell_type": "code",
      "metadata": {
        "id": "Tb-3ZuD7dPkS",
        "outputId": "cfe6a355-a72b-4a99-a5bd-be80b1766222",
        "colab": {
          "base_uri": "https://localhost:8080/",
          "height": 303
        }
      },
      "source": [
        "#plotting volatility in returns for next 7 days\n",
        "plt.figure(figsize=(10,4))\n",
        "plt.plot(pred)\n",
        "plt.title('Volatility Prediction - Next 7 Days', fontsize=20)"
      ],
      "execution_count": null,
      "outputs": [
        {
          "output_type": "execute_result",
          "data": {
            "text/plain": [
              "Text(0.5, 1.0, 'Volatility Prediction - Next 7 Days')"
            ]
          },
          "metadata": {
            "tags": []
          },
          "execution_count": 32
        },
        {
          "output_type": "display_data",
          "data": {
            "image/png": "[encoded data removed]",
            "text/plain": [
              "<Figure size 720x288 with 1 Axes>"
            ]
          },
          "metadata": {
            "tags": [],
            "needs_background": "light"
          }
        }
      ]
    },
    {
      "cell_type": "markdown",
      "metadata": {
        "id": "Xe7VDNamDneX"
      },
      "source": [
        "Applying models LSTM, Prophet and ARIMA"
      ]
    },
    {
      "cell_type": "markdown",
      "metadata": {
        "id": "C2ywkDNcDrGL"
      },
      "source": [
        "Model 1: LSTM"
      ]
    },
    {
      "cell_type": "code",
      "metadata": {
        "id": "xboKzw7NxO66",
        "outputId": "fbf4c02a-302a-4226-d992-65713a9cc9dc",
        "colab": {
          "base_uri": "https://localhost:8080/",
          "height": 34
        }
      },
      "source": [
        "2265-100"
      ],
      "execution_count": null,
      "outputs": [
        {
          "output_type": "execute_result",
          "data": {
            "text/plain": [
              "2165"
            ]
          },
          "metadata": {
            "tags": []
          },
          "execution_count": 19
        }
      ]
    },
    {
      "cell_type": "code",
      "metadata": {
        "id": "crj1vIFTr9yl",
        "outputId": "d94aeb4a-fbfb-44c0-a65f-6ec0b66c291a",
        "colab": {
          "base_uri": "https://localhost:8080/",
          "height": 34
        }
      },
      "source": [
        "2265*0.8"
      ],
      "execution_count": null,
      "outputs": [
        {
          "output_type": "execute_result",
          "data": {
            "text/plain": [
              "1812.0"
            ]
          },
          "metadata": {
            "tags": []
          },
          "execution_count": 28
        }
      ]
    },
    {
      "cell_type": "code",
      "metadata": {
        "id": "rFWEi_nAofth",
        "outputId": "f112914a-d14a-47d4-c9dd-ed7caf6737ed",
        "colab": {
          "base_uri": "https://localhost:8080/",
          "height": 34
        }
      },
      "source": [
        "len(df)"
      ],
      "execution_count": null,
      "outputs": [
        {
          "output_type": "execute_result",
          "data": {
            "text/plain": [
              "2265"
            ]
          },
          "metadata": {
            "tags": []
          },
          "execution_count": 13
        }
      ]
    },
    {
      "cell_type": "code",
      "metadata": {
        "id": "Dtyo4nA2pa4t",
        "outputId": "f0427aa8-60aa-4ea0-e338-c4bdea680ef3",
        "colab": {
          "base_uri": "https://localhost:8080/",
          "height": 34
        }
      },
      "source": [
        "2265-355"
      ],
      "execution_count": null,
      "outputs": [
        {
          "output_type": "execute_result",
          "data": {
            "text/plain": [
              "1910"
            ]
          },
          "metadata": {
            "tags": []
          },
          "execution_count": 35
        }
      ]
    },
    {
      "cell_type": "code",
      "metadata": {
        "id": "GU2AI-D8yR7R"
      },
      "source": [
        "#from nsepy import get_history as gh\n",
        "import datetime as dt\n",
        "from matplotlib import pyplot as plt\n",
        "from sklearn import model_selection\n",
        "from sklearn.metrics import confusion_matrix\n",
        "from sklearn.preprocessing import StandardScaler\n",
        "from sklearn.model_selection import train_test_split\n",
        "import numpy as np\n",
        "import pandas as pd\n",
        "from sklearn.preprocessing import MinMaxScaler\n",
        "from keras.models import Sequential\n",
        "from keras.layers import Dense\n",
        "from keras.layers import LSTM\n",
        "from keras.layers import Dropout"
      ],
      "execution_count": null,
      "outputs": []
    },
    {
      "cell_type": "code",
      "metadata": {
        "id": "bkN1FFqvpeRp"
      },
      "source": [
        "train_set = df.iloc[0:1850, 4:5].values"
      ],
      "execution_count": null,
      "outputs": []
    },
    {
      "cell_type": "code",
      "metadata": {
        "id": "P8eP_tfb0UAb"
      },
      "source": [
        "test_set = df.iloc[1850:, 4:5].values"
      ],
      "execution_count": null,
      "outputs": []
    },
    {
      "cell_type": "code",
      "metadata": {
        "id": "txhC2ilUphqo",
        "outputId": "97a4b0c0-31fb-450b-d4a9-1c6d24d6e705",
        "colab": {
          "base_uri": "https://localhost:8080/",
          "height": 34
        }
      },
      "source": [
        "len(train_set)"
      ],
      "execution_count": null,
      "outputs": [
        {
          "output_type": "execute_result",
          "data": {
            "text/plain": [
              "1850"
            ]
          },
          "metadata": {
            "tags": []
          },
          "execution_count": 36
        }
      ]
    },
    {
      "cell_type": "code",
      "metadata": {
        "id": "7v2DJ71_0XbA",
        "outputId": "ba0e1e74-3bde-4041-bcb0-bfb28d78b290",
        "colab": {
          "base_uri": "https://localhost:8080/",
          "height": 34
        }
      },
      "source": [
        "len(test_set)"
      ],
      "execution_count": null,
      "outputs": [
        {
          "output_type": "execute_result",
          "data": {
            "text/plain": [
              "415"
            ]
          },
          "metadata": {
            "tags": []
          },
          "execution_count": 37
        }
      ]
    },
    {
      "cell_type": "markdown",
      "metadata": {
        "id": "JNwDng3iD7F7"
      },
      "source": [
        "Creating and training LSTM model"
      ]
    },
    {
      "cell_type": "code",
      "metadata": {
        "id": "4EquI3drx9Vf"
      },
      "source": [
        "sc = MinMaxScaler(feature_range = (0, 1))\n",
        "training_set_scaled = sc.fit_transform(train_set)\n",
        "X_train = []\n",
        "y_train = []\n",
        "for i in range(60, 1850):\n",
        "    X_train.append(training_set_scaled[i-60:i, 0]) #contains past 60 values\n",
        "    y_train.append(training_set_scaled[i, 0]) #contains 61st value that model predicts\n",
        "X_train, y_train = np.array(X_train), np.array(y_train)\n",
        "X_train = np.reshape(X_train, (X_train.shape[0], X_train.shape[1], 1)) #lstm expects input to be 3D right now train set is 2D so need to reshape"
      ],
      "execution_count": null,
      "outputs": []
    },
    {
      "cell_type": "code",
      "metadata": {
        "id": "p5wTBpifyvcM"
      },
      "source": [
        "regressor = Sequential()\n",
        "regressor.add(LSTM(units = 50, return_sequences = True, input_shape = (X_train.shape[1], 1))) #1st layer has input shape (timesteps and no. of features)\n",
        "regressor.add(Dropout(0.2))\n",
        "regressor.add(LSTM(units = 50, return_sequences = True))\n",
        "regressor.add(Dropout(0.2))\n",
        "regressor.add(LSTM(units = 50, return_sequences = True))\n",
        "regressor.add(Dropout(0.2))\n",
        "regressor.add(LSTM(units = 50)) #last lstm layer no need return_sequences\n",
        "regressor.add(Dropout(0.2))\n",
        "regressor.add(Dense(units = 1))"
      ],
      "execution_count": null,
      "outputs": []
    },
    {
      "cell_type": "code",
      "metadata": {
        "id": "RSBngdrmyw_f",
        "outputId": "42c5da15-0a23-49f0-979b-39162aa1ba4b",
        "colab": {
          "base_uri": "https://localhost:8080/",
          "height": 527
        }
      },
      "source": [
        "regressor.compile(optimizer = 'adam', loss = 'mean_squared_error')\n",
        "hist = regressor.fit(X_train, y_train, epochs = 15, batch_size = 32)"
      ],
      "execution_count": null,
      "outputs": [
        {
          "output_type": "stream",
          "text": [
            "Epoch 1/15\n",
            "56/56 [==============================] - 6s 110ms/step - loss: 0.0296\n",
            "Epoch 2/15\n",
            "56/56 [==============================] - 6s 112ms/step - loss: 0.0053\n",
            "Epoch 3/15\n",
            "56/56 [==============================] - 6s 112ms/step - loss: 0.0048\n",
            "Epoch 4/15\n",
            "56/56 [==============================] - 6s 110ms/step - loss: 0.0047\n",
            "Epoch 5/15\n",
            "56/56 [==============================] - 6s 111ms/step - loss: 0.0044\n",
            "Epoch 6/15\n",
            "56/56 [==============================] - 6s 111ms/step - loss: 0.0042\n",
            "Epoch 7/15\n",
            "56/56 [==============================] - 6s 113ms/step - loss: 0.0044\n",
            "Epoch 8/15\n",
            "56/56 [==============================] - 6s 113ms/step - loss: 0.0039\n",
            "Epoch 9/15\n",
            "56/56 [==============================] - 6s 116ms/step - loss: 0.0045\n",
            "Epoch 10/15\n",
            "56/56 [==============================] - 6s 116ms/step - loss: 0.0037\n",
            "Epoch 11/15\n",
            "56/56 [==============================] - 7s 124ms/step - loss: 0.0036\n",
            "Epoch 12/15\n",
            "56/56 [==============================] - 7s 125ms/step - loss: 0.0034\n",
            "Epoch 13/15\n",
            "56/56 [==============================] - 7s 125ms/step - loss: 0.0037\n",
            "Epoch 14/15\n",
            "56/56 [==============================] - 7s 120ms/step - loss: 0.0034\n",
            "Epoch 15/15\n",
            "56/56 [==============================] - 6s 115ms/step - loss: 0.0032\n"
          ],
          "name": "stdout"
        }
      ]
    },
    {
      "cell_type": "code",
      "metadata": {
        "id": "PZzNZdg9Ighb",
        "outputId": "386ad612-4151-40e8-e4f7-1a66ad2aab4d",
        "colab": {
          "base_uri": "https://localhost:8080/",
          "height": 34
        }
      },
      "source": [
        "x = regressor.evaluate(X_train, y_train)"
      ],
      "execution_count": null,
      "outputs": [
        {
          "output_type": "stream",
          "text": [
            "56/56 [==============================] - 1s 25ms/step - loss: 0.0014\n"
          ],
          "name": "stdout"
        }
      ]
    },
    {
      "cell_type": "code",
      "metadata": {
        "id": "udcrP4n6JjWn",
        "outputId": "9aefd3ed-40ef-4ba4-cffd-2d06b0924ecf",
        "colab": {
          "base_uri": "https://localhost:8080/",
          "height": 34
        }
      },
      "source": [
        "#rmse\n",
        "import math\n",
        "math.sqrt(x)"
      ],
      "execution_count": null,
      "outputs": [
        {
          "output_type": "execute_result",
          "data": {
            "text/plain": [
              "0.03789183016217222"
            ]
          },
          "metadata": {
            "tags": []
          },
          "execution_count": 42
        }
      ]
    },
    {
      "cell_type": "code",
      "metadata": {
        "id": "l5LkEfPFyzUM",
        "outputId": "cf762885-df84-4751-989b-8701c40386bf",
        "colab": {
          "base_uri": "https://localhost:8080/",
          "height": 295
        }
      },
      "source": [
        "plt.plot(hist.history['loss'])\n",
        "plt.title('model loss')\n",
        "plt.ylabel('loss')\n",
        "plt.xlabel('epoch')\n",
        "plt.legend(['train'], loc='upper left')\n",
        "plt.show()"
      ],
      "execution_count": null,
      "outputs": [
        {
          "output_type": "display_data",
          "data": {
            "image/png": "[encoded data removed]",
            "text/plain": [
              "<Figure size 432x288 with 1 Axes>"
            ]
          },
          "metadata": {
            "tags": [],
            "needs_background": "light"
          }
        }
      ]
    },
    {
      "cell_type": "code",
      "metadata": {
        "id": "QNXBtGQAzQp5"
      },
      "source": [
        "#using model to predict stock prices for test set\n",
        "sc = MinMaxScaler(feature_range = (0, 1))\n",
        "testing_set_scaled = sc.fit_transform(test_set)\n",
        "X_test = []\n",
        "y_test = []\n",
        "for i in range(60, 415):\n",
        "    X_test.append(testing_set_scaled[i-60:i, 0])\n",
        "    y_test.append(testing_set_scaled[i, 0]) \n",
        "X_test = np.array(X_test)\n",
        "X_test = np.reshape(X_test, (X_test.shape[0], X_test.shape[1], 1))"
      ],
      "execution_count": null,
      "outputs": []
    },
    {
      "cell_type": "code",
      "metadata": {
        "id": "DaeFK-I01JT4"
      },
      "source": [
        "predicted_stock_price = regressor.predict(X_test)\n",
        "predicted_stock_price = sc.inverse_transform(predicted_stock_price)"
      ],
      "execution_count": null,
      "outputs": []
    },
    {
      "cell_type": "code",
      "metadata": {
        "id": "gHKpO0MvsbvJ",
        "outputId": "30864fa1-3022-409b-98ac-7f0314874b23",
        "colab": {
          "base_uri": "https://localhost:8080/",
          "height": 1000
        }
      },
      "source": [
        "predicted_stock_price"
      ],
      "execution_count": null,
      "outputs": [
        {
          "output_type": "execute_result",
          "data": {
            "text/plain": [
              "array([[101.66247 ],\n",
              "       [101.7866  ],\n",
              "       [101.89417 ],\n",
              "       [101.984604],\n",
              "       [102.05754 ],\n",
              "       [102.11277 ],\n",
              "       [102.14046 ],\n",
              "       [102.133194],\n",
              "       [102.096085],\n",
              "       [102.0416  ],\n",
              "       [101.98954 ],\n",
              "       [101.95265 ],\n",
              "       [101.93671 ],\n",
              "       [101.94671 ],\n",
              "       [101.990105],\n",
              "       [102.072235],\n",
              "       [102.19878 ],\n",
              "       [102.37131 ],\n",
              "       [102.58449 ],\n",
              "       [102.829254],\n",
              "       [103.098976],\n",
              "       [103.38973 ],\n",
              "       [103.69948 ],\n",
              "       [104.02575 ],\n",
              "       [104.362366],\n",
              "       [104.70508 ],\n",
              "       [105.04818 ],\n",
              "       [105.39069 ],\n",
              "       [105.72824 ],\n",
              "       [106.04925 ],\n",
              "       [106.340065],\n",
              "       [106.586555],\n",
              "       [106.783745],\n",
              "       [106.931114],\n",
              "       [107.03115 ],\n",
              "       [107.08723 ],\n",
              "       [107.10457 ],\n",
              "       [107.07905 ],\n",
              "       [107.00563 ],\n",
              "       [106.88672 ],\n",
              "       [106.72719 ],\n",
              "       [106.53808 ],\n",
              "       [106.334694],\n",
              "       [106.13824 ],\n",
              "       [105.96858 ],\n",
              "       [105.84084 ],\n",
              "       [105.76606 ],\n",
              "       [105.74861 ],\n",
              "       [105.782845],\n",
              "       [105.860466],\n",
              "       [105.974846],\n",
              "       [106.12011 ],\n",
              "       [106.29073 ],\n",
              "       [106.47856 ],\n",
              "       [106.67333 ],\n",
              "       [106.86844 ],\n",
              "       [107.06682 ],\n",
              "       [107.271255],\n",
              "       [107.48343 ],\n",
              "       [107.70698 ],\n",
              "       [107.9459  ],\n",
              "       [108.204346],\n",
              "       [108.48335 ],\n",
              "       [108.78764 ],\n",
              "       [109.11769 ],\n",
              "       [109.4723  ],\n",
              "       [109.84751 ],\n",
              "       [110.23483 ],\n",
              "       [110.62503 ],\n",
              "       [111.01953 ],\n",
              "       [111.41443 ],\n",
              "       [111.81058 ],\n",
              "       [112.210846],\n",
              "       [112.618095],\n",
              "       [113.02827 ],\n",
              "       [113.44121 ],\n",
              "       [113.85857 ],\n",
              "       [114.27893 ],\n",
              "       [114.704765],\n",
              "       [115.127205],\n",
              "       [115.53501 ],\n",
              "       [115.91466 ],\n",
              "       [116.25396 ],\n",
              "       [116.530396],\n",
              "       [116.72906 ],\n",
              "       [116.84206 ],\n",
              "       [116.851234],\n",
              "       [116.74871 ],\n",
              "       [116.54901 ],\n",
              "       [116.28252 ],\n",
              "       [115.980034],\n",
              "       [115.6738  ],\n",
              "       [115.386566],\n",
              "       [115.13407 ],\n",
              "       [114.92664 ],\n",
              "       [114.77471 ],\n",
              "       [114.68238 ],\n",
              "       [114.64405 ],\n",
              "       [114.64511 ],\n",
              "       [114.67021 ],\n",
              "       [114.70139 ],\n",
              "       [114.72308 ],\n",
              "       [114.72524 ],\n",
              "       [114.70391 ],\n",
              "       [114.65702 ],\n",
              "       [114.5954  ],\n",
              "       [114.53716 ],\n",
              "       [114.50558 ],\n",
              "       [114.52582 ],\n",
              "       [114.618774],\n",
              "       [114.796074],\n",
              "       [115.05621 ],\n",
              "       [115.38897 ],\n",
              "       [115.78343 ],\n",
              "       [116.21893 ],\n",
              "       [116.67752 ],\n",
              "       [117.151405],\n",
              "       [117.635895],\n",
              "       [118.130196],\n",
              "       [118.63374 ],\n",
              "       [119.14104 ],\n",
              "       [119.63865 ],\n",
              "       [120.12037 ],\n",
              "       [120.58001 ],\n",
              "       [121.00634 ],\n",
              "       [121.39715 ],\n",
              "       [121.74765 ],\n",
              "       [122.0438  ],\n",
              "       [122.257484],\n",
              "       [122.37579 ],\n",
              "       [122.401024],\n",
              "       [122.31545 ],\n",
              "       [122.12033 ],\n",
              "       [121.83726 ],\n",
              "       [121.49183 ],\n",
              "       [121.116455],\n",
              "       [120.76171 ],\n",
              "       [120.472015],\n",
              "       [120.284805],\n",
              "       [120.22251 ],\n",
              "       [120.283035],\n",
              "       [120.45919 ],\n",
              "       [120.74499 ],\n",
              "       [121.12799 ],\n",
              "       [121.5879  ],\n",
              "       [122.11668 ],\n",
              "       [122.71894 ],\n",
              "       [123.398254],\n",
              "       [124.15995 ],\n",
              "       [125.004395],\n",
              "       [125.926315],\n",
              "       [126.915764],\n",
              "       [127.95028 ],\n",
              "       [128.99962 ],\n",
              "       [130.03839 ],\n",
              "       [131.03879 ],\n",
              "       [131.96854 ],\n",
              "       [132.79506 ],\n",
              "       [133.49602 ],\n",
              "       [134.04198 ],\n",
              "       [134.39526 ],\n",
              "       [134.51569 ],\n",
              "       [134.41022 ],\n",
              "       [134.08464 ],\n",
              "       [133.55406 ],\n",
              "       [132.86469 ],\n",
              "       [132.06847 ],\n",
              "       [131.22313 ],\n",
              "       [130.39658 ],\n",
              "       [129.64491 ],\n",
              "       [128.99194 ],\n",
              "       [128.44878 ],\n",
              "       [128.02792 ],\n",
              "       [127.733154],\n",
              "       [127.5711  ],\n",
              "       [127.5285  ],\n",
              "       [127.58476 ],\n",
              "       [127.73675 ],\n",
              "       [127.98759 ],\n",
              "       [128.33295 ],\n",
              "       [128.75313 ],\n",
              "       [129.21634 ],\n",
              "       [129.66742 ],\n",
              "       [130.05275 ],\n",
              "       [130.35287 ],\n",
              "       [130.56377 ],\n",
              "       [130.69618 ],\n",
              "       [130.7781  ],\n",
              "       [130.83699 ],\n",
              "       [130.90306 ],\n",
              "       [131.00298 ],\n",
              "       [131.16338 ],\n",
              "       [131.4093  ],\n",
              "       [131.75851 ],\n",
              "       [132.21895 ],\n",
              "       [132.784   ],\n",
              "       [133.41737 ],\n",
              "       [134.07729 ],\n",
              "       [134.72804 ],\n",
              "       [135.32596 ],\n",
              "       [135.84126 ],\n",
              "       [136.25423 ],\n",
              "       [136.55211 ],\n",
              "       [136.74777 ],\n",
              "       [136.8669  ],\n",
              "       [136.93237 ],\n",
              "       [136.95758 ],\n",
              "       [136.9652  ],\n",
              "       [136.97571 ],\n",
              "       [137.01048 ],\n",
              "       [137.09605 ],\n",
              "       [137.25873 ],\n",
              "       [137.52104 ],\n",
              "       [137.87561 ],\n",
              "       [138.30385 ],\n",
              "       [138.78323 ],\n",
              "       [139.3028  ],\n",
              "       [139.85327 ],\n",
              "       [140.43463 ],\n",
              "       [141.04393 ],\n",
              "       [141.68094 ],\n",
              "       [142.33853 ],\n",
              "       [143.00012 ],\n",
              "       [143.63994 ],\n",
              "       [144.21559 ],\n",
              "       [144.68086 ],\n",
              "       [145.01805 ],\n",
              "       [145.21422 ],\n",
              "       [145.28088 ],\n",
              "       [145.24837 ],\n",
              "       [145.17473 ],\n",
              "       [145.09868 ],\n",
              "       [145.0565  ],\n",
              "       [145.08157 ],\n",
              "       [145.19533 ],\n",
              "       [145.40825 ],\n",
              "       [145.7338  ],\n",
              "       [146.19096 ],\n",
              "       [146.78062 ],\n",
              "       [147.4819  ],\n",
              "       [148.26114 ],\n",
              "       [149.0839  ],\n",
              "       [149.91133 ],\n",
              "       [150.7058  ],\n",
              "       [151.44096 ],\n",
              "       [152.0896  ],\n",
              "       [152.6511  ],\n",
              "       [153.12508 ],\n",
              "       [153.4921  ],\n",
              "       [153.70197 ],\n",
              "       [153.7145  ],\n",
              "       [153.51793 ],\n",
              "       [153.14633 ],\n",
              "       [152.64989 ],\n",
              "       [152.0921  ],\n",
              "       [151.5415  ],\n",
              "       [151.05797 ],\n",
              "       [150.68651 ],\n",
              "       [150.44978 ],\n",
              "       [150.34486 ],\n",
              "       [150.36705 ],\n",
              "       [150.49399 ],\n",
              "       [150.70134 ],\n",
              "       [150.95908 ],\n",
              "       [151.24316 ],\n",
              "       [151.53267 ],\n",
              "       [151.81671 ],\n",
              "       [152.09677 ],\n",
              "       [152.40358 ],\n",
              "       [152.75946 ],\n",
              "       [153.1821  ],\n",
              "       [153.68677 ],\n",
              "       [154.25731 ],\n",
              "       [154.86877 ],\n",
              "       [155.49533 ],\n",
              "       [156.08292 ],\n",
              "       [156.58533 ],\n",
              "       [156.98228 ],\n",
              "       [157.27515 ],\n",
              "       [157.48541 ],\n",
              "       [157.65404 ],\n",
              "       [157.83519 ],\n",
              "       [158.0654  ],\n",
              "       [158.34596 ],\n",
              "       [158.66992 ],\n",
              "       [159.00333 ],\n",
              "       [159.32832 ],\n",
              "       [159.63292 ],\n",
              "       [159.93002 ],\n",
              "       [160.23387 ],\n",
              "       [160.54971 ],\n",
              "       [160.88971 ],\n",
              "       [161.25005 ],\n",
              "       [161.62576 ],\n",
              "       [161.99155 ],\n",
              "       [162.33418 ],\n",
              "       [162.618   ],\n",
              "       [162.81633 ],\n",
              "       [162.87544 ],\n",
              "       [162.76025 ],\n",
              "       [162.39699 ],\n",
              "       [161.7545  ],\n",
              "       [160.88536 ],\n",
              "       [159.8406  ],\n",
              "       [158.71107 ],\n",
              "       [157.58347 ],\n",
              "       [156.50531 ],\n",
              "       [155.49261 ],\n",
              "       [154.56476 ],\n",
              "       [153.72333 ],\n",
              "       [152.92233 ],\n",
              "       [152.16211 ],\n",
              "       [151.42525 ],\n",
              "       [150.67406 ],\n",
              "       [149.88783 ],\n",
              "       [149.09097 ],\n",
              "       [148.33347 ],\n",
              "       [147.64745 ],\n",
              "       [147.04541 ],\n",
              "       [146.52069 ],\n",
              "       [146.10608 ],\n",
              "       [145.83298 ],\n",
              "       [145.6896  ],\n",
              "       [145.6107  ],\n",
              "       [145.5382  ],\n",
              "       [145.4136  ],\n",
              "       [145.21611 ],\n",
              "       [144.94687 ],\n",
              "       [144.55524 ],\n",
              "       [143.99962 ],\n",
              "       [143.27928 ],\n",
              "       [142.41107 ],\n",
              "       [141.45078 ],\n",
              "       [140.46829 ],\n",
              "       [139.5994  ],\n",
              "       [138.96146 ],\n",
              "       [138.6479  ],\n",
              "       [138.71336 ],\n",
              "       [139.13402 ],\n",
              "       [139.85945 ],\n",
              "       [140.78041 ],\n",
              "       [141.78786 ],\n",
              "       [142.7849  ],\n",
              "       [143.71814 ],\n",
              "       [144.565   ],\n",
              "       [145.29399 ],\n",
              "       [145.84605 ],\n",
              "       [146.18768 ],\n",
              "       [146.30444 ],\n",
              "       [146.18553 ],\n",
              "       [145.81325 ],\n",
              "       [145.18266 ],\n",
              "       [144.36453 ],\n",
              "       [143.47188 ],\n",
              "       [142.61028 ]], dtype=float32)"
            ]
          },
          "metadata": {
            "tags": []
          },
          "execution_count": 46
        }
      ]
    },
    {
      "cell_type": "code",
      "metadata": {
        "id": "tTsrNpe5C_mR",
        "outputId": "d462d49b-e1c9-4263-d188-6d086933fe69",
        "colab": {
          "base_uri": "https://localhost:8080/",
          "height": 621
        }
      },
      "source": [
        "#plot predicted stock price with actual stock price for test set\n",
        "plt.figure(figsize=(20,10))\n",
        "plt.plot(test_set, color = 'green', label = 'fintech Stock Price')\n",
        "plt.plot(predicted_stock_price, color = 'red', label = 'Predicted fintech Stock Price')\n",
        "plt.title('fintech Stock Price Prediction')\n",
        "plt.xlabel('Trading Day')\n",
        "plt.ylabel('SBI Stock Price')\n",
        "plt.legend()\n",
        "plt.show()"
      ],
      "execution_count": null,
      "outputs": [
        {
          "output_type": "display_data",
          "data": {
            "image/png": "[encoded data removed]",
            "text/plain": [
              "<Figure size 1440x720 with 1 Axes>"
            ]
          },
          "metadata": {
            "tags": [],
            "needs_background": "light"
          }
        }
      ]
    },
    {
      "cell_type": "code",
      "metadata": {
        "id": "oRXcDR3cX1v3"
      },
      "source": [
        "#using model to predict new stock prices\n",
        "sc = MinMaxScaler(feature_range = (0, 1))\n",
        "test2 = df.iloc[2205:2265, 4:5].values #last 60 values of test set\n",
        "for i in range(60,415):\n",
        "  testing2_set_scaled = sc.fit_transform(test2)\n",
        "  X_test = []\n",
        "  X_test.append(testing2_set_scaled[i-60:i, 0]) \n",
        "  X_test = np.array(X_test)\n",
        "  X_test = np.reshape(X_test, (X_test.shape[0], X_test.shape[1], 1))\n",
        "  pred = regressor.predict(X_test)\n",
        "  pred2 = sc.inverse_transform(pred)\n",
        "  test2 = np.append(test2, pred2)\n",
        "  test2 = np.reshape(test2, (len(test2), 1))"
      ],
      "execution_count": null,
      "outputs": []
    },
    {
      "cell_type": "code",
      "metadata": {
        "id": "wQk_6lSVYyrV",
        "outputId": "b63ea8e9-05cf-4b92-eabc-4917cff76c12",
        "colab": {
          "base_uri": "https://localhost:8080/",
          "height": 1000
        }
      },
      "source": [
        "test2"
      ],
      "execution_count": null,
      "outputs": [
        {
          "output_type": "execute_result",
          "data": {
            "text/plain": [
              "array([[159.8099945 ],\n",
              "       [159.9630066 ],\n",
              "       [154.1849945 ],\n",
              "       [154.05      ],\n",
              "       [144.4289978 ],\n",
              "       [145.7160049 ],\n",
              "       [152.4660049 ],\n",
              "       [148.1549973 ],\n",
              "       [153.0960022 ],\n",
              "       [152.7089951 ],\n",
              "       [148.9559967 ],\n",
              "       [146.8410049 ],\n",
              "       [149.0549973 ],\n",
              "       [146.9940033 ],\n",
              "       [140.3339951 ],\n",
              "       [147.1200027 ],\n",
              "       [142.3680038 ],\n",
              "       [138.2910049 ],\n",
              "       [139.3529984 ],\n",
              "       [143.9160049 ],\n",
              "       [146.0309967 ],\n",
              "       [143.510994  ],\n",
              "       [142.2960022 ],\n",
              "       [140.9549973 ],\n",
              "       [148.010994  ],\n",
              "       [148.0829956 ],\n",
              "       [143.6279984 ],\n",
              "       [137.85      ],\n",
              "       [139.3440033 ],\n",
              "       [136.8150055 ],\n",
              "       [139.6410049 ],\n",
              "       [139.6950027 ],\n",
              "       [129.3090019 ],\n",
              "       [129.0029984 ],\n",
              "       [131.6309967 ],\n",
              "       [130.2269989 ],\n",
              "       [134.1690033 ],\n",
              "       [135.1860008 ],\n",
              "       [146.9759995 ],\n",
              "       [146.1480011 ],\n",
              "       [148.8839951 ],\n",
              "       [150.1349945 ],\n",
              "       [145.7160049 ],\n",
              "       [148.2539978 ],\n",
              "       [142.7549973 ],\n",
              "       [143.9430038 ],\n",
              "       [143.510994  ],\n",
              "       [146.4809967 ],\n",
              "       [147.4259995 ],\n",
              "       [143.735994  ],\n",
              "       [138.1470016 ],\n",
              "       [139.4880066 ],\n",
              "       [138.4440033 ],\n",
              "       [135.357003  ],\n",
              "       [131.0190033 ],\n",
              "       [129.5970016 ],\n",
              "       [138.1559967 ],\n",
              "       [142.0799973 ],\n",
              "       [141.6119934 ],\n",
              "       [143.6730011 ],\n",
              "       [141.02279663],\n",
              "       [140.45756531],\n",
              "       [140.05300903],\n",
              "       [139.80172729],\n",
              "       [139.68063354],\n",
              "       [139.66000366],\n",
              "       [139.70866394],\n",
              "       [139.79916382],\n",
              "       [139.91003418],\n",
              "       [140.02560425],\n",
              "       [140.13627625],\n",
              "       [140.23722839],\n",
              "       [140.326828  ],\n",
              "       [140.40565491],\n",
              "       [140.47572327],\n",
              "       [140.53944397],\n",
              "       [140.59869385],\n",
              "       [140.65570068],\n",
              "       [140.71182251],\n",
              "       [140.7678833 ],\n",
              "       [140.82437134],\n",
              "       [140.88160706],\n",
              "       [140.93972778],\n",
              "       [140.99861145],\n",
              "       [141.05810547],\n",
              "       [141.11785889],\n",
              "       [141.17796326],\n",
              "       [141.2383728 ],\n",
              "       [141.29908752],\n",
              "       [141.3598938 ],\n",
              "       [141.42088318],\n",
              "       [141.48194885],\n",
              "       [141.54318237],\n",
              "       [141.60490417],\n",
              "       [141.66685486],\n",
              "       [141.72895813],\n",
              "       [141.79135132],\n",
              "       [141.85394287],\n",
              "       [141.91680908],\n",
              "       [141.97973633],\n",
              "       [142.04302979],\n",
              "       [142.10661316],\n",
              "       [142.17053223],\n",
              "       [142.23484802],\n",
              "       [142.29942322],\n",
              "       [142.36442566],\n",
              "       [142.4296875 ],\n",
              "       [142.49525452],\n",
              "       [142.56103516],\n",
              "       [142.62710571],\n",
              "       [142.69355774],\n",
              "       [142.76043701],\n",
              "       [142.82757568],\n",
              "       [142.89503479],\n",
              "       [142.96284485],\n",
              "       [143.03108215],\n",
              "       [143.09962463],\n",
              "       [143.16824341],\n",
              "       [143.23709106],\n",
              "       [143.30627441],\n",
              "       [143.37574768],\n",
              "       [143.44560242],\n",
              "       [143.51577759],\n",
              "       [143.58628845],\n",
              "       [143.65708923],\n",
              "       [143.72819519],\n",
              "       [143.79959106],\n",
              "       [143.87132263],\n",
              "       [143.94329834],\n",
              "       [144.01559448],\n",
              "       [144.0881958 ],\n",
              "       [144.16108704],\n",
              "       [144.23426819],\n",
              "       [144.30775452],\n",
              "       [144.3815155 ],\n",
              "       [144.45559692],\n",
              "       [144.52996826],\n",
              "       [144.60461426],\n",
              "       [144.67956543],\n",
              "       [144.75480652],\n",
              "       [144.83032227],\n",
              "       [144.90612793],\n",
              "       [144.98222351],\n",
              "       [145.05860901],\n",
              "       [145.13525391],\n",
              "       [145.21220398],\n",
              "       [145.28941345],\n",
              "       [145.36689758],\n",
              "       [145.44465637],\n",
              "       [145.52267456],\n",
              "       [145.60098267],\n",
              "       [145.67955017],\n",
              "       [145.75836182],\n",
              "       [145.83746338],\n",
              "       [145.91679382],\n",
              "       [145.99639893],\n",
              "       [146.07624817],\n",
              "       [146.15635681],\n",
              "       [146.23670959],\n",
              "       [146.31730652],\n",
              "       [146.39813232],\n",
              "       [146.47918701],\n",
              "       [146.56048584],\n",
              "       [146.64202881],\n",
              "       [146.7237854 ],\n",
              "       [146.80575562],\n",
              "       [146.88795471],\n",
              "       [146.97035217],\n",
              "       [147.05296326],\n",
              "       [147.13580322],\n",
              "       [147.21882629],\n",
              "       [147.30204773],\n",
              "       [147.38545227],\n",
              "       [147.46905518],\n",
              "       [147.55284119],\n",
              "       [147.63679504],\n",
              "       [147.72093201],\n",
              "       [147.80522156],\n",
              "       [147.88967896],\n",
              "       [147.9743042 ],\n",
              "       [148.05906677],\n",
              "       [148.14398193],\n",
              "       [148.22904968],\n",
              "       [148.3142395 ],\n",
              "       [148.39955139],\n",
              "       [148.48500061],\n",
              "       [148.57054138],\n",
              "       [148.65621948],\n",
              "       [148.74198914],\n",
              "       [148.82785034],\n",
              "       [148.91381836],\n",
              "       [148.99984741],\n",
              "       [149.08598328],\n",
              "       [149.17216492],\n",
              "       [149.25840759],\n",
              "       [149.34472656],\n",
              "       [149.43109131],\n",
              "       [149.51748657],\n",
              "       [149.60391235],\n",
              "       [149.69038391],\n",
              "       [149.77687073],\n",
              "       [149.86335754],\n",
              "       [149.94985962],\n",
              "       [150.03636169],\n",
              "       [150.12283325],\n",
              "       [150.20930481],\n",
              "       [150.29573059],\n",
              "       [150.38214111],\n",
              "       [150.46850586],\n",
              "       [150.55480957],\n",
              "       [150.64105225],\n",
              "       [150.72724915],\n",
              "       [150.81333923],\n",
              "       [150.89936829],\n",
              "       [150.98527527],\n",
              "       [151.07112122],\n",
              "       [151.15682983],\n",
              "       [151.24241638],\n",
              "       [151.32788086],\n",
              "       [151.41320801],\n",
              "       [151.49841309],\n",
              "       [151.58343506],\n",
              "       [151.66830444],\n",
              "       [151.75299072],\n",
              "       [151.83752441],\n",
              "       [151.92185974],\n",
              "       [152.00598145],\n",
              "       [152.08992004],\n",
              "       [152.1736145 ],\n",
              "       [152.25712585],\n",
              "       [152.34036255],\n",
              "       [152.42338562],\n",
              "       [152.50614929],\n",
              "       [152.58866882],\n",
              "       [152.67089844],\n",
              "       [152.75286865],\n",
              "       [152.83453369],\n",
              "       [152.91593933],\n",
              "       [152.99703979],\n",
              "       [153.07781982],\n",
              "       [153.15827942],\n",
              "       [153.23840332],\n",
              "       [153.31822205],\n",
              "       [153.39768982],\n",
              "       [153.47679138],\n",
              "       [153.55555725],\n",
              "       [153.63395691],\n",
              "       [153.7119751 ],\n",
              "       [153.78959656],\n",
              "       [153.86685181],\n",
              "       [153.94372559],\n",
              "       [154.02015686],\n",
              "       [154.09620667],\n",
              "       [154.17182922],\n",
              "       [154.24705505],\n",
              "       [154.32182312],\n",
              "       [154.39616394],\n",
              "       [154.47006226],\n",
              "       [154.54348755],\n",
              "       [154.61650085],\n",
              "       [154.68902588],\n",
              "       [154.76107788],\n",
              "       [154.83267212],\n",
              "       [154.90376282],\n",
              "       [154.97441101],\n",
              "       [155.04452515],\n",
              "       [155.11416626],\n",
              "       [155.18331909],\n",
              "       [155.25195312],\n",
              "       [155.32008362],\n",
              "       [155.38768005],\n",
              "       [155.45477295],\n",
              "       [155.5213623 ],\n",
              "       [155.58740234],\n",
              "       [155.65292358],\n",
              "       [155.71791077],\n",
              "       [155.78234863],\n",
              "       [155.84625244],\n",
              "       [155.90963745],\n",
              "       [155.97244263],\n",
              "       [156.03471375],\n",
              "       [156.09643555],\n",
              "       [156.15760803],\n",
              "       [156.21820068],\n",
              "       [156.27825928],\n",
              "       [156.3377533 ],\n",
              "       [156.396698  ],\n",
              "       [156.45506287],\n",
              "       [156.51287842],\n",
              "       [156.57011414],\n",
              "       [156.62678528],\n",
              "       [156.68289185],\n",
              "       [156.73843384],\n",
              "       [156.79341125],\n",
              "       [156.8478241 ],\n",
              "       [156.90167236],\n",
              "       [156.9549408 ],\n",
              "       [157.00764465],\n",
              "       [157.05978394],\n",
              "       [157.11135864],\n",
              "       [157.16236877],\n",
              "       [157.21279907],\n",
              "       [157.26266479],\n",
              "       [157.31199646],\n",
              "       [157.36073303],\n",
              "       [157.40893555],\n",
              "       [157.45655823],\n",
              "       [157.50364685],\n",
              "       [157.55015564],\n",
              "       [157.59611511],\n",
              "       [157.64154053],\n",
              "       [157.68640137],\n",
              "       [157.73072815],\n",
              "       [157.77449036],\n",
              "       [157.81773376],\n",
              "       [157.86042786],\n",
              "       [157.90257263],\n",
              "       [157.94421387],\n",
              "       [157.98529053],\n",
              "       [158.02586365],\n",
              "       [158.06590271],\n",
              "       [158.10543823],\n",
              "       [158.14442444],\n",
              "       [158.1829071 ],\n",
              "       [158.22088623],\n",
              "       [158.25834656],\n",
              "       [158.2953186 ],\n",
              "       [158.33178711],\n",
              "       [158.36775208],\n",
              "       [158.4032135 ],\n",
              "       [158.4382019 ],\n",
              "       [158.47270203],\n",
              "       [158.50672913],\n",
              "       [158.54026794],\n",
              "       [158.573349  ],\n",
              "       [158.60594177],\n",
              "       [158.63807678],\n",
              "       [158.66975403],\n",
              "       [158.70098877],\n",
              "       [158.73175049],\n",
              "       [158.7620697 ],\n",
              "       [158.79194641],\n",
              "       [158.82139587],\n",
              "       [158.85038757],\n",
              "       [158.87898254],\n",
              "       [158.90711975],\n",
              "       [158.93484497],\n",
              "       [158.9621582 ],\n",
              "       [158.98905945],\n",
              "       [159.01554871],\n",
              "       [159.04165649],\n",
              "       [159.06733704],\n",
              "       [159.09263611],\n",
              "       [159.11753845],\n",
              "       [159.14207458],\n",
              "       [159.16621399],\n",
              "       [159.18997192],\n",
              "       [159.21336365],\n",
              "       [159.23638916],\n",
              "       [159.25906372],\n",
              "       [159.28137207],\n",
              "       [159.30332947],\n",
              "       [159.32492065],\n",
              "       [159.34617615],\n",
              "       [159.36709595],\n",
              "       [159.38769531],\n",
              "       [159.40792847],\n",
              "       [159.4278717 ],\n",
              "       [159.44746399],\n",
              "       [159.4667511 ],\n",
              "       [159.48570251],\n",
              "       [159.50436401],\n",
              "       [159.52272034],\n",
              "       [159.54077148],\n",
              "       [159.55851746],\n",
              "       [159.57597351],\n",
              "       [159.59315491],\n",
              "       [159.61003113],\n",
              "       [159.62663269],\n",
              "       [159.64294434],\n",
              "       [159.65901184],\n",
              "       [159.67478943],\n",
              "       [159.69030762],\n",
              "       [159.70555115],\n",
              "       [159.72055054],\n",
              "       [159.73530579],\n",
              "       [159.74978638],\n",
              "       [159.76403809],\n",
              "       [159.7780304 ],\n",
              "       [159.79179382],\n",
              "       [159.80532837],\n",
              "       [159.81861877],\n",
              "       [159.83169556],\n",
              "       [159.8445282 ],\n",
              "       [159.85714722],\n",
              "       [159.86955261],\n",
              "       [159.88172913],\n",
              "       [159.89370728],\n",
              "       [159.9054718 ],\n",
              "       [159.91705322],\n",
              "       [159.92840576],\n",
              "       [159.93955994],\n",
              "       [159.95053101],\n",
              "       [159.96130371],\n",
              "       [159.97189331],\n",
              "       [159.98361206],\n",
              "       [159.99557495],\n",
              "       [160.00743103],\n",
              "       [160.01914978],\n",
              "       [160.03076172],\n",
              "       [160.04232788],\n",
              "       [160.05381775],\n",
              "       [160.06532288],\n",
              "       [160.07681274],\n",
              "       [160.08834839]])"
            ]
          },
          "metadata": {
            "tags": []
          },
          "execution_count": 49
        }
      ]
    },
    {
      "cell_type": "code",
      "metadata": {
        "id": "rhZ1QzBcYxSh",
        "outputId": "c7250a7e-af43-4244-fc27-1267b4ab7daa",
        "colab": {
          "base_uri": "https://localhost:8080/",
          "height": 34
        }
      },
      "source": [
        "len(test2)"
      ],
      "execution_count": null,
      "outputs": [
        {
          "output_type": "execute_result",
          "data": {
            "text/plain": [
              "415"
            ]
          },
          "metadata": {
            "tags": []
          },
          "execution_count": 50
        }
      ]
    },
    {
      "cell_type": "code",
      "metadata": {
        "id": "Fo2k4aONYpE7"
      },
      "source": [
        "predictedValues = test2[60:len(test2)]"
      ],
      "execution_count": null,
      "outputs": []
    },
    {
      "cell_type": "code",
      "metadata": {
        "id": "2ii03lUDZHOE",
        "outputId": "3272758b-f32f-4a36-8632-09cfc890f9d6",
        "colab": {
          "base_uri": "https://localhost:8080/",
          "height": 1000
        }
      },
      "source": [
        "#355 new stock prices \n",
        "predictedValues"
      ],
      "execution_count": null,
      "outputs": [
        {
          "output_type": "execute_result",
          "data": {
            "text/plain": [
              "array([[141.02279663],\n",
              "       [140.45756531],\n",
              "       [140.05300903],\n",
              "       [139.80172729],\n",
              "       [139.68063354],\n",
              "       [139.66000366],\n",
              "       [139.70866394],\n",
              "       [139.79916382],\n",
              "       [139.91003418],\n",
              "       [140.02560425],\n",
              "       [140.13627625],\n",
              "       [140.23722839],\n",
              "       [140.326828  ],\n",
              "       [140.40565491],\n",
              "       [140.47572327],\n",
              "       [140.53944397],\n",
              "       [140.59869385],\n",
              "       [140.65570068],\n",
              "       [140.71182251],\n",
              "       [140.7678833 ],\n",
              "       [140.82437134],\n",
              "       [140.88160706],\n",
              "       [140.93972778],\n",
              "       [140.99861145],\n",
              "       [141.05810547],\n",
              "       [141.11785889],\n",
              "       [141.17796326],\n",
              "       [141.2383728 ],\n",
              "       [141.29908752],\n",
              "       [141.3598938 ],\n",
              "       [141.42088318],\n",
              "       [141.48194885],\n",
              "       [141.54318237],\n",
              "       [141.60490417],\n",
              "       [141.66685486],\n",
              "       [141.72895813],\n",
              "       [141.79135132],\n",
              "       [141.85394287],\n",
              "       [141.91680908],\n",
              "       [141.97973633],\n",
              "       [142.04302979],\n",
              "       [142.10661316],\n",
              "       [142.17053223],\n",
              "       [142.23484802],\n",
              "       [142.29942322],\n",
              "       [142.36442566],\n",
              "       [142.4296875 ],\n",
              "       [142.49525452],\n",
              "       [142.56103516],\n",
              "       [142.62710571],\n",
              "       [142.69355774],\n",
              "       [142.76043701],\n",
              "       [142.82757568],\n",
              "       [142.89503479],\n",
              "       [142.96284485],\n",
              "       [143.03108215],\n",
              "       [143.09962463],\n",
              "       [143.16824341],\n",
              "       [143.23709106],\n",
              "       [143.30627441],\n",
              "       [143.37574768],\n",
              "       [143.44560242],\n",
              "       [143.51577759],\n",
              "       [143.58628845],\n",
              "       [143.65708923],\n",
              "       [143.72819519],\n",
              "       [143.79959106],\n",
              "       [143.87132263],\n",
              "       [143.94329834],\n",
              "       [144.01559448],\n",
              "       [144.0881958 ],\n",
              "       [144.16108704],\n",
              "       [144.23426819],\n",
              "       [144.30775452],\n",
              "       [144.3815155 ],\n",
              "       [144.45559692],\n",
              "       [144.52996826],\n",
              "       [144.60461426],\n",
              "       [144.67956543],\n",
              "       [144.75480652],\n",
              "       [144.83032227],\n",
              "       [144.90612793],\n",
              "       [144.98222351],\n",
              "       [145.05860901],\n",
              "       [145.13525391],\n",
              "       [145.21220398],\n",
              "       [145.28941345],\n",
              "       [145.36689758],\n",
              "       [145.44465637],\n",
              "       [145.52267456],\n",
              "       [145.60098267],\n",
              "       [145.67955017],\n",
              "       [145.75836182],\n",
              "       [145.83746338],\n",
              "       [145.91679382],\n",
              "       [145.99639893],\n",
              "       [146.07624817],\n",
              "       [146.15635681],\n",
              "       [146.23670959],\n",
              "       [146.31730652],\n",
              "       [146.39813232],\n",
              "       [146.47918701],\n",
              "       [146.56048584],\n",
              "       [146.64202881],\n",
              "       [146.7237854 ],\n",
              "       [146.80575562],\n",
              "       [146.88795471],\n",
              "       [146.97035217],\n",
              "       [147.05296326],\n",
              "       [147.13580322],\n",
              "       [147.21882629],\n",
              "       [147.30204773],\n",
              "       [147.38545227],\n",
              "       [147.46905518],\n",
              "       [147.55284119],\n",
              "       [147.63679504],\n",
              "       [147.72093201],\n",
              "       [147.80522156],\n",
              "       [147.88967896],\n",
              "       [147.9743042 ],\n",
              "       [148.05906677],\n",
              "       [148.14398193],\n",
              "       [148.22904968],\n",
              "       [148.3142395 ],\n",
              "       [148.39955139],\n",
              "       [148.48500061],\n",
              "       [148.57054138],\n",
              "       [148.65621948],\n",
              "       [148.74198914],\n",
              "       [148.82785034],\n",
              "       [148.91381836],\n",
              "       [148.99984741],\n",
              "       [149.08598328],\n",
              "       [149.17216492],\n",
              "       [149.25840759],\n",
              "       [149.34472656],\n",
              "       [149.43109131],\n",
              "       [149.51748657],\n",
              "       [149.60391235],\n",
              "       [149.69038391],\n",
              "       [149.77687073],\n",
              "       [149.86335754],\n",
              "       [149.94985962],\n",
              "       [150.03636169],\n",
              "       [150.12283325],\n",
              "       [150.20930481],\n",
              "       [150.29573059],\n",
              "       [150.38214111],\n",
              "       [150.46850586],\n",
              "       [150.55480957],\n",
              "       [150.64105225],\n",
              "       [150.72724915],\n",
              "       [150.81333923],\n",
              "       [150.89936829],\n",
              "       [150.98527527],\n",
              "       [151.07112122],\n",
              "       [151.15682983],\n",
              "       [151.24241638],\n",
              "       [151.32788086],\n",
              "       [151.41320801],\n",
              "       [151.49841309],\n",
              "       [151.58343506],\n",
              "       [151.66830444],\n",
              "       [151.75299072],\n",
              "       [151.83752441],\n",
              "       [151.92185974],\n",
              "       [152.00598145],\n",
              "       [152.08992004],\n",
              "       [152.1736145 ],\n",
              "       [152.25712585],\n",
              "       [152.34036255],\n",
              "       [152.42338562],\n",
              "       [152.50614929],\n",
              "       [152.58866882],\n",
              "       [152.67089844],\n",
              "       [152.75286865],\n",
              "       [152.83453369],\n",
              "       [152.91593933],\n",
              "       [152.99703979],\n",
              "       [153.07781982],\n",
              "       [153.15827942],\n",
              "       [153.23840332],\n",
              "       [153.31822205],\n",
              "       [153.39768982],\n",
              "       [153.47679138],\n",
              "       [153.55555725],\n",
              "       [153.63395691],\n",
              "       [153.7119751 ],\n",
              "       [153.78959656],\n",
              "       [153.86685181],\n",
              "       [153.94372559],\n",
              "       [154.02015686],\n",
              "       [154.09620667],\n",
              "       [154.17182922],\n",
              "       [154.24705505],\n",
              "       [154.32182312],\n",
              "       [154.39616394],\n",
              "       [154.47006226],\n",
              "       [154.54348755],\n",
              "       [154.61650085],\n",
              "       [154.68902588],\n",
              "       [154.76107788],\n",
              "       [154.83267212],\n",
              "       [154.90376282],\n",
              "       [154.97441101],\n",
              "       [155.04452515],\n",
              "       [155.11416626],\n",
              "       [155.18331909],\n",
              "       [155.25195312],\n",
              "       [155.32008362],\n",
              "       [155.38768005],\n",
              "       [155.45477295],\n",
              "       [155.5213623 ],\n",
              "       [155.58740234],\n",
              "       [155.65292358],\n",
              "       [155.71791077],\n",
              "       [155.78234863],\n",
              "       [155.84625244],\n",
              "       [155.90963745],\n",
              "       [155.97244263],\n",
              "       [156.03471375],\n",
              "       [156.09643555],\n",
              "       [156.15760803],\n",
              "       [156.21820068],\n",
              "       [156.27825928],\n",
              "       [156.3377533 ],\n",
              "       [156.396698  ],\n",
              "       [156.45506287],\n",
              "       [156.51287842],\n",
              "       [156.57011414],\n",
              "       [156.62678528],\n",
              "       [156.68289185],\n",
              "       [156.73843384],\n",
              "       [156.79341125],\n",
              "       [156.8478241 ],\n",
              "       [156.90167236],\n",
              "       [156.9549408 ],\n",
              "       [157.00764465],\n",
              "       [157.05978394],\n",
              "       [157.11135864],\n",
              "       [157.16236877],\n",
              "       [157.21279907],\n",
              "       [157.26266479],\n",
              "       [157.31199646],\n",
              "       [157.36073303],\n",
              "       [157.40893555],\n",
              "       [157.45655823],\n",
              "       [157.50364685],\n",
              "       [157.55015564],\n",
              "       [157.59611511],\n",
              "       [157.64154053],\n",
              "       [157.68640137],\n",
              "       [157.73072815],\n",
              "       [157.77449036],\n",
              "       [157.81773376],\n",
              "       [157.86042786],\n",
              "       [157.90257263],\n",
              "       [157.94421387],\n",
              "       [157.98529053],\n",
              "       [158.02586365],\n",
              "       [158.06590271],\n",
              "       [158.10543823],\n",
              "       [158.14442444],\n",
              "       [158.1829071 ],\n",
              "       [158.22088623],\n",
              "       [158.25834656],\n",
              "       [158.2953186 ],\n",
              "       [158.33178711],\n",
              "       [158.36775208],\n",
              "       [158.4032135 ],\n",
              "       [158.4382019 ],\n",
              "       [158.47270203],\n",
              "       [158.50672913],\n",
              "       [158.54026794],\n",
              "       [158.573349  ],\n",
              "       [158.60594177],\n",
              "       [158.63807678],\n",
              "       [158.66975403],\n",
              "       [158.70098877],\n",
              "       [158.73175049],\n",
              "       [158.7620697 ],\n",
              "       [158.79194641],\n",
              "       [158.82139587],\n",
              "       [158.85038757],\n",
              "       [158.87898254],\n",
              "       [158.90711975],\n",
              "       [158.93484497],\n",
              "       [158.9621582 ],\n",
              "       [158.98905945],\n",
              "       [159.01554871],\n",
              "       [159.04165649],\n",
              "       [159.06733704],\n",
              "       [159.09263611],\n",
              "       [159.11753845],\n",
              "       [159.14207458],\n",
              "       [159.16621399],\n",
              "       [159.18997192],\n",
              "       [159.21336365],\n",
              "       [159.23638916],\n",
              "       [159.25906372],\n",
              "       [159.28137207],\n",
              "       [159.30332947],\n",
              "       [159.32492065],\n",
              "       [159.34617615],\n",
              "       [159.36709595],\n",
              "       [159.38769531],\n",
              "       [159.40792847],\n",
              "       [159.4278717 ],\n",
              "       [159.44746399],\n",
              "       [159.4667511 ],\n",
              "       [159.48570251],\n",
              "       [159.50436401],\n",
              "       [159.52272034],\n",
              "       [159.54077148],\n",
              "       [159.55851746],\n",
              "       [159.57597351],\n",
              "       [159.59315491],\n",
              "       [159.61003113],\n",
              "       [159.62663269],\n",
              "       [159.64294434],\n",
              "       [159.65901184],\n",
              "       [159.67478943],\n",
              "       [159.69030762],\n",
              "       [159.70555115],\n",
              "       [159.72055054],\n",
              "       [159.73530579],\n",
              "       [159.74978638],\n",
              "       [159.76403809],\n",
              "       [159.7780304 ],\n",
              "       [159.79179382],\n",
              "       [159.80532837],\n",
              "       [159.81861877],\n",
              "       [159.83169556],\n",
              "       [159.8445282 ],\n",
              "       [159.85714722],\n",
              "       [159.86955261],\n",
              "       [159.88172913],\n",
              "       [159.89370728],\n",
              "       [159.9054718 ],\n",
              "       [159.91705322],\n",
              "       [159.92840576],\n",
              "       [159.93955994],\n",
              "       [159.95053101],\n",
              "       [159.96130371],\n",
              "       [159.97189331],\n",
              "       [159.98361206],\n",
              "       [159.99557495],\n",
              "       [160.00743103],\n",
              "       [160.01914978],\n",
              "       [160.03076172],\n",
              "       [160.04232788],\n",
              "       [160.05381775],\n",
              "       [160.06532288],\n",
              "       [160.07681274],\n",
              "       [160.08834839]])"
            ]
          },
          "metadata": {
            "tags": []
          },
          "execution_count": 52
        }
      ]
    },
    {
      "cell_type": "code",
      "metadata": {
        "id": "v4ItGYBWZIN_",
        "outputId": "1020ed16-3dc0-4b24-ab0f-d9cd9b9f879c",
        "colab": {
          "base_uri": "https://localhost:8080/",
          "height": 458
        }
      },
      "source": [
        "#plotting 355 predicted stock prices \n",
        "plt.figure(figsize=(12,7))\n",
        "plt.plot(predictedValues, color = 'orange',label='Predicted Stock Price')\n",
        "plt.title('Fintech Stock Price Prediction')\n",
        "plt.xlabel('Days')\n",
        "plt.ylabel('Actual Stock Price')\n",
        "plt.legend(loc='upper left', fontsize=8)\n",
        "plt.show()"
      ],
      "execution_count": null,
      "outputs": [
        {
          "output_type": "display_data",
          "data": {
            "image/png": "[encoded data removed]",
            "text/plain": [
              "<Figure size 864x504 with 1 Axes>"
            ]
          },
          "metadata": {
            "tags": [],
            "needs_background": "light"
          }
        }
      ]
    },
    {
      "cell_type": "code",
      "metadata": {
        "id": "VLf0dneYa8S9",
        "outputId": "2c75e362-72ee-42ab-f84c-6e28e2267fd6",
        "colab": {
          "base_uri": "https://localhost:8080/",
          "height": 34
        }
      },
      "source": [
        "len(predictedValues)"
      ],
      "execution_count": null,
      "outputs": [
        {
          "output_type": "execute_result",
          "data": {
            "text/plain": [
              "355"
            ]
          },
          "metadata": {
            "tags": []
          },
          "execution_count": 54
        }
      ]
    },
    {
      "cell_type": "code",
      "metadata": {
        "id": "jtTXWQxXa_mC"
      },
      "source": [
        "df_lstm = dfans.copy(deep=True)"
      ],
      "execution_count": null,
      "outputs": []
    },
    {
      "cell_type": "code",
      "metadata": {
        "id": "ZLlPANQSbHOG",
        "outputId": "ac71641b-dbbe-4576-f700-e850e2a519e8",
        "colab": {
          "base_uri": "https://localhost:8080/",
          "height": 419
        }
      },
      "source": [
        "df_lstm"
      ],
      "execution_count": null,
      "outputs": [
        {
          "output_type": "execute_result",
          "data": {
            "text/html": [
              "<div>\n",
              "<style scoped>\n",
              "    .dataframe tbody tr th:only-of-type {\n",
              "        vertical-align: middle;\n",
              "    }\n",
              "\n",
              "    .dataframe tbody tr th {\n",
              "        vertical-align: top;\n",
              "    }\n",
              "\n",
              "    .dataframe thead th {\n",
              "        text-align: right;\n",
              "    }\n",
              "</style>\n",
              "<table border=\"1\" class=\"dataframe\">\n",
              "  <thead>\n",
              "    <tr style=\"text-align: right;\">\n",
              "      <th></th>\n",
              "      <th>Date</th>\n",
              "      <th>Close</th>\n",
              "    </tr>\n",
              "  </thead>\n",
              "  <tbody>\n",
              "    <tr>\n",
              "      <th>0</th>\n",
              "      <td>2/01/2019</td>\n",
              "      <td>100</td>\n",
              "    </tr>\n",
              "    <tr>\n",
              "      <th>1</th>\n",
              "      <td>3/01/2019</td>\n",
              "      <td>100</td>\n",
              "    </tr>\n",
              "    <tr>\n",
              "      <th>2</th>\n",
              "      <td>4/01/2019</td>\n",
              "      <td>100</td>\n",
              "    </tr>\n",
              "    <tr>\n",
              "      <th>3</th>\n",
              "      <td>7/01/2019</td>\n",
              "      <td>100</td>\n",
              "    </tr>\n",
              "    <tr>\n",
              "      <th>4</th>\n",
              "      <td>8/01/2019</td>\n",
              "      <td>100</td>\n",
              "    </tr>\n",
              "    <tr>\n",
              "      <th>...</th>\n",
              "      <td>...</td>\n",
              "      <td>...</td>\n",
              "    </tr>\n",
              "    <tr>\n",
              "      <th>350</th>\n",
              "      <td>22/05/2020</td>\n",
              "      <td>100</td>\n",
              "    </tr>\n",
              "    <tr>\n",
              "      <th>351</th>\n",
              "      <td>26/05/2020</td>\n",
              "      <td>100</td>\n",
              "    </tr>\n",
              "    <tr>\n",
              "      <th>352</th>\n",
              "      <td>27/05/2020</td>\n",
              "      <td>100</td>\n",
              "    </tr>\n",
              "    <tr>\n",
              "      <th>353</th>\n",
              "      <td>28/05/2020</td>\n",
              "      <td>100</td>\n",
              "    </tr>\n",
              "    <tr>\n",
              "      <th>354</th>\n",
              "      <td>29/05/2020</td>\n",
              "      <td>100</td>\n",
              "    </tr>\n",
              "  </tbody>\n",
              "</table>\n",
              "<p>355 rows × 2 columns</p>\n",
              "</div>"
            ],
            "text/plain": [
              "           Date  Close\n",
              "0     2/01/2019    100\n",
              "1     3/01/2019    100\n",
              "2     4/01/2019    100\n",
              "3     7/01/2019    100\n",
              "4     8/01/2019    100\n",
              "..          ...    ...\n",
              "350  22/05/2020    100\n",
              "351  26/05/2020    100\n",
              "352  27/05/2020    100\n",
              "353  28/05/2020    100\n",
              "354  29/05/2020    100\n",
              "\n",
              "[355 rows x 2 columns]"
            ]
          },
          "metadata": {
            "tags": []
          },
          "execution_count": 56
        }
      ]
    },
    {
      "cell_type": "code",
      "metadata": {
        "id": "WjD5P66NbI5h"
      },
      "source": [
        "df_lstm[\"Close\"] = predictedValues"
      ],
      "execution_count": null,
      "outputs": []
    },
    {
      "cell_type": "code",
      "metadata": {
        "id": "y9vJbDf9bOgX",
        "outputId": "39ff6045-94dd-4246-da52-a98542cd1454",
        "colab": {
          "base_uri": "https://localhost:8080/",
          "height": 419
        }
      },
      "source": [
        "df_lstm"
      ],
      "execution_count": null,
      "outputs": [
        {
          "output_type": "execute_result",
          "data": {
            "text/html": [
              "<div>\n",
              "<style scoped>\n",
              "    .dataframe tbody tr th:only-of-type {\n",
              "        vertical-align: middle;\n",
              "    }\n",
              "\n",
              "    .dataframe tbody tr th {\n",
              "        vertical-align: top;\n",
              "    }\n",
              "\n",
              "    .dataframe thead th {\n",
              "        text-align: right;\n",
              "    }\n",
              "</style>\n",
              "<table border=\"1\" class=\"dataframe\">\n",
              "  <thead>\n",
              "    <tr style=\"text-align: right;\">\n",
              "      <th></th>\n",
              "      <th>Date</th>\n",
              "      <th>Close</th>\n",
              "    </tr>\n",
              "  </thead>\n",
              "  <tbody>\n",
              "    <tr>\n",
              "      <th>0</th>\n",
              "      <td>2/01/2019</td>\n",
              "      <td>141.022797</td>\n",
              "    </tr>\n",
              "    <tr>\n",
              "      <th>1</th>\n",
              "      <td>3/01/2019</td>\n",
              "      <td>140.457565</td>\n",
              "    </tr>\n",
              "    <tr>\n",
              "      <th>2</th>\n",
              "      <td>4/01/2019</td>\n",
              "      <td>140.053009</td>\n",
              "    </tr>\n",
              "    <tr>\n",
              "      <th>3</th>\n",
              "      <td>7/01/2019</td>\n",
              "      <td>139.801727</td>\n",
              "    </tr>\n",
              "    <tr>\n",
              "      <th>4</th>\n",
              "      <td>8/01/2019</td>\n",
              "      <td>139.680634</td>\n",
              "    </tr>\n",
              "    <tr>\n",
              "      <th>...</th>\n",
              "      <td>...</td>\n",
              "      <td>...</td>\n",
              "    </tr>\n",
              "    <tr>\n",
              "      <th>350</th>\n",
              "      <td>22/05/2020</td>\n",
              "      <td>160.042328</td>\n",
              "    </tr>\n",
              "    <tr>\n",
              "      <th>351</th>\n",
              "      <td>26/05/2020</td>\n",
              "      <td>160.053818</td>\n",
              "    </tr>\n",
              "    <tr>\n",
              "      <th>352</th>\n",
              "      <td>27/05/2020</td>\n",
              "      <td>160.065323</td>\n",
              "    </tr>\n",
              "    <tr>\n",
              "      <th>353</th>\n",
              "      <td>28/05/2020</td>\n",
              "      <td>160.076813</td>\n",
              "    </tr>\n",
              "    <tr>\n",
              "      <th>354</th>\n",
              "      <td>29/05/2020</td>\n",
              "      <td>160.088348</td>\n",
              "    </tr>\n",
              "  </tbody>\n",
              "</table>\n",
              "<p>355 rows × 2 columns</p>\n",
              "</div>"
            ],
            "text/plain": [
              "           Date       Close\n",
              "0     2/01/2019  141.022797\n",
              "1     3/01/2019  140.457565\n",
              "2     4/01/2019  140.053009\n",
              "3     7/01/2019  139.801727\n",
              "4     8/01/2019  139.680634\n",
              "..          ...         ...\n",
              "350  22/05/2020  160.042328\n",
              "351  26/05/2020  160.053818\n",
              "352  27/05/2020  160.065323\n",
              "353  28/05/2020  160.076813\n",
              "354  29/05/2020  160.088348\n",
              "\n",
              "[355 rows x 2 columns]"
            ]
          },
          "metadata": {
            "tags": []
          },
          "execution_count": 58
        }
      ]
    },
    {
      "cell_type": "code",
      "metadata": {
        "id": "gnEyLjoFE_Fk",
        "outputId": "b2de0429-2ee0-498b-aaef-1de4091f7cef",
        "colab": {
          "base_uri": "https://localhost:8080/",
          "height": 34
        }
      },
      "source": [
        "from google.colab import drive\n",
        "drive.mount('drive')"
      ],
      "execution_count": null,
      "outputs": [
        {
          "output_type": "stream",
          "text": [
            "Mounted at drive\n"
          ],
          "name": "stdout"
        }
      ]
    },
    {
      "cell_type": "code",
      "metadata": {
        "id": "KZ6LXB0kFGEv",
        "outputId": "b078be8b-e30b-463b-d5bb-bed81e57e9f3",
        "colab": {
          "base_uri": "https://localhost:8080/",
          "height": 34
        }
      },
      "source": [
        "import os\n",
        "os.chdir(\"/content/drive/\")\n",
        "!ls"
      ],
      "execution_count": null,
      "outputs": [
        {
          "output_type": "stream",
          "text": [
            "'My Drive'\n"
          ],
          "name": "stdout"
        }
      ]
    },
    {
      "cell_type": "code",
      "metadata": {
        "id": "Vod8WXocbRL2"
      },
      "source": [
        "submission_lstm = df_lstm.to_csv('/content/drive/My Drive/Fintech_Project_1/submission_lstm.csv', index=False)"
      ],
      "execution_count": null,
      "outputs": []
    },
    {
      "cell_type": "markdown",
      "metadata": {
        "id": "0e6bWPfOFaV3"
      },
      "source": [
        "Model 2: ARIMA"
      ]
    },
    {
      "cell_type": "code",
      "metadata": {
        "id": "hYz7z0w_F_jG"
      },
      "source": [
        "df_arima = df2.copy(deep = True)"
      ],
      "execution_count": null,
      "outputs": []
    },
    {
      "cell_type": "code",
      "metadata": {
        "id": "FsQFk-1LeeV-",
        "outputId": "f424c349-2ffa-4afc-bf43-5cf36aaf9fe7",
        "colab": {
          "base_uri": "https://localhost:8080/",
          "height": 235
        }
      },
      "source": [
        "df_arima.head()"
      ],
      "execution_count": null,
      "outputs": [
        {
          "output_type": "execute_result",
          "data": {
            "text/html": [
              "<div>\n",
              "<style scoped>\n",
              "    .dataframe tbody tr th:only-of-type {\n",
              "        vertical-align: middle;\n",
              "    }\n",
              "\n",
              "    .dataframe tbody tr th {\n",
              "        vertical-align: top;\n",
              "    }\n",
              "\n",
              "    .dataframe thead th {\n",
              "        text-align: right;\n",
              "    }\n",
              "</style>\n",
              "<table border=\"1\" class=\"dataframe\">\n",
              "  <thead>\n",
              "    <tr style=\"text-align: right;\">\n",
              "      <th></th>\n",
              "      <th>Date</th>\n",
              "      <th>Open</th>\n",
              "      <th>High</th>\n",
              "      <th>Low</th>\n",
              "      <th>Close</th>\n",
              "      <th>Adj Close</th>\n",
              "      <th>Volume</th>\n",
              "    </tr>\n",
              "    <tr>\n",
              "      <th>Date</th>\n",
              "      <th></th>\n",
              "      <th></th>\n",
              "      <th></th>\n",
              "      <th></th>\n",
              "      <th></th>\n",
              "      <th></th>\n",
              "      <th></th>\n",
              "    </tr>\n",
              "  </thead>\n",
              "  <tbody>\n",
              "    <tr>\n",
              "      <th>2009-12-31</th>\n",
              "      <td>2009-12-31</td>\n",
              "      <td>37.068000</td>\n",
              "      <td>37.131000</td>\n",
              "      <td>36.948751</td>\n",
              "      <td>36.998249</td>\n",
              "      <td>36.998249</td>\n",
              "      <td>4892780.4</td>\n",
              "    </tr>\n",
              "    <tr>\n",
              "      <th>2010-01-04</th>\n",
              "      <td>2010-01-04</td>\n",
              "      <td>37.187250</td>\n",
              "      <td>37.394250</td>\n",
              "      <td>37.092751</td>\n",
              "      <td>37.234500</td>\n",
              "      <td>37.234500</td>\n",
              "      <td>7115420.4</td>\n",
              "    </tr>\n",
              "    <tr>\n",
              "      <th>2010-01-05</th>\n",
              "      <td>2010-01-05</td>\n",
              "      <td>37.151249</td>\n",
              "      <td>37.275000</td>\n",
              "      <td>36.780001</td>\n",
              "      <td>37.162500</td>\n",
              "      <td>37.162500</td>\n",
              "      <td>7148180.4</td>\n",
              "    </tr>\n",
              "    <tr>\n",
              "      <th>2010-01-06</th>\n",
              "      <td>2010-01-06</td>\n",
              "      <td>37.218750</td>\n",
              "      <td>37.275000</td>\n",
              "      <td>37.045501</td>\n",
              "      <td>37.133251</td>\n",
              "      <td>37.133251</td>\n",
              "      <td>4610180.4</td>\n",
              "    </tr>\n",
              "    <tr>\n",
              "      <th>2010-01-07</th>\n",
              "      <td>2010-01-07</td>\n",
              "      <td>37.166999</td>\n",
              "      <td>37.263749</td>\n",
              "      <td>36.946500</td>\n",
              "      <td>37.059000</td>\n",
              "      <td>37.059000</td>\n",
              "      <td>4356020.4</td>\n",
              "    </tr>\n",
              "  </tbody>\n",
              "</table>\n",
              "</div>"
            ],
            "text/plain": [
              "                 Date       Open       High  ...      Close  Adj Close     Volume\n",
              "Date                                         ...                                 \n",
              "2009-12-31 2009-12-31  37.068000  37.131000  ...  36.998249  36.998249  4892780.4\n",
              "2010-01-04 2010-01-04  37.187250  37.394250  ...  37.234500  37.234500  7115420.4\n",
              "2010-01-05 2010-01-05  37.151249  37.275000  ...  37.162500  37.162500  7148180.4\n",
              "2010-01-06 2010-01-06  37.218750  37.275000  ...  37.133251  37.133251  4610180.4\n",
              "2010-01-07 2010-01-07  37.166999  37.263749  ...  37.059000  37.059000  4356020.4\n",
              "\n",
              "[5 rows x 7 columns]"
            ]
          },
          "metadata": {
            "tags": []
          },
          "execution_count": 11
        }
      ]
    },
    {
      "cell_type": "code",
      "metadata": {
        "id": "nVdDEExYHNr6"
      },
      "source": [
        "df_arima.drop([\"Date\"],inplace=True, axis=1)"
      ],
      "execution_count": null,
      "outputs": []
    },
    {
      "cell_type": "code",
      "metadata": {
        "id": "yRDclw_FHPHx",
        "outputId": "a386da7c-7a66-425f-f929-96ca8930bcc4",
        "colab": {
          "base_uri": "https://localhost:8080/",
          "height": 235
        }
      },
      "source": [
        "df_arima.head()"
      ],
      "execution_count": null,
      "outputs": [
        {
          "output_type": "execute_result",
          "data": {
            "text/html": [
              "<div>\n",
              "<style scoped>\n",
              "    .dataframe tbody tr th:only-of-type {\n",
              "        vertical-align: middle;\n",
              "    }\n",
              "\n",
              "    .dataframe tbody tr th {\n",
              "        vertical-align: top;\n",
              "    }\n",
              "\n",
              "    .dataframe thead th {\n",
              "        text-align: right;\n",
              "    }\n",
              "</style>\n",
              "<table border=\"1\" class=\"dataframe\">\n",
              "  <thead>\n",
              "    <tr style=\"text-align: right;\">\n",
              "      <th></th>\n",
              "      <th>Open</th>\n",
              "      <th>High</th>\n",
              "      <th>Low</th>\n",
              "      <th>Close</th>\n",
              "      <th>Adj Close</th>\n",
              "      <th>Volume</th>\n",
              "    </tr>\n",
              "    <tr>\n",
              "      <th>Date</th>\n",
              "      <th></th>\n",
              "      <th></th>\n",
              "      <th></th>\n",
              "      <th></th>\n",
              "      <th></th>\n",
              "      <th></th>\n",
              "    </tr>\n",
              "  </thead>\n",
              "  <tbody>\n",
              "    <tr>\n",
              "      <th>2009-12-31</th>\n",
              "      <td>37.068000</td>\n",
              "      <td>37.131000</td>\n",
              "      <td>36.948751</td>\n",
              "      <td>36.998249</td>\n",
              "      <td>36.998249</td>\n",
              "      <td>4892780.4</td>\n",
              "    </tr>\n",
              "    <tr>\n",
              "      <th>2010-01-04</th>\n",
              "      <td>37.187250</td>\n",
              "      <td>37.394250</td>\n",
              "      <td>37.092751</td>\n",
              "      <td>37.234500</td>\n",
              "      <td>37.234500</td>\n",
              "      <td>7115420.4</td>\n",
              "    </tr>\n",
              "    <tr>\n",
              "      <th>2010-01-05</th>\n",
              "      <td>37.151249</td>\n",
              "      <td>37.275000</td>\n",
              "      <td>36.780001</td>\n",
              "      <td>37.162500</td>\n",
              "      <td>37.162500</td>\n",
              "      <td>7148180.4</td>\n",
              "    </tr>\n",
              "    <tr>\n",
              "      <th>2010-01-06</th>\n",
              "      <td>37.218750</td>\n",
              "      <td>37.275000</td>\n",
              "      <td>37.045501</td>\n",
              "      <td>37.133251</td>\n",
              "      <td>37.133251</td>\n",
              "      <td>4610180.4</td>\n",
              "    </tr>\n",
              "    <tr>\n",
              "      <th>2010-01-07</th>\n",
              "      <td>37.166999</td>\n",
              "      <td>37.263749</td>\n",
              "      <td>36.946500</td>\n",
              "      <td>37.059000</td>\n",
              "      <td>37.059000</td>\n",
              "      <td>4356020.4</td>\n",
              "    </tr>\n",
              "  </tbody>\n",
              "</table>\n",
              "</div>"
            ],
            "text/plain": [
              "                 Open       High        Low      Close  Adj Close     Volume\n",
              "Date                                                                        \n",
              "2009-12-31  37.068000  37.131000  36.948751  36.998249  36.998249  4892780.4\n",
              "2010-01-04  37.187250  37.394250  37.092751  37.234500  37.234500  7115420.4\n",
              "2010-01-05  37.151249  37.275000  36.780001  37.162500  37.162500  7148180.4\n",
              "2010-01-06  37.218750  37.275000  37.045501  37.133251  37.133251  4610180.4\n",
              "2010-01-07  37.166999  37.263749  36.946500  37.059000  37.059000  4356020.4"
            ]
          },
          "metadata": {
            "tags": []
          },
          "execution_count": 13
        }
      ]
    },
    {
      "cell_type": "code",
      "metadata": {
        "id": "l5-NncHFHQQn"
      },
      "source": [
        "series = np.log(df_arima[\"Close\"])"
      ],
      "execution_count": null,
      "outputs": []
    },
    {
      "cell_type": "code",
      "metadata": {
        "id": "-PO-dI4BHSeN",
        "outputId": "c0a8644e-ffd8-477b-ea15-b06f3644c557",
        "colab": {
          "base_uri": "https://localhost:8080/",
          "height": 281
        }
      },
      "source": [
        "plot_pacf(series)\n",
        "plt.show()"
      ],
      "execution_count": null,
      "outputs": [
        {
          "output_type": "display_data",
          "data": {
            "image/png": "[encoded data removed]",
            "text/plain": [
              "<Figure size 432x288 with 1 Axes>"
            ]
          },
          "metadata": {
            "tags": [],
            "needs_background": "light"
          }
        }
      ]
    },
    {
      "cell_type": "code",
      "metadata": {
        "id": "MvOnx5XQHSkG",
        "outputId": "617338e3-3e3f-48ff-8ed4-5e8bdd6c3af0",
        "colab": {
          "base_uri": "https://localhost:8080/",
          "height": 281
        }
      },
      "source": [
        "plot_acf(series)\n",
        "plt.show()"
      ],
      "execution_count": null,
      "outputs": [
        {
          "output_type": "display_data",
          "data": {
            "image/png": "[encoded data removed]",
            "text/plain": [
              "<Figure size 432x288 with 1 Axes>"
            ]
          },
          "metadata": {
            "tags": [],
            "needs_background": "light"
          }
        }
      ]
    },
    {
      "cell_type": "code",
      "metadata": {
        "id": "6nUDDWKyHStk"
      },
      "source": [
        "train_data, test_data = df_arima[0:int(len(df_arima)*0.8)], df_arima[int(len(df_arima)*0.8):]"
      ],
      "execution_count": null,
      "outputs": []
    },
    {
      "cell_type": "code",
      "metadata": {
        "id": "Kvc63BcgHS0W"
      },
      "source": [
        "from statsmodels.tsa.arima_model import ARIMA\n",
        "from sklearn.metrics import mean_squared_error"
      ],
      "execution_count": null,
      "outputs": []
    },
    {
      "cell_type": "code",
      "metadata": {
        "id": "ozfPBc4yHSxe",
        "outputId": "17d543df-39f5-4669-d953-0147a14cb6bb",
        "colab": {
          "base_uri": "https://localhost:8080/",
          "height": 425
        }
      },
      "source": [
        "#training and testing model (2,1,0) logged values of test set\n",
        "train_data_check = np.log(train_data[\"Close\"])\n",
        "test_data_check = np.log(test_data[\"Close\"])\n",
        "history = [x for x in train_data_check]\n",
        "print(type(history))\n",
        "predictions = list()\n",
        "for t in range(len(test_data_check)):\n",
        "    model = ARIMA(history, order=(2,1,0))\n",
        "    model_fit = model.fit(disp=0)\n",
        "    output = model_fit.forecast()\n",
        "    yhat = output[0]\n",
        "    predictions.append(yhat)\n",
        "    obs = test_data_check[t]\n",
        "    history.append(obs)\n",
        "error = mean_squared_error(test_data_check, predictions)\n",
        "print('Testing Mean Squared Error: %.3f' % error)\n",
        "print(model_fit.summary())"
      ],
      "execution_count": null,
      "outputs": [
        {
          "output_type": "stream",
          "text": [
            "<class 'list'>\n",
            "Testing Mean Squared Error: 0.000\n",
            "                             ARIMA Model Results                              \n",
            "==============================================================================\n",
            "Dep. Variable:                    D.y   No. Observations:                 2263\n",
            "Model:                 ARIMA(2, 1, 0)   Log Likelihood                6338.351\n",
            "Method:                       css-mle   S.D. of innovations              0.015\n",
            "Date:                Tue, 06 Oct 2020   AIC                         -12668.703\n",
            "Time:                        14:33:10   BIC                         -12645.805\n",
            "Sample:                             1   HQIC                        -12660.347\n",
            "                                                                              \n",
            "==============================================================================\n",
            "                 coef    std err          z      P>|z|      [0.025      0.975]\n",
            "------------------------------------------------------------------------------\n",
            "const          0.0006      0.000      2.033      0.042    2.14e-05       0.001\n",
            "ar.L1.D.y     -0.0302      0.021     -1.437      0.151      -0.071       0.011\n",
            "ar.L2.D.y     -0.0299      0.021     -1.424      0.154      -0.071       0.011\n",
            "                                    Roots                                    \n",
            "=============================================================================\n",
            "                  Real          Imaginary           Modulus         Frequency\n",
            "-----------------------------------------------------------------------------\n",
            "AR.1           -0.5041           -5.7574j            5.7794           -0.2639\n",
            "AR.2           -0.5041           +5.7574j            5.7794            0.2639\n",
            "-----------------------------------------------------------------------------\n"
          ],
          "name": "stdout"
        }
      ]
    },
    {
      "cell_type": "code",
      "metadata": {
        "id": "TgDNKP7lHSrU",
        "outputId": "af3e1eae-8975-4981-eb46-eec199d8051e",
        "colab": {
          "base_uri": "https://localhost:8080/",
          "height": 34
        }
      },
      "source": [
        "#rmse\n",
        "import math\n",
        "math.sqrt(error)"
      ],
      "execution_count": null,
      "outputs": [
        {
          "output_type": "execute_result",
          "data": {
            "text/plain": [
              "0.014608281906621388"
            ]
          },
          "metadata": {
            "tags": []
          },
          "execution_count": 21
        }
      ]
    },
    {
      "cell_type": "markdown",
      "metadata": {
        "id": "AgR_YsDAGhyP"
      },
      "source": [
        "The above model seems good as the AIC and BIC are very low and all the p-values are smaller than 0.05. Also, the root mean squared error is relatively low."
      ]
    },
    {
      "cell_type": "code",
      "metadata": {
        "id": "1qtLuor0HSpr",
        "outputId": "307bea41-e4d0-40d0-a065-c0d617c7160b",
        "colab": {
          "base_uri": "https://localhost:8080/",
          "height": 475
        }
      },
      "source": [
        "#plotting logged predicted test set values with logged actual test set values\n",
        "predictions = pd.Series(predictions, index=test_data_check.index)\n",
        "plt.figure(figsize=(12,7))\n",
        "plt.plot(train_data_check, 'green', color='blue', label='Training Data')\n",
        "plt.plot(predictions, color='green', marker='o', linestyle='dashed', \n",
        "         label='Predicted Price')\n",
        "plt.plot(test_data_check.index, test_data_check, color='red', label='Actual Price')\n",
        "plt.title('Fintech Prices Prediction')\n",
        "plt.xlabel('Dates')\n",
        "plt.ylabel('Prices')\n",
        "plt.legend()"
      ],
      "execution_count": null,
      "outputs": [
        {
          "output_type": "execute_result",
          "data": {
            "text/plain": [
              "<matplotlib.legend.Legend at 0x7f8c157211d0>"
            ]
          },
          "metadata": {
            "tags": []
          },
          "execution_count": 72
        },
        {
          "output_type": "display_data",
          "data": {
            "image/png": "[encoded data removed]",
            "text/plain": [
              "<Figure size 864x504 with 1 Axes>"
            ]
          },
          "metadata": {
            "tags": [],
            "needs_background": "light"
          }
        }
      ]
    },
    {
      "cell_type": "code",
      "metadata": {
        "id": "k_xIEqGyHeur",
        "outputId": "9d668343-0bba-453f-f2af-f5da4f05cd7d",
        "colab": {
          "base_uri": "https://localhost:8080/",
          "height": 479
        }
      },
      "source": [
        "#training model (2,1,0) on entire logged train set and using it to  and predict 355 new stock prices\n",
        "train_data3 = df_arima[0:int(len(df_arima))]\n",
        "x = np.log(train_data3[\"Close\"])\n",
        "modeltry = ARIMA(x, order=(2, 1, 0))  \n",
        "fittedtry = modeltry.fit(disp=-1)  \n",
        "print(fittedtry.summary())"
      ],
      "execution_count": null,
      "outputs": [
        {
          "output_type": "stream",
          "text": [
            "                             ARIMA Model Results                              \n",
            "==============================================================================\n",
            "Dep. Variable:                D.Close   No. Observations:                 2264\n",
            "Model:                 ARIMA(2, 1, 0)   Log Likelihood                6341.163\n",
            "Method:                       css-mle   S.D. of innovations              0.015\n",
            "Date:                Tue, 06 Oct 2020   AIC                         -12674.325\n",
            "Time:                        14:34:01   BIC                         -12651.426\n",
            "Sample:                             1   HQIC                        -12665.970\n",
            "                                                                              \n",
            "=================================================================================\n",
            "                    coef    std err          z      P>|z|      [0.025      0.975]\n",
            "---------------------------------------------------------------------------------\n",
            "const             0.0006      0.000      2.053      0.040    2.72e-05       0.001\n",
            "ar.L1.D.Close    -0.0303      0.021     -1.441      0.150      -0.071       0.011\n",
            "ar.L2.D.Close    -0.0291      0.021     -1.387      0.166      -0.070       0.012\n",
            "                                    Roots                                    \n",
            "=============================================================================\n",
            "                  Real          Imaginary           Modulus         Frequency\n",
            "-----------------------------------------------------------------------------\n",
            "AR.1           -0.5197           -5.8363j            5.8594           -0.2641\n",
            "AR.2           -0.5197           +5.8363j            5.8594            0.2641\n",
            "-----------------------------------------------------------------------------\n"
          ],
          "name": "stdout"
        },
        {
          "output_type": "stream",
          "text": [
            "/usr/local/lib/python3.6/dist-packages/statsmodels/tsa/base/tsa_model.py:219: ValueWarning: A date index has been provided, but it has no associated frequency information and so will be ignored when e.g. forecasting.\n",
            "  ' ignored when e.g. forecasting.', ValueWarning)\n",
            "/usr/local/lib/python3.6/dist-packages/statsmodels/tsa/base/tsa_model.py:219: ValueWarning: A date index has been provided, but it has no associated frequency information and so will be ignored when e.g. forecasting.\n",
            "  ' ignored when e.g. forecasting.', ValueWarning)\n"
          ],
          "name": "stderr"
        }
      ]
    },
    {
      "cell_type": "code",
      "metadata": {
        "id": "o_jGYfXqVXVM",
        "outputId": "61a8596e-fa1e-4c19-d60a-fcd64c9e3aee",
        "colab": {
          "base_uri": "https://localhost:8080/",
          "height": 445
        }
      },
      "source": [
        "#training model (1,1,0) on entire logged train set and using it to  and predict 355 new stock prices\n",
        "x = np.log(train_data3[\"Close\"])\n",
        "modeltry2 = ARIMA(x, order=(1, 1, 0))  \n",
        "fittedtry2 = modeltry2.fit(disp=-1)  \n",
        "print(fittedtry2.summary())"
      ],
      "execution_count": null,
      "outputs": [
        {
          "output_type": "stream",
          "text": [
            "                             ARIMA Model Results                              \n",
            "==============================================================================\n",
            "Dep. Variable:                D.Close   No. Observations:                 2264\n",
            "Model:                 ARIMA(1, 1, 0)   Log Likelihood                6340.202\n",
            "Method:                       css-mle   S.D. of innovations              0.015\n",
            "Date:                Tue, 06 Oct 2020   AIC                         -12674.403\n",
            "Time:                        14:34:32   BIC                         -12657.229\n",
            "Sample:                             1   HQIC                        -12668.136\n",
            "                                                                              \n",
            "=================================================================================\n",
            "                    coef    std err          z      P>|z|      [0.025      0.975]\n",
            "---------------------------------------------------------------------------------\n",
            "const             0.0006      0.000      1.995      0.046    1.05e-05       0.001\n",
            "ar.L1.D.Close    -0.0294      0.021     -1.401      0.161      -0.071       0.012\n",
            "                                    Roots                                    \n",
            "=============================================================================\n",
            "                  Real          Imaginary           Modulus         Frequency\n",
            "-----------------------------------------------------------------------------\n",
            "AR.1          -33.9728           +0.0000j           33.9728            0.5000\n",
            "-----------------------------------------------------------------------------\n"
          ],
          "name": "stdout"
        },
        {
          "output_type": "stream",
          "text": [
            "/usr/local/lib/python3.6/dist-packages/statsmodels/tsa/base/tsa_model.py:219: ValueWarning: A date index has been provided, but it has no associated frequency information and so will be ignored when e.g. forecasting.\n",
            "  ' ignored when e.g. forecasting.', ValueWarning)\n",
            "/usr/local/lib/python3.6/dist-packages/statsmodels/tsa/base/tsa_model.py:219: ValueWarning: A date index has been provided, but it has no associated frequency information and so will be ignored when e.g. forecasting.\n",
            "  ' ignored when e.g. forecasting.', ValueWarning)\n"
          ],
          "name": "stderr"
        }
      ]
    },
    {
      "cell_type": "markdown",
      "metadata": {
        "id": "sTySOchqGyMr"
      },
      "source": [
        "The above model results seem good as the AIC and BIC values are very low and all the p-values are smaller than 0.05."
      ]
    },
    {
      "cell_type": "code",
      "metadata": {
        "id": "ZaMZYGXpHe1i",
        "outputId": "4af7c1f4-4c1c-49c0-aaa3-b1b1868468f0",
        "colab": {
          "base_uri": "https://localhost:8080/",
          "height": 480
        }
      },
      "source": [
        "#plotting log predicted stock prices for model (2,1,0)\n",
        "fc, se, conf = fittedtry.forecast(355, alpha=0.05)  # 95% confidence\n",
        "fc_series = pd.Series(fc, index=dfans.index)\n",
        "lower_series = pd.Series(conf[:, 0], index=dfans.index)\n",
        "upper_series = pd.Series(conf[:, 1], index=dfans.index)\n",
        "plt.figure(figsize=(12,5), dpi=100)\n",
        "plt.plot(fc_series, color = 'orange',label='Predicted log(Stock Price)')\n",
        "plt.fill_between(dfans.index, lower_series, upper_series, \n",
        "                 color='k', alpha=.10)\n",
        "plt.title('Fintech log(Stock Price) Prediction')\n",
        "plt.xlabel('Time')\n",
        "plt.ylabel('Actual log(Stock Price)')\n",
        "plt.legend(loc='upper left', fontsize=8)\n",
        "plt.show()"
      ],
      "execution_count": null,
      "outputs": [
        {
          "output_type": "display_data",
          "data": {
            "image/png": "[encoded data removed]",
            "text/plain": [
              "<Figure size 1200x500 with 1 Axes>"
            ]
          },
          "metadata": {
            "tags": [],
            "needs_background": "light"
          }
        }
      ]
    },
    {
      "cell_type": "code",
      "metadata": {
        "id": "bg0-eay_Vfy-",
        "outputId": "bace484c-5068-4699-8664-09ab0b039ee2",
        "colab": {
          "base_uri": "https://localhost:8080/",
          "height": 480
        }
      },
      "source": [
        "#plotting log predicted stock prices for model (1,1,0)\n",
        "fc2, se2, conf2 = fittedtry2.forecast(355, alpha=0.05)  # 95% confidence\n",
        "fc_series2 = pd.Series(fc2, index=dfans.index)\n",
        "lower_series2 = pd.Series(conf2[:, 0], index=dfans.index)\n",
        "upper_series2 = pd.Series(conf2[:, 1], index=dfans.index)\n",
        "plt.figure(figsize=(12,5), dpi=100)\n",
        "plt.plot(fc_series2, color = 'orange',label='Predicted log(Stock Price)')\n",
        "plt.fill_between(dfans.index, lower_series2, upper_series2, \n",
        "                 color='k', alpha=.10)\n",
        "plt.title('Fintech log(Stock Price) Prediction')\n",
        "plt.xlabel('Time')\n",
        "plt.ylabel('Actual log(Stock Price)')\n",
        "plt.legend(loc='upper left', fontsize=8)\n",
        "plt.show()"
      ],
      "execution_count": null,
      "outputs": [
        {
          "output_type": "display_data",
          "data": {
            "image/png": "[encoded data removed]",
            "text/plain": [
              "<Figure size 1200x500 with 1 Axes>"
            ]
          },
          "metadata": {
            "tags": [],
            "needs_background": "light"
          }
        }
      ]
    },
    {
      "cell_type": "code",
      "metadata": {
        "id": "RroG_fmZHomV"
      },
      "source": [
        "import math"
      ],
      "execution_count": null,
      "outputs": []
    },
    {
      "cell_type": "code",
      "metadata": {
        "id": "g2uW8McmHorg"
      },
      "source": [
        "#converting predicted log stock prices to actual stock prices for model (2,1,0)\n",
        "fc2 = []\n",
        "for i in fc:\n",
        "    x = math.exp(i)\n",
        "    fc2.append(x)"
      ],
      "execution_count": null,
      "outputs": []
    },
    {
      "cell_type": "code",
      "metadata": {
        "id": "MGw8CkcmHown",
        "outputId": "11b70a77-6830-4d63-c4e6-92b7345257e0",
        "colab": {
          "base_uri": "https://localhost:8080/",
          "height": 1000
        }
      },
      "source": [
        "fc2"
      ],
      "execution_count": null,
      "outputs": [
        {
          "output_type": "execute_result",
          "data": {
            "text/plain": [
              "[143.7151089603176,\n",
              " 143.7445263557039,\n",
              " 143.83362715907683,\n",
              " 143.92134535078094,\n",
              " 144.00741992134743,\n",
              " 144.09363931185635,\n",
              " 144.17995698578395,\n",
              " 144.26632223175667,\n",
              " 144.35273797591069,\n",
              " 144.43920564125295,\n",
              " 144.52572513219258,\n",
              " 144.61229644299618,\n",
              " 144.69891960951276,\n",
              " 144.78559466373062,\n",
              " 144.87232163656248,\n",
              " 144.95910055908587,\n",
              " 145.04593146242414,\n",
              " 145.13281437771465,\n",
              " 145.21974933611241,\n",
              " 145.30673636879143,\n",
              " 145.3937755069443,\n",
              " 145.48086678178237,\n",
              " 145.56801022453564,\n",
              " 145.65520586645286,\n",
              " 145.74245373880146,\n",
              " 145.8297538728676,\n",
              " 145.91710629995623,\n",
              " 146.00451105139098,\n",
              " 146.09196815851428,\n",
              " 146.17947765268735,\n",
              " 146.2670395652902,\n",
              " 146.35465392772156,\n",
              " 146.44232077139907,\n",
              " 146.53004012775912,\n",
              " 146.61781202825694,\n",
              " 146.70563650436665,\n",
              " 146.79351358758115,\n",
              " 146.88144330941228,\n",
              " 146.96942570139066,\n",
              " 147.05746079506594,\n",
              " 147.1455486220065,\n",
              " 147.23368921379975,\n",
              " 147.32188260205197,\n",
              " 147.4101288183884,\n",
              " 147.49842789445322,\n",
              " 147.5867798619095,\n",
              " 147.67518475243938,\n",
              " 147.76364259774394,\n",
              " 147.8521534295432,\n",
              " 147.9407172795762,\n",
              " 148.02933417960108,\n",
              " 148.11800416139488,\n",
              " 148.2067272567537,\n",
              " 148.2955034974928,\n",
              " 148.38433291544632,\n",
              " 148.47321554246764,\n",
              " 148.56215141042907,\n",
              " 148.6511405512221,\n",
              " 148.74018299675734,\n",
              " 148.82927877896444,\n",
              " 148.91842792979222,\n",
              " 149.00763048120865,\n",
              " 149.0968864652008,\n",
              " 149.18619591377498,\n",
              " 149.27555885895657,\n",
              " 149.3649753327902,\n",
              " 149.4544453673397,\n",
              " 149.54396899468807,\n",
              " 149.63354624693758,\n",
              " 149.72317715620966,\n",
              " 149.81286175464498,\n",
              " 149.90260007440358,\n",
              " 149.99239214766465,\n",
              " 150.08223800662665,\n",
              " 150.1721376835074,\n",
              " 150.26209121054399,\n",
              " 150.35209861999277,\n",
              " 150.44215994412951,\n",
              " 150.5322752152492,\n",
              " 150.6224444656663,\n",
              " 150.7126677277145,\n",
              " 150.80294503374694,\n",
              " 150.8932764161361,\n",
              " 150.9836619072739,\n",
              " 151.07410153957161,\n",
              " 151.16459534545993,\n",
              " 151.25514335738902,\n",
              " 151.3457456078284,\n",
              " 151.43640212926715,\n",
              " 151.5271129542137,\n",
              " 151.617878115196,\n",
              " 151.70869764476151,\n",
              " 151.79957157547716,\n",
              " 151.89049993992938,\n",
              " 151.98148277072414,\n",
              " 152.07252010048694,\n",
              " 152.16361196186278,\n",
              " 152.25475838751626,\n",
              " 152.34595941013154,\n",
              " 152.43721506241235,\n",
              " 152.52852537708202,\n",
              " 152.61989038688347,\n",
              " 152.7113101245792,\n",
              " 152.80278462295144,\n",
              " 152.89431391480193,\n",
              " 152.98589803295212,\n",
              " 153.07753701024313,\n",
              " 153.16923087953575,\n",
              " 153.2609796737104,\n",
              " 153.3527834256673,\n",
              " 153.44464216832625,\n",
              " 153.53655593462688,\n",
              " 153.62852475752848,\n",
              " 153.7205486700101,\n",
              " 153.81262770507055,\n",
              " 153.90476189572846,\n",
              " 153.99695127502213,\n",
              " 154.0891958760097,\n",
              " 154.18149573176916,\n",
              " 154.27385087539827,\n",
              " 154.36626134001457,\n",
              " 154.45872715875552,\n",
              " 154.5512483647784,\n",
              " 154.64382499126032,\n",
              " 154.7364570713983,\n",
              " 154.82914463840925,\n",
              " 154.92188772552993,\n",
              " 155.01468636601706,\n",
              " 155.10754059314726,\n",
              " 155.20045044021708,\n",
              " 155.293415940543,\n",
              " 155.38643712746153,\n",
              " 155.47951403432904,\n",
              " 155.57264669452195,\n",
              " 155.66583514143665,\n",
              " 155.75907940848955,\n",
              " 155.8523795291171,\n",
              " 155.94573553677566,\n",
              " 156.0391474649418,\n",
              " 156.13261534711202,\n",
              " 156.22613921680292,\n",
              " 156.3197191075512,\n",
              " 156.41335505291363,\n",
              " 156.50704708646708,\n",
              " 156.6007952418085,\n",
              " 156.69459955255502,\n",
              " 156.7884600523439,\n",
              " 156.8823767748325,\n",
              " 156.97634975369837,\n",
              " 157.0703790226393,\n",
              " 157.1644646153731,\n",
              " 157.25860656563796,\n",
              " 157.35280490719217,\n",
              " 157.44705967381427,\n",
              " 157.54137089930305,\n",
              " 157.63573861747747,\n",
              " 157.73016286217685,\n",
              " 157.82464366726074,\n",
              " 157.91918106660899,\n",
              " 158.01377509412163,\n",
              " 158.10842578371918,\n",
              " 158.20313316934235,\n",
              " 158.2978972849522,\n",
              " 158.39271816453018,\n",
              " 158.48759584207804,\n",
              " 158.58253035161795,\n",
              " 158.6775217271924,\n",
              " 158.77257000286434,\n",
              " 158.86767521271705,\n",
              " 158.96283739085428,\n",
              " 159.05805657140016,\n",
              " 159.15333278849934,\n",
              " 159.24866607631685,\n",
              " 159.3440564690382,\n",
              " 159.4395040008694,\n",
              " 159.53500870603693,\n",
              " 159.63057061878777,\n",
              " 159.72618977338942,\n",
              " 159.82186620412995,\n",
              " 159.91759994531785,\n",
              " 160.0133910312823,\n",
              " 160.10923949637296,\n",
              " 160.20514537496007,\n",
              " 160.30110870143452,\n",
              " 160.3971295102077,\n",
              " 160.49320783571167,\n",
              " 160.58934371239917,\n",
              " 160.68553717474344,\n",
              " 160.7817882572385,\n",
              " 160.878096994399,\n",
              " 160.97446342076017,\n",
              " 161.07088757087806,\n",
              " 161.16736947932932,\n",
              " 161.26390918071138,\n",
              " 161.36050670964238,\n",
              " 161.45716210076117,\n",
              " 161.55387538872733,\n",
              " 161.65064660822125,\n",
              " 161.7474757939441,\n",
              " 161.8443629806178,\n",
              " 161.94130820298506,\n",
              " 162.03831149580944,\n",
              " 162.13537289387529,\n",
              " 162.23249243198782,\n",
              " 162.3296701449731,\n",
              " 162.426906067678,\n",
              " 162.52420023497035,\n",
              " 162.62155268173876,\n",
              " 162.71896344289286,\n",
              " 162.8164325533631,\n",
              " 162.91396004810085,\n",
              " 163.01154596207851,\n",
              " 163.10919033028932,\n",
              " 163.20689318774757,\n",
              " 163.30465456948843,\n",
              " 163.40247451056814,\n",
              " 163.5003530460639,\n",
              " 163.59829021107396,\n",
              " 163.6962860407175,\n",
              " 163.79434057013484,\n",
              " 163.89245383448727,\n",
              " 163.9906258689572,\n",
              " 164.08885670874815,\n",
              " 164.18714638908457,\n",
              " 164.28549494521218,\n",
              " 164.38390241239773,\n",
              " 164.4823688259291,\n",
              " 164.58089422111527,\n",
              " 164.6794786332865,\n",
              " 164.77812209779407,\n",
              " 164.8768246500105,\n",
              " 164.97558632532952,\n",
              " 165.074407159166,\n",
              " 165.17328718695606,\n",
              " 165.27222644415704,\n",
              " 165.37122496624755,\n",
              " 165.47028278872742,\n",
              " 165.56939994711772,\n",
              " 165.66857647696082,\n",
              " 165.76781241382042,\n",
              " 165.8671077932815,\n",
              " 165.96646265095026,\n",
              " 166.0658770224544,\n",
              " 166.16535094344283,\n",
              " 166.26488444958585,\n",
              " 166.36447757657515,\n",
              " 166.4641303601238,\n",
              " 166.5638428359662,\n",
              " 166.66361503985823,\n",
              " 166.76344700757716,\n",
              " 166.8633387749217,\n",
              " 166.96329037771193,\n",
              " 167.0633018517895,\n",
              " 167.16337323301747,\n",
              " 167.26350455728036,\n",
              " 167.36369586048426,\n",
              " 167.4639471785567,\n",
              " 167.56425854744677,\n",
              " 167.66463000312504,\n",
              " 167.7650615815837,\n",
              " 167.86555331883642,\n",
              " 167.96610525091853,\n",
              " 168.06671741388686,\n",
              " 168.1673898438199,\n",
              " 168.26812257681775,\n",
              " 168.36891564900208,\n",
              " 168.46976909651622,\n",
              " 168.5706829555252,\n",
              " 168.67165726221563,\n",
              " 168.7726920527959,\n",
              " 168.87378736349595,\n",
              " 168.97494323056756,\n",
              " 169.07615969028413,\n",
              " 169.17743677894086,\n",
              " 169.2787745328546,\n",
              " 169.38017298836405,\n",
              " 169.4816321818296,\n",
              " 169.58315214963352,\n",
              " 169.68473292817973,\n",
              " 169.78637455389406,\n",
              " 169.88807706322416,\n",
              " 169.98984049263944,\n",
              " 170.09166487863124,\n",
              " 170.1935502577127,\n",
              " 170.29549666641884,\n",
              " 170.3975041413066,\n",
              " 170.49957271895477,\n",
              " 170.60170243596406,\n",
              " 170.70389332895715,\n",
              " 170.80614543457864,\n",
              " 170.908458789495,\n",
              " 171.01083343039477,\n",
              " 171.11326939398842,\n",
              " 171.21576671700842,\n",
              " 171.31832543620922,\n",
              " 171.42094558836732,\n",
              " 171.5236272102812,\n",
              " 171.62637033877147,\n",
              " 171.72917501068068,\n",
              " 171.83204126287353,\n",
              " 171.9349691322368,\n",
              " 172.03795865567932,\n",
              " 172.14100987013208,\n",
              " 172.24412281254814,\n",
              " 172.34729751990272,\n",
              " 172.45053402919325,\n",
              " 172.55383237743916,\n",
              " 172.65719260168225,\n",
              " 172.76061473898636,\n",
              " 172.86409882643758,\n",
              " 172.96764490114427,\n",
              " 173.0712530002369,\n",
              " 173.17492316086833,\n",
              " 173.27865542021354,\n",
              " 173.3824498154698,\n",
              " 173.48630638385677,\n",
              " 173.5902251626163,\n",
              " 173.69420618901256,\n",
              " 173.79824950033205,\n",
              " 173.90235513388365,\n",
              " 174.0065231269985,\n",
              " 174.11075351703022,\n",
              " 174.21504634135465,\n",
              " 174.3194016373702,\n",
              " 174.4238194424975,\n",
              " 174.5282997941797,\n",
              " 174.6328427298824,\n",
              " 174.73744828709357,\n",
              " 174.8421165033237,\n",
              " 174.94684741610567,\n",
              " 175.05164106299492,\n",
              " 175.15649748156935,\n",
              " 175.26141670942934,\n",
              " 175.36639878419788,\n",
              " 175.4714437435204,\n",
              " 175.57655162506495,\n",
              " 175.68172246652213,\n",
              " 175.78695630560503,\n",
              " 175.8922531800495,\n",
              " 175.99761312761382,\n",
              " 176.10303618607898,\n",
              " 176.20852239324861,\n",
              " 176.31407178694894,\n",
              " 176.41968440502887,\n",
              " 176.52536028536,\n",
              " 176.6310994658366,\n",
              " 176.73690198437558,\n",
              " 176.84276787891667,\n",
              " 176.94869718742225,\n",
              " 177.05468994787748,\n",
              " 177.1607461982902,\n",
              " 177.26686597669115,\n",
              " 177.37304932113372,\n",
              " 177.47929626969415,\n",
              " 177.58560686047147]"
            ]
          },
          "metadata": {
            "tags": []
          },
          "execution_count": 87
        }
      ]
    },
    {
      "cell_type": "code",
      "metadata": {
        "id": "1u0cIJqgVynI"
      },
      "source": [
        "#converting predicted log stock prices to actual stock prices for model (1,1,0)\n",
        "fc3 = []\n",
        "for i in fc2:\n",
        "    x = math.exp(i)\n",
        "    fc3.append(x)"
      ],
      "execution_count": null,
      "outputs": []
    },
    {
      "cell_type": "code",
      "metadata": {
        "id": "jC3qqEFwV5k2",
        "outputId": "ffc5f1aa-745e-4e23-c4df-b1f1b8431739",
        "colab": {
          "base_uri": "https://localhost:8080/",
          "height": 1000
        }
      },
      "source": [
        "fc3"
      ],
      "execution_count": null,
      "outputs": [
        {
          "output_type": "execute_result",
          "data": {
            "text/plain": [
              "[143.70048870875627,\n",
              " 143.78831409554317,\n",
              " 143.874415802664,\n",
              " 143.96062141634366,\n",
              " 144.04687714026053,\n",
              " 144.1331845907344,\n",
              " 144.2195437520367,\n",
              " 144.30595465652664,\n",
              " 144.3924173351663,\n",
              " 144.4789318189779,\n",
              " 144.5654981390012,\n",
              " 144.65211632629445,\n",
              " 144.7387864119346,\n",
              " 144.82550842701718,\n",
              " 144.9122824026563,\n",
              " 144.9991083699848,\n",
              " 145.08598636015418,\n",
              " 145.17291640433447,\n",
              " 145.25989853371453,\n",
              " 145.34693277950186,\n",
              " 145.43401917292258,\n",
              " 145.52115774522161,\n",
              " 145.6083485276626,\n",
              " 145.69559155152783,\n",
              " 145.78288684811844,\n",
              " 145.87023444875425,\n",
              " 145.95763438477388,\n",
              " 146.0450866875347,\n",
              " 146.13259138841292,\n",
              " 146.22014851880346,\n",
              " 146.30775811012015,\n",
              " 146.39542019379556,\n",
              " 146.48313480128118,\n",
              " 146.57090196404724,\n",
              " 146.65872171358288,\n",
              " 146.74659408139615,\n",
              " 146.8345190990139,\n",
              " 146.92249679798192,\n",
              " 147.01052720986488,\n",
              " 147.09861036624636,\n",
              " 147.1867462987289,\n",
              " 147.2749350389339,\n",
              " 147.3631766185018,\n",
              " 147.45147106909195,\n",
              " 147.5398184223826,\n",
              " 147.62821871007117,\n",
              " 147.71667196387384,\n",
              " 147.80517821552596,\n",
              " 147.89373749678182,\n",
              " 147.98234983941478,\n",
              " 148.0710152752172,\n",
              " 148.1597338360005,\n",
              " 148.24850555359515,\n",
              " 148.33733045985073,\n",
              " 148.42620858663585,\n",
              " 148.51513996583827,\n",
              " 148.60412462936483,\n",
              " 148.69316260914144,\n",
              " 148.78225393711324,\n",
              " 148.8713986452444,\n",
              " 148.96059676551835,\n",
              " 149.0498483299376,\n",
              " 149.13915337052381,\n",
              " 149.22851191931798,\n",
              " 149.31792400838017,\n",
              " 149.40738966978967,\n",
              " 149.49690893564502,\n",
              " 149.58648183806397,\n",
              " 149.6761084091835,\n",
              " 149.76578868115996,\n",
              " 149.85552268616877,\n",
              " 149.9453104564048,\n",
              " 150.0351520240821,\n",
              " 150.12504742143412,\n",
              " 150.2149966807135,\n",
              " 150.30499983419233,\n",
              " 150.39505691416196,\n",
              " 150.48516795293307,\n",
              " 150.57533298283582,\n",
              " 150.66555203621957,\n",
              " 150.7558251454532,\n",
              " 150.8461523429249,\n",
              " 150.93653366104238,\n",
              " 151.02696913223258,\n",
              " 151.11745878894203,\n",
              " 151.20800266363665,\n",
              " 151.2986007888018,\n",
              " 151.3892531969423,\n",
              " 151.4799599205825,\n",
              " 151.57072099226613,\n",
              " 151.66153644455656,\n",
              " 151.75240631003655,\n",
              " 151.84333062130844,\n",
              " 151.9343094109941,\n",
              " 152.0253427117349,\n",
              " 152.11643055619186,\n",
              " 152.2075729770455,\n",
              " 152.2987700069959,\n",
              " 152.39002167876282,\n",
              " 152.48132802508553,\n",
              " 152.572689078723,\n",
              " 152.66410487245372,\n",
              " 152.75557543907598,\n",
              " 152.84710081140756,\n",
              " 152.93868102228598,\n",
              " 153.03031610456844,\n",
              " 153.12200609113182,\n",
              " 153.21375101487268,\n",
              " 153.3055509087073,\n",
              " 153.39740580557168,\n",
              " 153.4893157384216,\n",
              " 153.58128074023247,\n",
              " 153.6733008439996,\n",
              " 153.765376082738,\n",
              " 153.85750648948238,\n",
              " 153.9496920972874,\n",
              " 154.04193293922745,\n",
              " 154.13422904839672,\n",
              " 154.22658045790925,\n",
              " 154.3189872008989,\n",
              " 154.41144931051943,\n",
              " 154.5039668199444,\n",
              " 154.5965397623673,\n",
              " 154.68916817100154,\n",
              " 154.7818520790803,\n",
              " 154.87459151985678,\n",
              " 154.96738652660406,\n",
              " 155.0602371326152,\n",
              " 155.15314337120319,\n",
              " 155.2461052757009,\n",
              " 155.3391228794613,\n",
              " 155.43219621585732,\n",
              " 155.52532531828177,\n",
              " 155.61851022014756,\n",
              " 155.71175095488766,\n",
              " 155.80504755595499,\n",
              " 155.8984000568225,\n",
              " 155.99180849098332,\n",
              " 156.08527289195052,\n",
              " 156.1787932932573,\n",
              " 156.272369728457,\n",
              " 156.3660022311229,\n",
              " 156.45969083484863,\n",
              " 156.55343557324773,\n",
              " 156.64723647995405,\n",
              " 156.74109358862148,\n",
              " 156.8350069329241,\n",
              " 156.9289765465562,\n",
              " 157.02300246323227,\n",
              " 157.11708471668692,\n",
              " 157.21122334067505,\n",
              " 157.30541836897171,\n",
              " 157.39966983537226,\n",
              " 157.4939777736923,\n",
              " 157.58834221776766,\n",
              " 157.68276320145443,\n",
              " 157.77724075862903,\n",
              " 157.87177492318818,\n",
              " 157.96636572904885,\n",
              " 158.06101321014836,\n",
              " 158.15571740044442,\n",
              " 158.250478333915,\n",
              " 158.3452960445585,\n",
              " 158.44017056639362,\n",
              " 158.53510193345952,\n",
              " 158.63009017981568,\n",
              " 158.72513533954205,\n",
              " 158.82023744673896,\n",
              " 158.91539653552715,\n",
              " 159.01061264004792,\n",
              " 159.10588579446286,\n",
              " 159.20121603295416,\n",
              " 159.29660338972445,\n",
              " 159.39204789899682,\n",
              " 159.48754959501488,\n",
              " 159.5831085120428,\n",
              " 159.67872468436525,\n",
              " 159.7743981462874,\n",
              " 159.87012893213506,\n",
              " 159.96591707625453,\n",
              " 160.06176261301272,\n",
              " 160.15766557679717,\n",
              " 160.25362600201595,\n",
              " 160.34964392309777,\n",
              " 160.44571937449203,\n",
              " 160.54185239066868,\n",
              " 160.63804300611838,\n",
              " 160.73429125535242,\n",
              " 160.83059717290283,\n",
              " 160.92696079332222,\n",
              " 161.02338215118405,\n",
              " 161.11986128108236,\n",
              " 161.21639821763196,\n",
              " 161.31299299546848,\n",
              " 161.40964564924818,\n",
              " 161.50635621364816,\n",
              " 161.60312472336625,\n",
              " 161.69995121312112,\n",
              " 161.79683571765224,\n",
              " 161.89377827171984,\n",
              " 161.990778910105,\n",
              " 162.0878376676097,\n",
              " 162.18495457905667,\n",
              " 162.28212967928957,\n",
              " 162.37936300317295,\n",
              " 162.4766545855922,\n",
              " 162.57400446145363,\n",
              " 162.67141266568447,\n",
              " 162.7688792332329,\n",
              " 162.86640419906797,\n",
              " 162.96398759817978,\n",
              " 163.06162946557933,\n",
              " 163.15932983629858,\n",
              " 163.25708874539055,\n",
              " 163.35490622792918,\n",
              " 163.4527823190095,\n",
              " 163.55071705374752,\n",
              " 163.6487104672803,\n",
              " 163.74676259476598,\n",
              " 163.84487347138372,\n",
              " 163.94304313233383,\n",
              " 164.0412716128376,\n",
              " 164.13955894813748,\n",
              " 164.2379051734971,\n",
              " 164.33631032420112,\n",
              " 164.4347744355554,\n",
              " 164.53329754288694,\n",
              " 164.63187968154386,\n",
              " 164.73052088689556,\n",
              " 164.82922119433252,\n",
              " 164.9279806392665,\n",
              " 165.02679925713048,\n",
              " 165.1256770833786,\n",
              " 165.22461415348633,\n",
              " 165.32361050295032,\n",
              " 165.42266616728853,\n",
              " 165.5217811820402,\n",
              " 165.62095558276584,\n",
              " 165.7201894050473,\n",
              " 165.81948268448775,\n",
              " 165.91883545671163,\n",
              " 166.0182477573648,\n",
              " 166.11771962211444,\n",
              " 166.2172510866491,\n",
              " 166.31684218667874,\n",
              " 166.41649295793468,\n",
              " 166.51620343616966,\n",
              " 166.61597365715784,\n",
              " 166.71580365669487,\n",
              " 166.81569347059775,\n",
              " 166.91564313470502,\n",
              " 167.01565268487664,\n",
              " 167.11572215699408,\n",
              " 167.21585158696033,\n",
              " 167.31604101069982,\n",
              " 167.4162904641586,\n",
              " 167.51659998330422,\n",
              " 167.61696960412573,\n",
              " 167.7173993626338,\n",
              " 167.81788929486066,\n",
              " 167.91843943686015,\n",
              " 168.01904982470768,\n",
              " 168.11972049450026,\n",
              " 168.2204514823566,\n",
              " 168.32124282441697,\n",
              " 168.42209455684335,\n",
              " 168.52300671581935,\n",
              " 168.62397933755028,\n",
              " 168.72501245826317,\n",
              " 168.82610611420668,\n",
              " 168.92726034165128,\n",
              " 169.0284751768891,\n",
              " 169.12975065623402,\n",
              " 169.23108681602173,\n",
              " 169.33248369260966,\n",
              " 169.43394132237702,\n",
              " 169.53545974172482,\n",
              " 169.63703898707587,\n",
              " 169.7386790948748,\n",
              " 169.84038010158815,\n",
              " 169.9421420437042,\n",
              " 170.04396495773315,\n",
              " 170.14584888020707,\n",
              " 170.24779384767993,\n",
              " 170.34979989672755,\n",
              " 170.45186706394776,\n",
              " 170.5539953859602,\n",
              " 170.65618489940658,\n",
              " 170.75843564095044,\n",
              " 170.86074764727738,\n",
              " 170.9631209550949,\n",
              " 171.0655556011326,\n",
              " 171.16805162214195,\n",
              " 171.27060905489657,\n",
              " 171.37322793619205,\n",
              " 171.47590830284605,\n",
              " 171.57865019169822,\n",
              " 171.6814536396104,\n",
              " 171.7843186834664,\n",
              " 171.88724536017224,\n",
              " 171.99023370665597,\n",
              " 172.09328375986777,\n",
              " 172.19639555678,\n",
              " 172.29956913438716,\n",
              " 172.40280452970592,\n",
              " 172.50610177977507,\n",
              " 172.60946092165568,\n",
              " 172.712881992431,\n",
              " 172.81636502920645,\n",
              " 172.91991006910973,\n",
              " 173.0235171492908,\n",
              " 173.1271863069218,\n",
              " 173.2309175791972,\n",
              " 173.3347110033338,\n",
              " 173.4385666165706,\n",
              " 173.54248445616898,\n",
              " 173.64646455941264,\n",
              " 173.75050696360756,\n",
              " 173.85461170608218,\n",
              " 173.9587788241872,\n",
              " 174.06300835529572,\n",
              " 174.16730033680332,\n",
              " 174.27165480612788,\n",
              " 174.37607180070972,\n",
              " 174.48055135801167,\n",
              " 174.5850935155189,\n",
              " 174.68969831073915,\n",
              " 174.7943657812025,\n",
              " 174.8990959644616,\n",
              " 175.00388889809162,\n",
              " 175.1087446196902,\n",
              " 175.21366316687755,\n",
              " 175.31864457729634,\n",
              " 175.42368888861188,\n",
              " 175.52879613851198,\n",
              " 175.63396636470708,\n",
              " 175.7391996049302,\n",
              " 175.84449589693696,\n",
              " 175.94985527850562,\n",
              " 176.05527778743706,\n",
              " 176.1607634615548,\n",
              " 176.26631233870503,\n",
              " 176.37192445675666,\n",
              " 176.47759985360122,\n",
              " 176.58333856715296,\n",
              " 176.68914063534888,\n",
              " 176.79500609614868,\n",
              " 176.9009349875348,\n",
              " 177.00692734751252,\n",
              " 177.11298321410973,\n",
              " 177.21910262537727,\n",
              " 177.32528561938867,\n",
              " 177.43153223424034,\n",
              " 177.53784250805143,\n",
              " 177.64421647896404]"
            ]
          },
          "metadata": {
            "tags": []
          },
          "execution_count": 28
        }
      ]
    },
    {
      "cell_type": "code",
      "metadata": {
        "id": "A_Ox0hv6ZnZr",
        "outputId": "52209c9f-39e1-47c4-b0db-53fee4305fd8",
        "colab": {
          "base_uri": "https://localhost:8080/",
          "height": 458
        }
      },
      "source": [
        "#plotting actual predicted stock prices for model (2,1,0)\n",
        "plt.figure(figsize=(12,7))\n",
        "plt.plot(fc2, color = 'orange',label='Predicted Stock Price')\n",
        "plt.title('Fintech Stock Price Prediction')\n",
        "plt.xlabel('Days')\n",
        "plt.ylabel('Actual Stock Price')\n",
        "plt.legend(loc='upper left', fontsize=8)\n",
        "plt.show()"
      ],
      "execution_count": null,
      "outputs": [
        {
          "output_type": "display_data",
          "data": {
            "image/png": "[encoded data removed]",
            "text/plain": [
              "<Figure size 864x504 with 1 Axes>"
            ]
          },
          "metadata": {
            "tags": [],
            "needs_background": "light"
          }
        }
      ]
    },
    {
      "cell_type": "code",
      "metadata": {
        "id": "bdQek8ctXWc9",
        "outputId": "72e68d55-3e6a-4781-fe35-b31192cc2ae8",
        "colab": {
          "base_uri": "https://localhost:8080/",
          "height": 458
        }
      },
      "source": [
        "#plotting actual predicted stock prices for model (1,1,0)\n",
        "plt.figure(figsize=(12,7))\n",
        "plt.plot(fc3, color = 'orange',label='Predicted Stock Price')\n",
        "plt.title('Fintech Stock Price Prediction')\n",
        "plt.xlabel('Days')\n",
        "plt.ylabel('Actual Stock Price')\n",
        "plt.legend(loc='upper left', fontsize=8)\n",
        "plt.show()"
      ],
      "execution_count": null,
      "outputs": [
        {
          "output_type": "display_data",
          "data": {
            "image/png": "[encoded data removed]",
            "text/plain": [
              "<Figure size 864x504 with 1 Axes>"
            ]
          },
          "metadata": {
            "tags": [],
            "needs_background": "light"
          }
        }
      ]
    },
    {
      "cell_type": "code",
      "metadata": {
        "id": "-lrYbAS0Ho2S"
      },
      "source": [
        "fc2_series = pd.Series(fc2, index=dfans.index)"
      ],
      "execution_count": null,
      "outputs": []
    },
    {
      "cell_type": "code",
      "metadata": {
        "id": "6tdqzP5TbJlc",
        "outputId": "b575f691-14d4-4740-ee17-8a9b6aa8cfa2",
        "colab": {
          "base_uri": "https://localhost:8080/",
          "height": 221
        }
      },
      "source": [
        "fc2_series"
      ],
      "execution_count": null,
      "outputs": [
        {
          "output_type": "execute_result",
          "data": {
            "text/plain": [
              "0      143.715109\n",
              "1      143.744526\n",
              "2      143.833627\n",
              "3      143.921345\n",
              "4      144.007420\n",
              "          ...    \n",
              "350    177.160746\n",
              "351    177.266866\n",
              "352    177.373049\n",
              "353    177.479296\n",
              "354    177.585607\n",
              "Length: 355, dtype: float64"
            ]
          },
          "metadata": {
            "tags": []
          },
          "execution_count": 92
        }
      ]
    },
    {
      "cell_type": "code",
      "metadata": {
        "id": "04xuMF_hbSj8",
        "outputId": "04203681-9572-4771-95ca-79a6ee626d12",
        "colab": {
          "base_uri": "https://localhost:8080/",
          "height": 34
        }
      },
      "source": [
        "len(fc2_series)"
      ],
      "execution_count": null,
      "outputs": [
        {
          "output_type": "execute_result",
          "data": {
            "text/plain": [
              "355"
            ]
          },
          "metadata": {
            "tags": []
          },
          "execution_count": 93
        }
      ]
    },
    {
      "cell_type": "code",
      "metadata": {
        "id": "wUzvdtoZZzNo",
        "outputId": "fed26677-5a5f-4be9-e106-01ccaf2266e0",
        "colab": {
          "base_uri": "https://localhost:8080/",
          "height": 204
        }
      },
      "source": [
        "dfans.head()"
      ],
      "execution_count": null,
      "outputs": [
        {
          "output_type": "execute_result",
          "data": {
            "text/html": [
              "<div>\n",
              "<style scoped>\n",
              "    .dataframe tbody tr th:only-of-type {\n",
              "        vertical-align: middle;\n",
              "    }\n",
              "\n",
              "    .dataframe tbody tr th {\n",
              "        vertical-align: top;\n",
              "    }\n",
              "\n",
              "    .dataframe thead th {\n",
              "        text-align: right;\n",
              "    }\n",
              "</style>\n",
              "<table border=\"1\" class=\"dataframe\">\n",
              "  <thead>\n",
              "    <tr style=\"text-align: right;\">\n",
              "      <th></th>\n",
              "      <th>Date</th>\n",
              "      <th>Close</th>\n",
              "    </tr>\n",
              "  </thead>\n",
              "  <tbody>\n",
              "    <tr>\n",
              "      <th>0</th>\n",
              "      <td>2/01/2019</td>\n",
              "      <td>100</td>\n",
              "    </tr>\n",
              "    <tr>\n",
              "      <th>1</th>\n",
              "      <td>3/01/2019</td>\n",
              "      <td>100</td>\n",
              "    </tr>\n",
              "    <tr>\n",
              "      <th>2</th>\n",
              "      <td>4/01/2019</td>\n",
              "      <td>100</td>\n",
              "    </tr>\n",
              "    <tr>\n",
              "      <th>3</th>\n",
              "      <td>7/01/2019</td>\n",
              "      <td>100</td>\n",
              "    </tr>\n",
              "    <tr>\n",
              "      <th>4</th>\n",
              "      <td>8/01/2019</td>\n",
              "      <td>100</td>\n",
              "    </tr>\n",
              "  </tbody>\n",
              "</table>\n",
              "</div>"
            ],
            "text/plain": [
              "        Date  Close\n",
              "0  2/01/2019    100\n",
              "1  3/01/2019    100\n",
              "2  4/01/2019    100\n",
              "3  7/01/2019    100\n",
              "4  8/01/2019    100"
            ]
          },
          "metadata": {
            "tags": []
          },
          "execution_count": 94
        }
      ]
    },
    {
      "cell_type": "code",
      "metadata": {
        "id": "WItVNNwaamHJ"
      },
      "source": [
        "dfans_arima = dfans.copy(deep=True)"
      ],
      "execution_count": null,
      "outputs": []
    },
    {
      "cell_type": "code",
      "metadata": {
        "id": "9IIr4Ofmaqnw",
        "outputId": "23494cd9-6390-4355-956f-d1b06fedd2cb",
        "colab": {
          "base_uri": "https://localhost:8080/",
          "height": 204
        }
      },
      "source": [
        "dfans_arima.head()"
      ],
      "execution_count": null,
      "outputs": [
        {
          "output_type": "execute_result",
          "data": {
            "text/html": [
              "<div>\n",
              "<style scoped>\n",
              "    .dataframe tbody tr th:only-of-type {\n",
              "        vertical-align: middle;\n",
              "    }\n",
              "\n",
              "    .dataframe tbody tr th {\n",
              "        vertical-align: top;\n",
              "    }\n",
              "\n",
              "    .dataframe thead th {\n",
              "        text-align: right;\n",
              "    }\n",
              "</style>\n",
              "<table border=\"1\" class=\"dataframe\">\n",
              "  <thead>\n",
              "    <tr style=\"text-align: right;\">\n",
              "      <th></th>\n",
              "      <th>Date</th>\n",
              "      <th>Close</th>\n",
              "    </tr>\n",
              "  </thead>\n",
              "  <tbody>\n",
              "    <tr>\n",
              "      <th>0</th>\n",
              "      <td>2/01/2019</td>\n",
              "      <td>100</td>\n",
              "    </tr>\n",
              "    <tr>\n",
              "      <th>1</th>\n",
              "      <td>3/01/2019</td>\n",
              "      <td>100</td>\n",
              "    </tr>\n",
              "    <tr>\n",
              "      <th>2</th>\n",
              "      <td>4/01/2019</td>\n",
              "      <td>100</td>\n",
              "    </tr>\n",
              "    <tr>\n",
              "      <th>3</th>\n",
              "      <td>7/01/2019</td>\n",
              "      <td>100</td>\n",
              "    </tr>\n",
              "    <tr>\n",
              "      <th>4</th>\n",
              "      <td>8/01/2019</td>\n",
              "      <td>100</td>\n",
              "    </tr>\n",
              "  </tbody>\n",
              "</table>\n",
              "</div>"
            ],
            "text/plain": [
              "        Date  Close\n",
              "0  2/01/2019    100\n",
              "1  3/01/2019    100\n",
              "2  4/01/2019    100\n",
              "3  7/01/2019    100\n",
              "4  8/01/2019    100"
            ]
          },
          "metadata": {
            "tags": []
          },
          "execution_count": 96
        }
      ]
    },
    {
      "cell_type": "code",
      "metadata": {
        "id": "dxh6uHiLasjI"
      },
      "source": [
        "dfans_arima[\"Close\"] = fc2_series"
      ],
      "execution_count": null,
      "outputs": []
    },
    {
      "cell_type": "code",
      "metadata": {
        "id": "Ix6TRdx_awPc",
        "outputId": "ab624bd4-1cd4-4eeb-e342-ec07612bd595",
        "colab": {
          "base_uri": "https://localhost:8080/",
          "height": 204
        }
      },
      "source": [
        "dfans_arima.head()"
      ],
      "execution_count": null,
      "outputs": [
        {
          "output_type": "execute_result",
          "data": {
            "text/html": [
              "<div>\n",
              "<style scoped>\n",
              "    .dataframe tbody tr th:only-of-type {\n",
              "        vertical-align: middle;\n",
              "    }\n",
              "\n",
              "    .dataframe tbody tr th {\n",
              "        vertical-align: top;\n",
              "    }\n",
              "\n",
              "    .dataframe thead th {\n",
              "        text-align: right;\n",
              "    }\n",
              "</style>\n",
              "<table border=\"1\" class=\"dataframe\">\n",
              "  <thead>\n",
              "    <tr style=\"text-align: right;\">\n",
              "      <th></th>\n",
              "      <th>Date</th>\n",
              "      <th>Close</th>\n",
              "    </tr>\n",
              "  </thead>\n",
              "  <tbody>\n",
              "    <tr>\n",
              "      <th>0</th>\n",
              "      <td>2/01/2019</td>\n",
              "      <td>143.715109</td>\n",
              "    </tr>\n",
              "    <tr>\n",
              "      <th>1</th>\n",
              "      <td>3/01/2019</td>\n",
              "      <td>143.744526</td>\n",
              "    </tr>\n",
              "    <tr>\n",
              "      <th>2</th>\n",
              "      <td>4/01/2019</td>\n",
              "      <td>143.833627</td>\n",
              "    </tr>\n",
              "    <tr>\n",
              "      <th>3</th>\n",
              "      <td>7/01/2019</td>\n",
              "      <td>143.921345</td>\n",
              "    </tr>\n",
              "    <tr>\n",
              "      <th>4</th>\n",
              "      <td>8/01/2019</td>\n",
              "      <td>144.007420</td>\n",
              "    </tr>\n",
              "  </tbody>\n",
              "</table>\n",
              "</div>"
            ],
            "text/plain": [
              "        Date       Close\n",
              "0  2/01/2019  143.715109\n",
              "1  3/01/2019  143.744526\n",
              "2  4/01/2019  143.833627\n",
              "3  7/01/2019  143.921345\n",
              "4  8/01/2019  144.007420"
            ]
          },
          "metadata": {
            "tags": []
          },
          "execution_count": 98
        }
      ]
    },
    {
      "cell_type": "code",
      "metadata": {
        "id": "gLKvU03BWNDB",
        "outputId": "7852e1ad-dd92-42c9-b2b0-c9d429854342",
        "colab": {
          "base_uri": "https://localhost:8080/",
          "height": 221
        }
      },
      "source": [
        "fc3_series = pd.Series(fc3, index=dfans.index)\n",
        "fc3_series"
      ],
      "execution_count": null,
      "outputs": [
        {
          "output_type": "execute_result",
          "data": {
            "text/plain": [
              "0      143.700489\n",
              "1      143.788314\n",
              "2      143.874416\n",
              "3      143.960621\n",
              "4      144.046877\n",
              "          ...    \n",
              "350    177.219103\n",
              "351    177.325286\n",
              "352    177.431532\n",
              "353    177.537843\n",
              "354    177.644216\n",
              "Length: 355, dtype: float64"
            ]
          },
          "metadata": {
            "tags": []
          },
          "execution_count": 29
        }
      ]
    },
    {
      "cell_type": "code",
      "metadata": {
        "id": "norXhd92WSEt"
      },
      "source": [
        "dfans_arima2 = dfans.copy(deep=True)"
      ],
      "execution_count": null,
      "outputs": []
    },
    {
      "cell_type": "code",
      "metadata": {
        "id": "duim-klxWUaz"
      },
      "source": [
        "dfans_arima2[\"Close\"] = fc3_series"
      ],
      "execution_count": null,
      "outputs": []
    },
    {
      "cell_type": "code",
      "metadata": {
        "id": "sXq2FWdnQ_Bd",
        "outputId": "47f093d5-3762-4359-e464-0cbe0fbe946f",
        "colab": {
          "base_uri": "https://localhost:8080/",
          "height": 34
        }
      },
      "source": [
        "from google.colab import drive\n",
        "drive.mount('drive')"
      ],
      "execution_count": null,
      "outputs": [
        {
          "output_type": "stream",
          "text": [
            "Mounted at drive\n"
          ],
          "name": "stdout"
        }
      ]
    },
    {
      "cell_type": "code",
      "metadata": {
        "id": "LjYzcodWSKxQ",
        "outputId": "cc3f44fc-f6f2-4d97-cf14-712ad14ee8cc",
        "colab": {
          "base_uri": "https://localhost:8080/",
          "height": 34
        }
      },
      "source": [
        "import os\n",
        "os.chdir(\"/content/drive/\")\n",
        "!ls"
      ],
      "execution_count": null,
      "outputs": [
        {
          "output_type": "stream",
          "text": [
            "'My Drive'\n"
          ],
          "name": "stdout"
        }
      ]
    },
    {
      "cell_type": "code",
      "metadata": {
        "id": "mw_wAe40W5pY"
      },
      "source": [
        "submission_arima = dfans_arima.to_csv('/content/drive/My Drive/Fintech_Project_1/submission_arima.csv', index=False) "
      ],
      "execution_count": null,
      "outputs": []
    },
    {
      "cell_type": "code",
      "metadata": {
        "id": "7HMdtHXAQQ6a"
      },
      "source": [
        "submission_arima2 = dfans_arima2.to_csv('/content/drive/My Drive/Fintech_Project_1/submission_arima2.csv', index=False) "
      ],
      "execution_count": null,
      "outputs": []
    },
    {
      "cell_type": "markdown",
      "metadata": {
        "id": "lDn5C7YPJwYn"
      },
      "source": [
        "Model 3: Prophet"
      ]
    },
    {
      "cell_type": "code",
      "metadata": {
        "id": "Wo6qbC8wReIO"
      },
      "source": [
        "df_prophet = df2.copy(deep = True)"
      ],
      "execution_count": null,
      "outputs": []
    },
    {
      "cell_type": "code",
      "metadata": {
        "id": "2WYCkqSQRg5m",
        "outputId": "199e941b-869f-4b22-90a4-bf9ea743dfb1",
        "colab": {
          "base_uri": "https://localhost:8080/",
          "height": 235
        }
      },
      "source": [
        "df_prophet.head()"
      ],
      "execution_count": null,
      "outputs": [
        {
          "output_type": "execute_result",
          "data": {
            "text/html": [
              "<div>\n",
              "<style scoped>\n",
              "    .dataframe tbody tr th:only-of-type {\n",
              "        vertical-align: middle;\n",
              "    }\n",
              "\n",
              "    .dataframe tbody tr th {\n",
              "        vertical-align: top;\n",
              "    }\n",
              "\n",
              "    .dataframe thead th {\n",
              "        text-align: right;\n",
              "    }\n",
              "</style>\n",
              "<table border=\"1\" class=\"dataframe\">\n",
              "  <thead>\n",
              "    <tr style=\"text-align: right;\">\n",
              "      <th></th>\n",
              "      <th>Date</th>\n",
              "      <th>Open</th>\n",
              "      <th>High</th>\n",
              "      <th>Low</th>\n",
              "      <th>Close</th>\n",
              "      <th>Adj Close</th>\n",
              "      <th>Volume</th>\n",
              "    </tr>\n",
              "    <tr>\n",
              "      <th>Date</th>\n",
              "      <th></th>\n",
              "      <th></th>\n",
              "      <th></th>\n",
              "      <th></th>\n",
              "      <th></th>\n",
              "      <th></th>\n",
              "      <th></th>\n",
              "    </tr>\n",
              "  </thead>\n",
              "  <tbody>\n",
              "    <tr>\n",
              "      <th>2009-12-31</th>\n",
              "      <td>2009-12-31</td>\n",
              "      <td>37.068000</td>\n",
              "      <td>37.131000</td>\n",
              "      <td>36.948751</td>\n",
              "      <td>36.998249</td>\n",
              "      <td>36.998249</td>\n",
              "      <td>4892780.4</td>\n",
              "    </tr>\n",
              "    <tr>\n",
              "      <th>2010-01-04</th>\n",
              "      <td>2010-01-04</td>\n",
              "      <td>37.187250</td>\n",
              "      <td>37.394250</td>\n",
              "      <td>37.092751</td>\n",
              "      <td>37.234500</td>\n",
              "      <td>37.234500</td>\n",
              "      <td>7115420.4</td>\n",
              "    </tr>\n",
              "    <tr>\n",
              "      <th>2010-01-05</th>\n",
              "      <td>2010-01-05</td>\n",
              "      <td>37.151249</td>\n",
              "      <td>37.275000</td>\n",
              "      <td>36.780001</td>\n",
              "      <td>37.162500</td>\n",
              "      <td>37.162500</td>\n",
              "      <td>7148180.4</td>\n",
              "    </tr>\n",
              "    <tr>\n",
              "      <th>2010-01-06</th>\n",
              "      <td>2010-01-06</td>\n",
              "      <td>37.218750</td>\n",
              "      <td>37.275000</td>\n",
              "      <td>37.045501</td>\n",
              "      <td>37.133251</td>\n",
              "      <td>37.133251</td>\n",
              "      <td>4610180.4</td>\n",
              "    </tr>\n",
              "    <tr>\n",
              "      <th>2010-01-07</th>\n",
              "      <td>2010-01-07</td>\n",
              "      <td>37.166999</td>\n",
              "      <td>37.263749</td>\n",
              "      <td>36.946500</td>\n",
              "      <td>37.059000</td>\n",
              "      <td>37.059000</td>\n",
              "      <td>4356020.4</td>\n",
              "    </tr>\n",
              "  </tbody>\n",
              "</table>\n",
              "</div>"
            ],
            "text/plain": [
              "                 Date       Open       High  ...      Close  Adj Close     Volume\n",
              "Date                                         ...                                 \n",
              "2009-12-31 2009-12-31  37.068000  37.131000  ...  36.998249  36.998249  4892780.4\n",
              "2010-01-04 2010-01-04  37.187250  37.394250  ...  37.234500  37.234500  7115420.4\n",
              "2010-01-05 2010-01-05  37.151249  37.275000  ...  37.162500  37.162500  7148180.4\n",
              "2010-01-06 2010-01-06  37.218750  37.275000  ...  37.133251  37.133251  4610180.4\n",
              "2010-01-07 2010-01-07  37.166999  37.263749  ...  37.059000  37.059000  4356020.4\n",
              "\n",
              "[5 rows x 7 columns]"
            ]
          },
          "metadata": {
            "tags": []
          },
          "execution_count": 100
        }
      ]
    },
    {
      "cell_type": "code",
      "metadata": {
        "id": "tH83N_YVRj2a"
      },
      "source": [
        "df_prophet = df_prophet.drop(['Open', 'High', 'Low','Volume', 'Adj Close'], axis=1)"
      ],
      "execution_count": null,
      "outputs": []
    },
    {
      "cell_type": "code",
      "metadata": {
        "id": "KAZIZ2NERsIl",
        "outputId": "3c41c921-ce06-4bde-8b62-b266bbffa53e",
        "colab": {
          "base_uri": "https://localhost:8080/",
          "height": 235
        }
      },
      "source": [
        "df_prophet.head()"
      ],
      "execution_count": null,
      "outputs": [
        {
          "output_type": "execute_result",
          "data": {
            "text/html": [
              "<div>\n",
              "<style scoped>\n",
              "    .dataframe tbody tr th:only-of-type {\n",
              "        vertical-align: middle;\n",
              "    }\n",
              "\n",
              "    .dataframe tbody tr th {\n",
              "        vertical-align: top;\n",
              "    }\n",
              "\n",
              "    .dataframe thead th {\n",
              "        text-align: right;\n",
              "    }\n",
              "</style>\n",
              "<table border=\"1\" class=\"dataframe\">\n",
              "  <thead>\n",
              "    <tr style=\"text-align: right;\">\n",
              "      <th></th>\n",
              "      <th>Date</th>\n",
              "      <th>Close</th>\n",
              "    </tr>\n",
              "    <tr>\n",
              "      <th>Date</th>\n",
              "      <th></th>\n",
              "      <th></th>\n",
              "    </tr>\n",
              "  </thead>\n",
              "  <tbody>\n",
              "    <tr>\n",
              "      <th>2009-12-31</th>\n",
              "      <td>2009-12-31</td>\n",
              "      <td>36.998249</td>\n",
              "    </tr>\n",
              "    <tr>\n",
              "      <th>2010-01-04</th>\n",
              "      <td>2010-01-04</td>\n",
              "      <td>37.234500</td>\n",
              "    </tr>\n",
              "    <tr>\n",
              "      <th>2010-01-05</th>\n",
              "      <td>2010-01-05</td>\n",
              "      <td>37.162500</td>\n",
              "    </tr>\n",
              "    <tr>\n",
              "      <th>2010-01-06</th>\n",
              "      <td>2010-01-06</td>\n",
              "      <td>37.133251</td>\n",
              "    </tr>\n",
              "    <tr>\n",
              "      <th>2010-01-07</th>\n",
              "      <td>2010-01-07</td>\n",
              "      <td>37.059000</td>\n",
              "    </tr>\n",
              "  </tbody>\n",
              "</table>\n",
              "</div>"
            ],
            "text/plain": [
              "                 Date      Close\n",
              "Date                            \n",
              "2009-12-31 2009-12-31  36.998249\n",
              "2010-01-04 2010-01-04  37.234500\n",
              "2010-01-05 2010-01-05  37.162500\n",
              "2010-01-06 2010-01-06  37.133251\n",
              "2010-01-07 2010-01-07  37.059000"
            ]
          },
          "metadata": {
            "tags": []
          },
          "execution_count": 102
        }
      ]
    },
    {
      "cell_type": "code",
      "metadata": {
        "id": "tSJnY0DpSDcp"
      },
      "source": [
        "df_prophet.rename(columns={'Close': 'y', 'Date': 'ds'}, inplace=True)"
      ],
      "execution_count": null,
      "outputs": []
    },
    {
      "cell_type": "code",
      "metadata": {
        "id": "Q0tymmkNSEuv",
        "outputId": "3cdace4e-689d-424b-e94f-fd91784c35ce",
        "colab": {
          "base_uri": "https://localhost:8080/",
          "height": 235
        }
      },
      "source": [
        "df_prophet.head()"
      ],
      "execution_count": null,
      "outputs": [
        {
          "output_type": "execute_result",
          "data": {
            "text/html": [
              "<div>\n",
              "<style scoped>\n",
              "    .dataframe tbody tr th:only-of-type {\n",
              "        vertical-align: middle;\n",
              "    }\n",
              "\n",
              "    .dataframe tbody tr th {\n",
              "        vertical-align: top;\n",
              "    }\n",
              "\n",
              "    .dataframe thead th {\n",
              "        text-align: right;\n",
              "    }\n",
              "</style>\n",
              "<table border=\"1\" class=\"dataframe\">\n",
              "  <thead>\n",
              "    <tr style=\"text-align: right;\">\n",
              "      <th></th>\n",
              "      <th>ds</th>\n",
              "      <th>y</th>\n",
              "    </tr>\n",
              "    <tr>\n",
              "      <th>Date</th>\n",
              "      <th></th>\n",
              "      <th></th>\n",
              "    </tr>\n",
              "  </thead>\n",
              "  <tbody>\n",
              "    <tr>\n",
              "      <th>2009-12-31</th>\n",
              "      <td>2009-12-31</td>\n",
              "      <td>36.998249</td>\n",
              "    </tr>\n",
              "    <tr>\n",
              "      <th>2010-01-04</th>\n",
              "      <td>2010-01-04</td>\n",
              "      <td>37.234500</td>\n",
              "    </tr>\n",
              "    <tr>\n",
              "      <th>2010-01-05</th>\n",
              "      <td>2010-01-05</td>\n",
              "      <td>37.162500</td>\n",
              "    </tr>\n",
              "    <tr>\n",
              "      <th>2010-01-06</th>\n",
              "      <td>2010-01-06</td>\n",
              "      <td>37.133251</td>\n",
              "    </tr>\n",
              "    <tr>\n",
              "      <th>2010-01-07</th>\n",
              "      <td>2010-01-07</td>\n",
              "      <td>37.059000</td>\n",
              "    </tr>\n",
              "  </tbody>\n",
              "</table>\n",
              "</div>"
            ],
            "text/plain": [
              "                   ds          y\n",
              "Date                            \n",
              "2009-12-31 2009-12-31  36.998249\n",
              "2010-01-04 2010-01-04  37.234500\n",
              "2010-01-05 2010-01-05  37.162500\n",
              "2010-01-06 2010-01-06  37.133251\n",
              "2010-01-07 2010-01-07  37.059000"
            ]
          },
          "metadata": {
            "tags": []
          },
          "execution_count": 104
        }
      ]
    },
    {
      "cell_type": "code",
      "metadata": {
        "id": "hVUd4x4WR4Jx"
      },
      "source": [
        "from fbprophet import Prophet"
      ],
      "execution_count": null,
      "outputs": []
    },
    {
      "cell_type": "code",
      "metadata": {
        "id": "sswLLSITRulq",
        "outputId": "fe4a3405-a2e6-48d0-b45a-d9e64a43ca99",
        "colab": {
          "base_uri": "https://localhost:8080/",
          "height": 51
        }
      },
      "source": [
        "m = Prophet()\n",
        "m.fit(df_prophet)"
      ],
      "execution_count": null,
      "outputs": [
        {
          "output_type": "stream",
          "text": [
            "INFO:fbprophet:Disabling daily seasonality. Run prophet with daily_seasonality=True to override this.\n"
          ],
          "name": "stderr"
        },
        {
          "output_type": "execute_result",
          "data": {
            "text/plain": [
              "<fbprophet.forecaster.Prophet at 0x7f8c1580f710>"
            ]
          },
          "metadata": {
            "tags": []
          },
          "execution_count": 106
        }
      ]
    },
    {
      "cell_type": "code",
      "metadata": {
        "id": "ZBIgTijLRzq4"
      },
      "source": [
        "future_prices = m.make_future_dataframe(periods=515)\n",
        "forecast = m.predict(future_prices)"
      ],
      "execution_count": null,
      "outputs": []
    },
    {
      "cell_type": "code",
      "metadata": {
        "id": "BCUSMncjSQVr",
        "outputId": "71a29d92-7901-4f79-9f47-716bbbfb3790",
        "colab": {
          "base_uri": "https://localhost:8080/",
          "height": 204
        }
      },
      "source": [
        "forecast[['ds', 'yhat', 'yhat_lower', 'yhat_upper']].tail()"
      ],
      "execution_count": null,
      "outputs": [
        {
          "output_type": "execute_result",
          "data": {
            "text/html": [
              "<div>\n",
              "<style scoped>\n",
              "    .dataframe tbody tr th:only-of-type {\n",
              "        vertical-align: middle;\n",
              "    }\n",
              "\n",
              "    .dataframe tbody tr th {\n",
              "        vertical-align: top;\n",
              "    }\n",
              "\n",
              "    .dataframe thead th {\n",
              "        text-align: right;\n",
              "    }\n",
              "</style>\n",
              "<table border=\"1\" class=\"dataframe\">\n",
              "  <thead>\n",
              "    <tr style=\"text-align: right;\">\n",
              "      <th></th>\n",
              "      <th>ds</th>\n",
              "      <th>yhat</th>\n",
              "      <th>yhat_lower</th>\n",
              "      <th>yhat_upper</th>\n",
              "    </tr>\n",
              "  </thead>\n",
              "  <tbody>\n",
              "    <tr>\n",
              "      <th>2775</th>\n",
              "      <td>2020-05-25</td>\n",
              "      <td>210.013608</td>\n",
              "      <td>195.794567</td>\n",
              "      <td>225.600196</td>\n",
              "    </tr>\n",
              "    <tr>\n",
              "      <th>2776</th>\n",
              "      <td>2020-05-26</td>\n",
              "      <td>210.192775</td>\n",
              "      <td>195.568083</td>\n",
              "      <td>225.683328</td>\n",
              "    </tr>\n",
              "    <tr>\n",
              "      <th>2777</th>\n",
              "      <td>2020-05-27</td>\n",
              "      <td>210.369550</td>\n",
              "      <td>196.124992</td>\n",
              "      <td>225.782900</td>\n",
              "    </tr>\n",
              "    <tr>\n",
              "      <th>2778</th>\n",
              "      <td>2020-05-28</td>\n",
              "      <td>210.621678</td>\n",
              "      <td>195.910446</td>\n",
              "      <td>225.526638</td>\n",
              "    </tr>\n",
              "    <tr>\n",
              "      <th>2779</th>\n",
              "      <td>2020-05-29</td>\n",
              "      <td>210.666358</td>\n",
              "      <td>196.079797</td>\n",
              "      <td>225.371721</td>\n",
              "    </tr>\n",
              "  </tbody>\n",
              "</table>\n",
              "</div>"
            ],
            "text/plain": [
              "             ds        yhat  yhat_lower  yhat_upper\n",
              "2775 2020-05-25  210.013608  195.794567  225.600196\n",
              "2776 2020-05-26  210.192775  195.568083  225.683328\n",
              "2777 2020-05-27  210.369550  196.124992  225.782900\n",
              "2778 2020-05-28  210.621678  195.910446  225.526638\n",
              "2779 2020-05-29  210.666358  196.079797  225.371721"
            ]
          },
          "metadata": {
            "tags": []
          },
          "execution_count": 108
        }
      ]
    },
    {
      "cell_type": "code",
      "metadata": {
        "id": "zZ5UVOpHSSeI",
        "outputId": "7777c711-e504-40ed-8a05-f5c6ed1799a1",
        "colab": {
          "base_uri": "https://localhost:8080/",
          "height": 441
        }
      },
      "source": [
        "fig = m.plot(forecast)"
      ],
      "execution_count": null,
      "outputs": [
        {
          "output_type": "display_data",
          "data": {
            "image/png": "[encoded data removed]",
            "text/plain": [
              "<Figure size 720x432 with 1 Axes>"
            ]
          },
          "metadata": {
            "tags": []
          }
        }
      ]
    },
    {
      "cell_type": "code",
      "metadata": {
        "id": "t89vuCW_T4Jo"
      },
      "source": [
        "predictions = forecast[['ds', 'yhat']]"
      ],
      "execution_count": null,
      "outputs": []
    },
    {
      "cell_type": "code",
      "metadata": {
        "id": "hCSN7uLRFCW5",
        "outputId": "8fa617a4-0a8b-47b9-c2e1-25f42b422045",
        "colab": {
          "base_uri": "https://localhost:8080/",
          "height": 419
        }
      },
      "source": [
        "predictions"
      ],
      "execution_count": null,
      "outputs": [
        {
          "output_type": "execute_result",
          "data": {
            "text/html": [
              "<div>\n",
              "<style scoped>\n",
              "    .dataframe tbody tr th:only-of-type {\n",
              "        vertical-align: middle;\n",
              "    }\n",
              "\n",
              "    .dataframe tbody tr th {\n",
              "        vertical-align: top;\n",
              "    }\n",
              "\n",
              "    .dataframe thead th {\n",
              "        text-align: right;\n",
              "    }\n",
              "</style>\n",
              "<table border=\"1\" class=\"dataframe\">\n",
              "  <thead>\n",
              "    <tr style=\"text-align: right;\">\n",
              "      <th></th>\n",
              "      <th>ds</th>\n",
              "      <th>yhat</th>\n",
              "    </tr>\n",
              "  </thead>\n",
              "  <tbody>\n",
              "    <tr>\n",
              "      <th>0</th>\n",
              "      <td>2009-12-31</td>\n",
              "      <td>31.100277</td>\n",
              "    </tr>\n",
              "    <tr>\n",
              "      <th>1</th>\n",
              "      <td>2010-01-04</td>\n",
              "      <td>31.759759</td>\n",
              "    </tr>\n",
              "    <tr>\n",
              "      <th>2</th>\n",
              "      <td>2010-01-05</td>\n",
              "      <td>32.041258</td>\n",
              "    </tr>\n",
              "    <tr>\n",
              "      <th>3</th>\n",
              "      <td>2010-01-06</td>\n",
              "      <td>32.325947</td>\n",
              "    </tr>\n",
              "    <tr>\n",
              "      <th>4</th>\n",
              "      <td>2010-01-07</td>\n",
              "      <td>32.689163</td>\n",
              "    </tr>\n",
              "    <tr>\n",
              "      <th>...</th>\n",
              "      <td>...</td>\n",
              "      <td>...</td>\n",
              "    </tr>\n",
              "    <tr>\n",
              "      <th>2775</th>\n",
              "      <td>2020-05-25</td>\n",
              "      <td>210.013608</td>\n",
              "    </tr>\n",
              "    <tr>\n",
              "      <th>2776</th>\n",
              "      <td>2020-05-26</td>\n",
              "      <td>210.192775</td>\n",
              "    </tr>\n",
              "    <tr>\n",
              "      <th>2777</th>\n",
              "      <td>2020-05-27</td>\n",
              "      <td>210.369550</td>\n",
              "    </tr>\n",
              "    <tr>\n",
              "      <th>2778</th>\n",
              "      <td>2020-05-28</td>\n",
              "      <td>210.621678</td>\n",
              "    </tr>\n",
              "    <tr>\n",
              "      <th>2779</th>\n",
              "      <td>2020-05-29</td>\n",
              "      <td>210.666358</td>\n",
              "    </tr>\n",
              "  </tbody>\n",
              "</table>\n",
              "<p>2780 rows × 2 columns</p>\n",
              "</div>"
            ],
            "text/plain": [
              "             ds        yhat\n",
              "0    2009-12-31   31.100277\n",
              "1    2010-01-04   31.759759\n",
              "2    2010-01-05   32.041258\n",
              "3    2010-01-06   32.325947\n",
              "4    2010-01-07   32.689163\n",
              "...         ...         ...\n",
              "2775 2020-05-25  210.013608\n",
              "2776 2020-05-26  210.192775\n",
              "2777 2020-05-27  210.369550\n",
              "2778 2020-05-28  210.621678\n",
              "2779 2020-05-29  210.666358\n",
              "\n",
              "[2780 rows x 2 columns]"
            ]
          },
          "metadata": {
            "tags": []
          },
          "execution_count": 111
        }
      ]
    },
    {
      "cell_type": "code",
      "metadata": {
        "id": "OPHE6NHNUJcu"
      },
      "source": [
        "ans = (predictions['ds'] > '2019-01-1') & (predictions['ds'] <= '2020-05-29')"
      ],
      "execution_count": null,
      "outputs": []
    },
    {
      "cell_type": "code",
      "metadata": {
        "id": "lwz1_5LkFGml",
        "outputId": "32ee3c4f-e83c-44da-da00-fd2ed44cdc19",
        "colab": {
          "base_uri": "https://localhost:8080/",
          "height": 221
        }
      },
      "source": [
        "ans"
      ],
      "execution_count": null,
      "outputs": [
        {
          "output_type": "execute_result",
          "data": {
            "text/plain": [
              "0       False\n",
              "1       False\n",
              "2       False\n",
              "3       False\n",
              "4       False\n",
              "        ...  \n",
              "2775     True\n",
              "2776     True\n",
              "2777     True\n",
              "2778     True\n",
              "2779     True\n",
              "Name: ds, Length: 2780, dtype: bool"
            ]
          },
          "metadata": {
            "tags": []
          },
          "execution_count": 113
        }
      ]
    },
    {
      "cell_type": "code",
      "metadata": {
        "id": "HtYjdEF2UPs8"
      },
      "source": [
        "dfansprophet = predictions.loc[ans]"
      ],
      "execution_count": null,
      "outputs": []
    },
    {
      "cell_type": "code",
      "metadata": {
        "id": "SQw0gKzVFXh3",
        "outputId": "d682274a-5c6c-4bae-9b3e-ed9545804b5a",
        "colab": {
          "base_uri": "https://localhost:8080/",
          "height": 419
        }
      },
      "source": [
        "dfansprophet"
      ],
      "execution_count": null,
      "outputs": [
        {
          "output_type": "execute_result",
          "data": {
            "text/html": [
              "<div>\n",
              "<style scoped>\n",
              "    .dataframe tbody tr th:only-of-type {\n",
              "        vertical-align: middle;\n",
              "    }\n",
              "\n",
              "    .dataframe tbody tr th {\n",
              "        vertical-align: top;\n",
              "    }\n",
              "\n",
              "    .dataframe thead th {\n",
              "        text-align: right;\n",
              "    }\n",
              "</style>\n",
              "<table border=\"1\" class=\"dataframe\">\n",
              "  <thead>\n",
              "    <tr style=\"text-align: right;\">\n",
              "      <th></th>\n",
              "      <th>ds</th>\n",
              "      <th>yhat</th>\n",
              "    </tr>\n",
              "  </thead>\n",
              "  <tbody>\n",
              "    <tr>\n",
              "      <th>2266</th>\n",
              "      <td>2019-01-02</td>\n",
              "      <td>154.740168</td>\n",
              "    </tr>\n",
              "    <tr>\n",
              "      <th>2267</th>\n",
              "      <td>2019-01-03</td>\n",
              "      <td>155.150989</td>\n",
              "    </tr>\n",
              "    <tr>\n",
              "      <th>2268</th>\n",
              "      <td>2019-01-04</td>\n",
              "      <td>155.367708</td>\n",
              "    </tr>\n",
              "    <tr>\n",
              "      <th>2269</th>\n",
              "      <td>2019-01-05</td>\n",
              "      <td>157.454294</td>\n",
              "    </tr>\n",
              "    <tr>\n",
              "      <th>2270</th>\n",
              "      <td>2019-01-06</td>\n",
              "      <td>157.744831</td>\n",
              "    </tr>\n",
              "    <tr>\n",
              "      <th>...</th>\n",
              "      <td>...</td>\n",
              "      <td>...</td>\n",
              "    </tr>\n",
              "    <tr>\n",
              "      <th>2775</th>\n",
              "      <td>2020-05-25</td>\n",
              "      <td>210.013608</td>\n",
              "    </tr>\n",
              "    <tr>\n",
              "      <th>2776</th>\n",
              "      <td>2020-05-26</td>\n",
              "      <td>210.192775</td>\n",
              "    </tr>\n",
              "    <tr>\n",
              "      <th>2777</th>\n",
              "      <td>2020-05-27</td>\n",
              "      <td>210.369550</td>\n",
              "    </tr>\n",
              "    <tr>\n",
              "      <th>2778</th>\n",
              "      <td>2020-05-28</td>\n",
              "      <td>210.621678</td>\n",
              "    </tr>\n",
              "    <tr>\n",
              "      <th>2779</th>\n",
              "      <td>2020-05-29</td>\n",
              "      <td>210.666358</td>\n",
              "    </tr>\n",
              "  </tbody>\n",
              "</table>\n",
              "<p>514 rows × 2 columns</p>\n",
              "</div>"
            ],
            "text/plain": [
              "             ds        yhat\n",
              "2266 2019-01-02  154.740168\n",
              "2267 2019-01-03  155.150989\n",
              "2268 2019-01-04  155.367708\n",
              "2269 2019-01-05  157.454294\n",
              "2270 2019-01-06  157.744831\n",
              "...         ...         ...\n",
              "2775 2020-05-25  210.013608\n",
              "2776 2020-05-26  210.192775\n",
              "2777 2020-05-27  210.369550\n",
              "2778 2020-05-28  210.621678\n",
              "2779 2020-05-29  210.666358\n",
              "\n",
              "[514 rows x 2 columns]"
            ]
          },
          "metadata": {
            "tags": []
          },
          "execution_count": 115
        }
      ]
    },
    {
      "cell_type": "code",
      "metadata": {
        "id": "pMSx62bEHgUH"
      },
      "source": [
        "dfprof = dfansprophet.copy(deep=True)"
      ],
      "execution_count": null,
      "outputs": []
    },
    {
      "cell_type": "code",
      "metadata": {
        "id": "Bct2mZh1IZI5"
      },
      "source": [
        "dfprof.reset_index(inplace=True)"
      ],
      "execution_count": null,
      "outputs": []
    },
    {
      "cell_type": "code",
      "metadata": {
        "id": "rfr-UwH5Ik6R"
      },
      "source": [
        "dfprof.drop([\"index\"], axis=1, inplace=True)"
      ],
      "execution_count": null,
      "outputs": []
    },
    {
      "cell_type": "code",
      "metadata": {
        "id": "hapZxAjyKuE-"
      },
      "source": [
        "dfprof.rename(columns={'ds':'Date'}, inplace=True)"
      ],
      "execution_count": null,
      "outputs": []
    },
    {
      "cell_type": "code",
      "metadata": {
        "id": "fbNPHeEUTaXs",
        "outputId": "97188e11-256c-43e1-8d42-4eb9af45cd2f",
        "colab": {
          "base_uri": "https://localhost:8080/",
          "height": 419
        }
      },
      "source": [
        "dfprof"
      ],
      "execution_count": null,
      "outputs": [
        {
          "output_type": "execute_result",
          "data": {
            "text/html": [
              "<div>\n",
              "<style scoped>\n",
              "    .dataframe tbody tr th:only-of-type {\n",
              "        vertical-align: middle;\n",
              "    }\n",
              "\n",
              "    .dataframe tbody tr th {\n",
              "        vertical-align: top;\n",
              "    }\n",
              "\n",
              "    .dataframe thead th {\n",
              "        text-align: right;\n",
              "    }\n",
              "</style>\n",
              "<table border=\"1\" class=\"dataframe\">\n",
              "  <thead>\n",
              "    <tr style=\"text-align: right;\">\n",
              "      <th></th>\n",
              "      <th>Date</th>\n",
              "      <th>yhat</th>\n",
              "    </tr>\n",
              "  </thead>\n",
              "  <tbody>\n",
              "    <tr>\n",
              "      <th>0</th>\n",
              "      <td>2019-01-02</td>\n",
              "      <td>154.740168</td>\n",
              "    </tr>\n",
              "    <tr>\n",
              "      <th>1</th>\n",
              "      <td>2019-01-03</td>\n",
              "      <td>155.150989</td>\n",
              "    </tr>\n",
              "    <tr>\n",
              "      <th>2</th>\n",
              "      <td>2019-01-04</td>\n",
              "      <td>155.367708</td>\n",
              "    </tr>\n",
              "    <tr>\n",
              "      <th>3</th>\n",
              "      <td>2019-01-05</td>\n",
              "      <td>157.454294</td>\n",
              "    </tr>\n",
              "    <tr>\n",
              "      <th>4</th>\n",
              "      <td>2019-01-06</td>\n",
              "      <td>157.744831</td>\n",
              "    </tr>\n",
              "    <tr>\n",
              "      <th>...</th>\n",
              "      <td>...</td>\n",
              "      <td>...</td>\n",
              "    </tr>\n",
              "    <tr>\n",
              "      <th>509</th>\n",
              "      <td>2020-05-25</td>\n",
              "      <td>210.013608</td>\n",
              "    </tr>\n",
              "    <tr>\n",
              "      <th>510</th>\n",
              "      <td>2020-05-26</td>\n",
              "      <td>210.192775</td>\n",
              "    </tr>\n",
              "    <tr>\n",
              "      <th>511</th>\n",
              "      <td>2020-05-27</td>\n",
              "      <td>210.369550</td>\n",
              "    </tr>\n",
              "    <tr>\n",
              "      <th>512</th>\n",
              "      <td>2020-05-28</td>\n",
              "      <td>210.621678</td>\n",
              "    </tr>\n",
              "    <tr>\n",
              "      <th>513</th>\n",
              "      <td>2020-05-29</td>\n",
              "      <td>210.666358</td>\n",
              "    </tr>\n",
              "  </tbody>\n",
              "</table>\n",
              "<p>514 rows × 2 columns</p>\n",
              "</div>"
            ],
            "text/plain": [
              "          Date        yhat\n",
              "0   2019-01-02  154.740168\n",
              "1   2019-01-03  155.150989\n",
              "2   2019-01-04  155.367708\n",
              "3   2019-01-05  157.454294\n",
              "4   2019-01-06  157.744831\n",
              "..         ...         ...\n",
              "509 2020-05-25  210.013608\n",
              "510 2020-05-26  210.192775\n",
              "511 2020-05-27  210.369550\n",
              "512 2020-05-28  210.621678\n",
              "513 2020-05-29  210.666358\n",
              "\n",
              "[514 rows x 2 columns]"
            ]
          },
          "metadata": {
            "tags": []
          },
          "execution_count": 120
        }
      ]
    },
    {
      "cell_type": "code",
      "metadata": {
        "id": "sqXVTSZdG89x"
      },
      "source": [
        "dfans_prophet = dfans.copy(deep=True)"
      ],
      "execution_count": null,
      "outputs": []
    },
    {
      "cell_type": "code",
      "metadata": {
        "id": "F1mvZ7-DV4BV",
        "outputId": "1e37abe8-792d-4519-a6e1-86322933ca86",
        "colab": {
          "base_uri": "https://localhost:8080/",
          "height": 419
        }
      },
      "source": [
        "dfans_prophet"
      ],
      "execution_count": null,
      "outputs": [
        {
          "output_type": "execute_result",
          "data": {
            "text/html": [
              "<div>\n",
              "<style scoped>\n",
              "    .dataframe tbody tr th:only-of-type {\n",
              "        vertical-align: middle;\n",
              "    }\n",
              "\n",
              "    .dataframe tbody tr th {\n",
              "        vertical-align: top;\n",
              "    }\n",
              "\n",
              "    .dataframe thead th {\n",
              "        text-align: right;\n",
              "    }\n",
              "</style>\n",
              "<table border=\"1\" class=\"dataframe\">\n",
              "  <thead>\n",
              "    <tr style=\"text-align: right;\">\n",
              "      <th></th>\n",
              "      <th>Date</th>\n",
              "      <th>Close</th>\n",
              "    </tr>\n",
              "  </thead>\n",
              "  <tbody>\n",
              "    <tr>\n",
              "      <th>0</th>\n",
              "      <td>2/01/2019</td>\n",
              "      <td>100</td>\n",
              "    </tr>\n",
              "    <tr>\n",
              "      <th>1</th>\n",
              "      <td>3/01/2019</td>\n",
              "      <td>100</td>\n",
              "    </tr>\n",
              "    <tr>\n",
              "      <th>2</th>\n",
              "      <td>4/01/2019</td>\n",
              "      <td>100</td>\n",
              "    </tr>\n",
              "    <tr>\n",
              "      <th>3</th>\n",
              "      <td>7/01/2019</td>\n",
              "      <td>100</td>\n",
              "    </tr>\n",
              "    <tr>\n",
              "      <th>4</th>\n",
              "      <td>8/01/2019</td>\n",
              "      <td>100</td>\n",
              "    </tr>\n",
              "    <tr>\n",
              "      <th>...</th>\n",
              "      <td>...</td>\n",
              "      <td>...</td>\n",
              "    </tr>\n",
              "    <tr>\n",
              "      <th>350</th>\n",
              "      <td>22/05/2020</td>\n",
              "      <td>100</td>\n",
              "    </tr>\n",
              "    <tr>\n",
              "      <th>351</th>\n",
              "      <td>26/05/2020</td>\n",
              "      <td>100</td>\n",
              "    </tr>\n",
              "    <tr>\n",
              "      <th>352</th>\n",
              "      <td>27/05/2020</td>\n",
              "      <td>100</td>\n",
              "    </tr>\n",
              "    <tr>\n",
              "      <th>353</th>\n",
              "      <td>28/05/2020</td>\n",
              "      <td>100</td>\n",
              "    </tr>\n",
              "    <tr>\n",
              "      <th>354</th>\n",
              "      <td>29/05/2020</td>\n",
              "      <td>100</td>\n",
              "    </tr>\n",
              "  </tbody>\n",
              "</table>\n",
              "<p>355 rows × 2 columns</p>\n",
              "</div>"
            ],
            "text/plain": [
              "           Date  Close\n",
              "0     2/01/2019    100\n",
              "1     3/01/2019    100\n",
              "2     4/01/2019    100\n",
              "3     7/01/2019    100\n",
              "4     8/01/2019    100\n",
              "..          ...    ...\n",
              "350  22/05/2020    100\n",
              "351  26/05/2020    100\n",
              "352  27/05/2020    100\n",
              "353  28/05/2020    100\n",
              "354  29/05/2020    100\n",
              "\n",
              "[355 rows x 2 columns]"
            ]
          },
          "metadata": {
            "tags": []
          },
          "execution_count": 122
        }
      ]
    },
    {
      "cell_type": "code",
      "metadata": {
        "id": "hdp1PDF5Qf0w"
      },
      "source": [
        "dfans_prophet[\"Date\"] = pd.to_datetime(dfans_prophet[\"Date\"], dayfirst=True)"
      ],
      "execution_count": null,
      "outputs": []
    },
    {
      "cell_type": "code",
      "metadata": {
        "id": "u_026Fc2WO9k",
        "outputId": "a091d973-5be7-4190-f055-f4a36c2d64e1",
        "colab": {
          "base_uri": "https://localhost:8080/",
          "height": 669
        }
      },
      "source": [
        "dfans_prophet.head(20) #YYYY-MM-DD"
      ],
      "execution_count": null,
      "outputs": [
        {
          "output_type": "execute_result",
          "data": {
            "text/html": [
              "<div>\n",
              "<style scoped>\n",
              "    .dataframe tbody tr th:only-of-type {\n",
              "        vertical-align: middle;\n",
              "    }\n",
              "\n",
              "    .dataframe tbody tr th {\n",
              "        vertical-align: top;\n",
              "    }\n",
              "\n",
              "    .dataframe thead th {\n",
              "        text-align: right;\n",
              "    }\n",
              "</style>\n",
              "<table border=\"1\" class=\"dataframe\">\n",
              "  <thead>\n",
              "    <tr style=\"text-align: right;\">\n",
              "      <th></th>\n",
              "      <th>Date</th>\n",
              "      <th>Close</th>\n",
              "    </tr>\n",
              "  </thead>\n",
              "  <tbody>\n",
              "    <tr>\n",
              "      <th>0</th>\n",
              "      <td>2019-01-02</td>\n",
              "      <td>100</td>\n",
              "    </tr>\n",
              "    <tr>\n",
              "      <th>1</th>\n",
              "      <td>2019-01-03</td>\n",
              "      <td>100</td>\n",
              "    </tr>\n",
              "    <tr>\n",
              "      <th>2</th>\n",
              "      <td>2019-01-04</td>\n",
              "      <td>100</td>\n",
              "    </tr>\n",
              "    <tr>\n",
              "      <th>3</th>\n",
              "      <td>2019-01-07</td>\n",
              "      <td>100</td>\n",
              "    </tr>\n",
              "    <tr>\n",
              "      <th>4</th>\n",
              "      <td>2019-01-08</td>\n",
              "      <td>100</td>\n",
              "    </tr>\n",
              "    <tr>\n",
              "      <th>5</th>\n",
              "      <td>2019-01-09</td>\n",
              "      <td>100</td>\n",
              "    </tr>\n",
              "    <tr>\n",
              "      <th>6</th>\n",
              "      <td>2019-01-10</td>\n",
              "      <td>100</td>\n",
              "    </tr>\n",
              "    <tr>\n",
              "      <th>7</th>\n",
              "      <td>2019-01-11</td>\n",
              "      <td>100</td>\n",
              "    </tr>\n",
              "    <tr>\n",
              "      <th>8</th>\n",
              "      <td>2019-01-14</td>\n",
              "      <td>100</td>\n",
              "    </tr>\n",
              "    <tr>\n",
              "      <th>9</th>\n",
              "      <td>2019-01-15</td>\n",
              "      <td>100</td>\n",
              "    </tr>\n",
              "    <tr>\n",
              "      <th>10</th>\n",
              "      <td>2019-01-16</td>\n",
              "      <td>100</td>\n",
              "    </tr>\n",
              "    <tr>\n",
              "      <th>11</th>\n",
              "      <td>2019-01-17</td>\n",
              "      <td>100</td>\n",
              "    </tr>\n",
              "    <tr>\n",
              "      <th>12</th>\n",
              "      <td>2019-01-18</td>\n",
              "      <td>100</td>\n",
              "    </tr>\n",
              "    <tr>\n",
              "      <th>13</th>\n",
              "      <td>2019-01-22</td>\n",
              "      <td>100</td>\n",
              "    </tr>\n",
              "    <tr>\n",
              "      <th>14</th>\n",
              "      <td>2019-01-23</td>\n",
              "      <td>100</td>\n",
              "    </tr>\n",
              "    <tr>\n",
              "      <th>15</th>\n",
              "      <td>2019-01-24</td>\n",
              "      <td>100</td>\n",
              "    </tr>\n",
              "    <tr>\n",
              "      <th>16</th>\n",
              "      <td>2019-01-25</td>\n",
              "      <td>100</td>\n",
              "    </tr>\n",
              "    <tr>\n",
              "      <th>17</th>\n",
              "      <td>2019-01-28</td>\n",
              "      <td>100</td>\n",
              "    </tr>\n",
              "    <tr>\n",
              "      <th>18</th>\n",
              "      <td>2019-01-29</td>\n",
              "      <td>100</td>\n",
              "    </tr>\n",
              "    <tr>\n",
              "      <th>19</th>\n",
              "      <td>2019-01-30</td>\n",
              "      <td>100</td>\n",
              "    </tr>\n",
              "  </tbody>\n",
              "</table>\n",
              "</div>"
            ],
            "text/plain": [
              "         Date  Close\n",
              "0  2019-01-02    100\n",
              "1  2019-01-03    100\n",
              "2  2019-01-04    100\n",
              "3  2019-01-07    100\n",
              "4  2019-01-08    100\n",
              "5  2019-01-09    100\n",
              "6  2019-01-10    100\n",
              "7  2019-01-11    100\n",
              "8  2019-01-14    100\n",
              "9  2019-01-15    100\n",
              "10 2019-01-16    100\n",
              "11 2019-01-17    100\n",
              "12 2019-01-18    100\n",
              "13 2019-01-22    100\n",
              "14 2019-01-23    100\n",
              "15 2019-01-24    100\n",
              "16 2019-01-25    100\n",
              "17 2019-01-28    100\n",
              "18 2019-01-29    100\n",
              "19 2019-01-30    100"
            ]
          },
          "metadata": {
            "tags": []
          },
          "execution_count": 124
        }
      ]
    },
    {
      "cell_type": "code",
      "metadata": {
        "id": "FoGhPE8rHCNJ"
      },
      "source": [
        "dfans_prophet_final = pd.merge(dfans_prophet, dfprof, on=['Date'], how='inner')"
      ],
      "execution_count": null,
      "outputs": []
    },
    {
      "cell_type": "code",
      "metadata": {
        "id": "xxAg0bh9LMJz",
        "outputId": "11404a58-985a-44dd-f8f1-4de0dcff3d90",
        "colab": {
          "base_uri": "https://localhost:8080/",
          "height": 419
        }
      },
      "source": [
        "#predicted stock prices on trading days only\n",
        "dfans_prophet_final"
      ],
      "execution_count": null,
      "outputs": [
        {
          "output_type": "execute_result",
          "data": {
            "text/html": [
              "<div>\n",
              "<style scoped>\n",
              "    .dataframe tbody tr th:only-of-type {\n",
              "        vertical-align: middle;\n",
              "    }\n",
              "\n",
              "    .dataframe tbody tr th {\n",
              "        vertical-align: top;\n",
              "    }\n",
              "\n",
              "    .dataframe thead th {\n",
              "        text-align: right;\n",
              "    }\n",
              "</style>\n",
              "<table border=\"1\" class=\"dataframe\">\n",
              "  <thead>\n",
              "    <tr style=\"text-align: right;\">\n",
              "      <th></th>\n",
              "      <th>Date</th>\n",
              "      <th>Close</th>\n",
              "      <th>yhat</th>\n",
              "    </tr>\n",
              "  </thead>\n",
              "  <tbody>\n",
              "    <tr>\n",
              "      <th>0</th>\n",
              "      <td>2019-01-02</td>\n",
              "      <td>100</td>\n",
              "      <td>154.740168</td>\n",
              "    </tr>\n",
              "    <tr>\n",
              "      <th>1</th>\n",
              "      <td>2019-01-03</td>\n",
              "      <td>100</td>\n",
              "      <td>155.150989</td>\n",
              "    </tr>\n",
              "    <tr>\n",
              "      <th>2</th>\n",
              "      <td>2019-01-04</td>\n",
              "      <td>100</td>\n",
              "      <td>155.367708</td>\n",
              "    </tr>\n",
              "    <tr>\n",
              "      <th>3</th>\n",
              "      <td>2019-01-07</td>\n",
              "      <td>100</td>\n",
              "      <td>156.079865</td>\n",
              "    </tr>\n",
              "    <tr>\n",
              "      <th>4</th>\n",
              "      <td>2019-01-08</td>\n",
              "      <td>100</td>\n",
              "      <td>156.408467</td>\n",
              "    </tr>\n",
              "    <tr>\n",
              "      <th>...</th>\n",
              "      <td>...</td>\n",
              "      <td>...</td>\n",
              "      <td>...</td>\n",
              "    </tr>\n",
              "    <tr>\n",
              "      <th>350</th>\n",
              "      <td>2020-05-22</td>\n",
              "      <td>100</td>\n",
              "      <td>209.742798</td>\n",
              "    </tr>\n",
              "    <tr>\n",
              "      <th>351</th>\n",
              "      <td>2020-05-26</td>\n",
              "      <td>100</td>\n",
              "      <td>210.192775</td>\n",
              "    </tr>\n",
              "    <tr>\n",
              "      <th>352</th>\n",
              "      <td>2020-05-27</td>\n",
              "      <td>100</td>\n",
              "      <td>210.369550</td>\n",
              "    </tr>\n",
              "    <tr>\n",
              "      <th>353</th>\n",
              "      <td>2020-05-28</td>\n",
              "      <td>100</td>\n",
              "      <td>210.621678</td>\n",
              "    </tr>\n",
              "    <tr>\n",
              "      <th>354</th>\n",
              "      <td>2020-05-29</td>\n",
              "      <td>100</td>\n",
              "      <td>210.666358</td>\n",
              "    </tr>\n",
              "  </tbody>\n",
              "</table>\n",
              "<p>355 rows × 3 columns</p>\n",
              "</div>"
            ],
            "text/plain": [
              "          Date  Close        yhat\n",
              "0   2019-01-02    100  154.740168\n",
              "1   2019-01-03    100  155.150989\n",
              "2   2019-01-04    100  155.367708\n",
              "3   2019-01-07    100  156.079865\n",
              "4   2019-01-08    100  156.408467\n",
              "..         ...    ...         ...\n",
              "350 2020-05-22    100  209.742798\n",
              "351 2020-05-26    100  210.192775\n",
              "352 2020-05-27    100  210.369550\n",
              "353 2020-05-28    100  210.621678\n",
              "354 2020-05-29    100  210.666358\n",
              "\n",
              "[355 rows x 3 columns]"
            ]
          },
          "metadata": {
            "tags": []
          },
          "execution_count": 126
        }
      ]
    },
    {
      "cell_type": "code",
      "metadata": {
        "id": "IFE83wsxLUoq"
      },
      "source": [
        "dfans_prophet_final.drop([\"Close\"], axis=1, inplace=True)"
      ],
      "execution_count": null,
      "outputs": []
    },
    {
      "cell_type": "code",
      "metadata": {
        "id": "S1RTV8LXLaNN"
      },
      "source": [
        "dfans_prophet_final.rename(columns={'yhat':'Close'}, inplace=True)"
      ],
      "execution_count": null,
      "outputs": []
    },
    {
      "cell_type": "code",
      "metadata": {
        "id": "-wv1qCTRSh8r"
      },
      "source": [
        "dfans_prophet_final['Date'] = (dfans_prophet_final['Date']).dt.strftime(\"%e/%m/%Y\")"
      ],
      "execution_count": null,
      "outputs": []
    },
    {
      "cell_type": "code",
      "metadata": {
        "id": "com2_cpET7Q_",
        "outputId": "04db7897-5a92-47f5-fc89-8919f106008d",
        "colab": {
          "base_uri": "https://localhost:8080/",
          "height": 204
        }
      },
      "source": [
        "dfans_prophet_final.head()"
      ],
      "execution_count": null,
      "outputs": [
        {
          "output_type": "execute_result",
          "data": {
            "text/html": [
              "<div>\n",
              "<style scoped>\n",
              "    .dataframe tbody tr th:only-of-type {\n",
              "        vertical-align: middle;\n",
              "    }\n",
              "\n",
              "    .dataframe tbody tr th {\n",
              "        vertical-align: top;\n",
              "    }\n",
              "\n",
              "    .dataframe thead th {\n",
              "        text-align: right;\n",
              "    }\n",
              "</style>\n",
              "<table border=\"1\" class=\"dataframe\">\n",
              "  <thead>\n",
              "    <tr style=\"text-align: right;\">\n",
              "      <th></th>\n",
              "      <th>Date</th>\n",
              "      <th>Close</th>\n",
              "    </tr>\n",
              "  </thead>\n",
              "  <tbody>\n",
              "    <tr>\n",
              "      <th>0</th>\n",
              "      <td>2/01/2019</td>\n",
              "      <td>154.740168</td>\n",
              "    </tr>\n",
              "    <tr>\n",
              "      <th>1</th>\n",
              "      <td>3/01/2019</td>\n",
              "      <td>155.150989</td>\n",
              "    </tr>\n",
              "    <tr>\n",
              "      <th>2</th>\n",
              "      <td>4/01/2019</td>\n",
              "      <td>155.367708</td>\n",
              "    </tr>\n",
              "    <tr>\n",
              "      <th>3</th>\n",
              "      <td>7/01/2019</td>\n",
              "      <td>156.079865</td>\n",
              "    </tr>\n",
              "    <tr>\n",
              "      <th>4</th>\n",
              "      <td>8/01/2019</td>\n",
              "      <td>156.408467</td>\n",
              "    </tr>\n",
              "  </tbody>\n",
              "</table>\n",
              "</div>"
            ],
            "text/plain": [
              "         Date       Close\n",
              "0   2/01/2019  154.740168\n",
              "1   3/01/2019  155.150989\n",
              "2   4/01/2019  155.367708\n",
              "3   7/01/2019  156.079865\n",
              "4   8/01/2019  156.408467"
            ]
          },
          "metadata": {
            "tags": []
          },
          "execution_count": 130
        }
      ]
    },
    {
      "cell_type": "code",
      "metadata": {
        "id": "gHDg-1twX-vT"
      },
      "source": [
        "df_prophet = dfans.copy(deep=True)"
      ],
      "execution_count": null,
      "outputs": []
    },
    {
      "cell_type": "code",
      "metadata": {
        "id": "hMh_a6MnYId0"
      },
      "source": [
        "df_prophet[\"Close\"] = dfans_prophet_final[\"Close\"]"
      ],
      "execution_count": null,
      "outputs": []
    },
    {
      "cell_type": "code",
      "metadata": {
        "id": "65NrXTliYM2R",
        "outputId": "8060061f-ea7c-4374-f976-49ad53f1e4aa",
        "colab": {
          "base_uri": "https://localhost:8080/",
          "height": 419
        }
      },
      "source": [
        "df_prophet"
      ],
      "execution_count": null,
      "outputs": [
        {
          "output_type": "execute_result",
          "data": {
            "text/html": [
              "<div>\n",
              "<style scoped>\n",
              "    .dataframe tbody tr th:only-of-type {\n",
              "        vertical-align: middle;\n",
              "    }\n",
              "\n",
              "    .dataframe tbody tr th {\n",
              "        vertical-align: top;\n",
              "    }\n",
              "\n",
              "    .dataframe thead th {\n",
              "        text-align: right;\n",
              "    }\n",
              "</style>\n",
              "<table border=\"1\" class=\"dataframe\">\n",
              "  <thead>\n",
              "    <tr style=\"text-align: right;\">\n",
              "      <th></th>\n",
              "      <th>Date</th>\n",
              "      <th>Close</th>\n",
              "    </tr>\n",
              "  </thead>\n",
              "  <tbody>\n",
              "    <tr>\n",
              "      <th>0</th>\n",
              "      <td>2/01/2019</td>\n",
              "      <td>154.740168</td>\n",
              "    </tr>\n",
              "    <tr>\n",
              "      <th>1</th>\n",
              "      <td>3/01/2019</td>\n",
              "      <td>155.150989</td>\n",
              "    </tr>\n",
              "    <tr>\n",
              "      <th>2</th>\n",
              "      <td>4/01/2019</td>\n",
              "      <td>155.367708</td>\n",
              "    </tr>\n",
              "    <tr>\n",
              "      <th>3</th>\n",
              "      <td>7/01/2019</td>\n",
              "      <td>156.079865</td>\n",
              "    </tr>\n",
              "    <tr>\n",
              "      <th>4</th>\n",
              "      <td>8/01/2019</td>\n",
              "      <td>156.408467</td>\n",
              "    </tr>\n",
              "    <tr>\n",
              "      <th>...</th>\n",
              "      <td>...</td>\n",
              "      <td>...</td>\n",
              "    </tr>\n",
              "    <tr>\n",
              "      <th>350</th>\n",
              "      <td>22/05/2020</td>\n",
              "      <td>209.742798</td>\n",
              "    </tr>\n",
              "    <tr>\n",
              "      <th>351</th>\n",
              "      <td>26/05/2020</td>\n",
              "      <td>210.192775</td>\n",
              "    </tr>\n",
              "    <tr>\n",
              "      <th>352</th>\n",
              "      <td>27/05/2020</td>\n",
              "      <td>210.369550</td>\n",
              "    </tr>\n",
              "    <tr>\n",
              "      <th>353</th>\n",
              "      <td>28/05/2020</td>\n",
              "      <td>210.621678</td>\n",
              "    </tr>\n",
              "    <tr>\n",
              "      <th>354</th>\n",
              "      <td>29/05/2020</td>\n",
              "      <td>210.666358</td>\n",
              "    </tr>\n",
              "  </tbody>\n",
              "</table>\n",
              "<p>355 rows × 2 columns</p>\n",
              "</div>"
            ],
            "text/plain": [
              "           Date       Close\n",
              "0     2/01/2019  154.740168\n",
              "1     3/01/2019  155.150989\n",
              "2     4/01/2019  155.367708\n",
              "3     7/01/2019  156.079865\n",
              "4     8/01/2019  156.408467\n",
              "..          ...         ...\n",
              "350  22/05/2020  209.742798\n",
              "351  26/05/2020  210.192775\n",
              "352  27/05/2020  210.369550\n",
              "353  28/05/2020  210.621678\n",
              "354  29/05/2020  210.666358\n",
              "\n",
              "[355 rows x 2 columns]"
            ]
          },
          "metadata": {
            "tags": []
          },
          "execution_count": 133
        }
      ]
    },
    {
      "cell_type": "code",
      "metadata": {
        "id": "IepR3WqTbZyK",
        "outputId": "508e4fd0-b7b0-47da-8a5f-6943642cacd0",
        "colab": {
          "base_uri": "https://localhost:8080/",
          "height": 34
        }
      },
      "source": [
        "from google.colab import drive\n",
        "drive.mount('drive')"
      ],
      "execution_count": null,
      "outputs": [
        {
          "output_type": "stream",
          "text": [
            "Drive already mounted at drive; to attempt to forcibly remount, call drive.mount(\"drive\", force_remount=True).\n"
          ],
          "name": "stdout"
        }
      ]
    },
    {
      "cell_type": "code",
      "metadata": {
        "id": "ef1zrcrmRI37",
        "outputId": "704f4d2b-e230-4a23-e0fc-89449dab27d3",
        "colab": {
          "base_uri": "https://localhost:8080/",
          "height": 34
        }
      },
      "source": [
        "import os\n",
        "os.chdir(\"/content/drive/\")\n",
        "!ls"
      ],
      "execution_count": null,
      "outputs": [
        {
          "output_type": "stream",
          "text": [
            "'My Drive'\n"
          ],
          "name": "stdout"
        }
      ]
    },
    {
      "cell_type": "code",
      "metadata": {
        "id": "DRtmLSJpRI02"
      },
      "source": [
        "submission_prophet3 = df_prophet.to_csv('/content/drive/My Drive/Fintech_Project_1/submission_prophet3.csv', index=False)"
      ],
      "execution_count": null,
      "outputs": []
    }
  ]
}
